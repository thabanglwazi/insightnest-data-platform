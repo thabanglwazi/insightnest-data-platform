{
 "cells": [
  {
   "cell_type": "markdown",
   "id": "1b22d7f8",
   "metadata": {},
   "source": [
    "# Insightnest Vegetable Prices Analysis\n",
    "\n",
    "<h1>Table of content<h1/>\n"
   ]
  },
  {
   "cell_type": "markdown",
   "id": "a7916b21",
   "metadata": {},
   "source": [
    "<h1>Installing of required packages</h1>"
   ]
  },
  {
   "cell_type": "code",
   "execution_count": 2,
   "id": "43d8f16c",
   "metadata": {},
   "outputs": [
    {
     "name": "stdout",
     "output_type": "stream",
     "text": [
      "Note: you may need to restart the kernel to use updated packages.\n"
     ]
    },
    {
     "name": "stderr",
     "output_type": "stream",
     "text": [
      "ERROR: Invalid requirement: '#': Expected package name at the start of dependency specifier\n",
      "    #\n",
      "    ^\n"
     ]
    }
   ],
   "source": [
    "pip install kagglehub # type: ignore"
   ]
  },
  {
   "cell_type": "code",
   "execution_count": 3,
   "id": "148ed810-1210-465d-8a59-89b219307c38",
   "metadata": {},
   "outputs": [
    {
     "name": "stdout",
     "output_type": "stream",
     "text": [
      "Note: you may need to restart the kernel to use updated packages.\n"
     ]
    },
    {
     "name": "stderr",
     "output_type": "stream",
     "text": [
      "ERROR: Invalid requirement: '#': Expected package name at the start of dependency specifier\n",
      "    #\n",
      "    ^\n"
     ]
    }
   ],
   "source": [
    "pip install ipywidgets # type: ignore"
   ]
  },
  {
   "cell_type": "markdown",
   "id": "059eb065",
   "metadata": {},
   "source": [
    "<h2>Data Extraction</h2>"
   ]
  },
  {
   "cell_type": "markdown",
   "id": "5fbac416",
   "metadata": {},
   "source": [
    "<h3>Importing of Packages and global variables</h3>"
   ]
  },
  {
   "cell_type": "code",
   "execution_count": 4,
   "id": "3c329823",
   "metadata": {},
   "outputs": [],
   "source": [
    "import pandas as pd\n",
    "import zipfile\n",
    "import os\n",
    "import tempfile\n",
    "import shutil\n",
    "import kagglehub\n",
    "from price_cleaner import clean_veg_price_data\n",
    "from scipy.stats import ttest_ind\n",
    "import matplotlib.pyplot as plt"
   ]
  },
  {
   "cell_type": "markdown",
   "id": "437b7849",
   "metadata": {},
   "source": []
  },
  {
   "cell_type": "markdown",
   "id": "8a095590",
   "metadata": {},
   "source": [
    "<h3>Extracting data into Dataframe</h3>"
   ]
  },
  {
   "cell_type": "code",
   "execution_count": 5,
   "id": "3232fb6e",
   "metadata": {},
   "outputs": [
    {
     "name": "stdout",
     "output_type": "stream",
     "text": [
      "Downloaded to: C:\\Users\\Bulelwa\\.cache\\kagglehub\\datasets\\ksamiksha19\\vegetable-prices\\versions\\3\n",
      "Loaded 1 file(s) into a single DataFrame with shape (287, 11).\n",
      "  Price Dates  Bhindi (Ladies finger)  Tomato  Onion  Potato  Brinjal  Garlic  \\\n",
      "0  01-01-2023                    35.0      18   22.0      20       30      50   \n",
      "1  02-01-2023                    35.0      16   22.0      20       30      55   \n",
      "2  03-01-2023                    35.0      16   21.0      20       30      55   \n",
      "3  04-01-2023                    30.0      16   21.0      22       25      55   \n",
      "4  08-01-2023                    35.0      16   20.0      21       25      55   \n",
      "\n",
      "   Peas  Methi  Green Chilli  Elephant Yam (Suran)  \n",
      "0    25      8          45.0                    25  \n",
      "1    25      7          40.0                    25  \n",
      "2    25      7          40.0                    25  \n",
      "3    25      7          40.0                    25  \n",
      "4    22      6          35.0                    25  \n"
     ]
    }
   ],
   "source": [
    "# 1. Download latest version of the dataset\n",
    "zip_or_dir = kagglehub.dataset_download(\"ksamiksha19/vegetable-prices\")\n",
    "print(\"Downloaded to:\", zip_or_dir)\n",
    "\n",
    "# 2. Prepare a temp directory for extraction or reading\n",
    "workdir = tempfile.mkdtemp(prefix=\"veg_prices_\")\n",
    "\n",
    "try:\n",
    "    # 3. If it's a ZIP, extract; otherwise assume it's a directory\n",
    "    if zipfile.is_zipfile(zip_or_dir):\n",
    "        with zipfile.ZipFile(zip_or_dir, \"r\") as z:\n",
    "            z.extractall(workdir)\n",
    "    else:\n",
    "        # copy all files into workdir\n",
    "        for fname in os.listdir(zip_or_dir):\n",
    "            shutil.copy(os.path.join(zip_or_dir, fname), workdir)\n",
    "\n",
    "    # 4. Find all CSV files in workdir\n",
    "    csv_files = [\n",
    "        os.path.join(workdir, f)\n",
    "        for f in os.listdir(workdir)\n",
    "        if f.lower().endswith(\".csv\")\n",
    "    ]\n",
    "    if not csv_files:\n",
    "        raise FileNotFoundError(\"No CSV files found in the dataset.\")\n",
    "\n",
    "    # 5. Read and concatenate into one DataFrame\n",
    "    dfs = [pd.read_csv(f) for f in csv_files]\n",
    "    df = pd.concat(dfs, ignore_index=True)\n",
    "    print(f\"Loaded {len(dfs)} file(s) into a single DataFrame with shape {df.shape}.\")\n",
    "\n",
    "    # 6. (Optional) quick preview\n",
    "    print(df.head())\n",
    "\n",
    "finally:\n",
    "    # clean up temp folder\n",
    "    shutil.rmtree(workdir)"
   ]
  },
  {
   "cell_type": "markdown",
   "id": "b1e8df35",
   "metadata": {},
   "source": [
    "## Preliminary Data Inspection"
   ]
  },
  {
   "cell_type": "code",
   "execution_count": 6,
   "id": "34a56b62",
   "metadata": {},
   "outputs": [
    {
     "name": "stdout",
     "output_type": "stream",
     "text": [
      "<class 'pandas.core.frame.DataFrame'>\n",
      "RangeIndex: 287 entries, 0 to 286\n",
      "Data columns (total 11 columns):\n",
      " #   Column                  Non-Null Count  Dtype  \n",
      "---  ------                  --------------  -----  \n",
      " 0   Price Dates             287 non-null    object \n",
      " 1   Bhindi (Ladies finger)  287 non-null    float64\n",
      " 2   Tomato                  287 non-null    int64  \n",
      " 3   Onion                   287 non-null    float64\n",
      " 4   Potato                  287 non-null    int64  \n",
      " 5   Brinjal                 287 non-null    int64  \n",
      " 6   Garlic                  287 non-null    int64  \n",
      " 7   Peas                    287 non-null    int64  \n",
      " 8   Methi                   287 non-null    int64  \n",
      " 9   Green Chilli            287 non-null    float64\n",
      " 10  Elephant Yam (Suran)    287 non-null    int64  \n",
      "dtypes: float64(3), int64(7), object(1)\n",
      "memory usage: 24.8+ KB\n"
     ]
    }
   ],
   "source": [
    "# Show structure and types\n",
    "df.info()"
   ]
  },
  {
   "cell_type": "code",
   "execution_count": 7,
   "id": "9dfe34a7",
   "metadata": {},
   "outputs": [
    {
     "data": {
      "text/html": [
       "<div>\n",
       "<style scoped>\n",
       "    .dataframe tbody tr th:only-of-type {\n",
       "        vertical-align: middle;\n",
       "    }\n",
       "\n",
       "    .dataframe tbody tr th {\n",
       "        vertical-align: top;\n",
       "    }\n",
       "\n",
       "    .dataframe thead th {\n",
       "        text-align: right;\n",
       "    }\n",
       "</style>\n",
       "<table border=\"1\" class=\"dataframe\">\n",
       "  <thead>\n",
       "    <tr style=\"text-align: right;\">\n",
       "      <th></th>\n",
       "      <th>Bhindi (Ladies finger)</th>\n",
       "      <th>Tomato</th>\n",
       "      <th>Onion</th>\n",
       "      <th>Potato</th>\n",
       "      <th>Brinjal</th>\n",
       "      <th>Garlic</th>\n",
       "      <th>Peas</th>\n",
       "      <th>Methi</th>\n",
       "      <th>Green Chilli</th>\n",
       "      <th>Elephant Yam (Suran)</th>\n",
       "    </tr>\n",
       "  </thead>\n",
       "  <tbody>\n",
       "    <tr>\n",
       "      <th>count</th>\n",
       "      <td>287.000000</td>\n",
       "      <td>287.000000</td>\n",
       "      <td>287.000000</td>\n",
       "      <td>287.000000</td>\n",
       "      <td>287.000000</td>\n",
       "      <td>287.000000</td>\n",
       "      <td>287.000000</td>\n",
       "      <td>287.000000</td>\n",
       "      <td>287.000000</td>\n",
       "      <td>287.000000</td>\n",
       "    </tr>\n",
       "    <tr>\n",
       "      <th>mean</th>\n",
       "      <td>29.444251</td>\n",
       "      <td>16.006969</td>\n",
       "      <td>20.649826</td>\n",
       "      <td>18.585366</td>\n",
       "      <td>31.655052</td>\n",
       "      <td>133.101045</td>\n",
       "      <td>66.658537</td>\n",
       "      <td>20.383275</td>\n",
       "      <td>44.122404</td>\n",
       "      <td>28.797909</td>\n",
       "    </tr>\n",
       "    <tr>\n",
       "      <th>std</th>\n",
       "      <td>8.124815</td>\n",
       "      <td>0.118056</td>\n",
       "      <td>11.711204</td>\n",
       "      <td>2.726238</td>\n",
       "      <td>11.725421</td>\n",
       "      <td>60.078331</td>\n",
       "      <td>33.302415</td>\n",
       "      <td>117.428417</td>\n",
       "      <td>12.796590</td>\n",
       "      <td>6.607973</td>\n",
       "    </tr>\n",
       "    <tr>\n",
       "      <th>min</th>\n",
       "      <td>17.000000</td>\n",
       "      <td>16.000000</td>\n",
       "      <td>8.000000</td>\n",
       "      <td>12.000000</td>\n",
       "      <td>14.000000</td>\n",
       "      <td>50.000000</td>\n",
       "      <td>22.000000</td>\n",
       "      <td>5.000000</td>\n",
       "      <td>0.130000</td>\n",
       "      <td>12.000000</td>\n",
       "    </tr>\n",
       "    <tr>\n",
       "      <th>25%</th>\n",
       "      <td>22.000000</td>\n",
       "      <td>16.000000</td>\n",
       "      <td>12.000000</td>\n",
       "      <td>16.000000</td>\n",
       "      <td>25.000000</td>\n",
       "      <td>85.000000</td>\n",
       "      <td>40.000000</td>\n",
       "      <td>8.000000</td>\n",
       "      <td>35.000000</td>\n",
       "      <td>25.000000</td>\n",
       "    </tr>\n",
       "    <tr>\n",
       "      <th>50%</th>\n",
       "      <td>27.500000</td>\n",
       "      <td>16.000000</td>\n",
       "      <td>16.000000</td>\n",
       "      <td>20.000000</td>\n",
       "      <td>30.000000</td>\n",
       "      <td>120.000000</td>\n",
       "      <td>60.000000</td>\n",
       "      <td>12.000000</td>\n",
       "      <td>40.000000</td>\n",
       "      <td>30.000000</td>\n",
       "    </tr>\n",
       "    <tr>\n",
       "      <th>75%</th>\n",
       "      <td>33.000000</td>\n",
       "      <td>16.000000</td>\n",
       "      <td>25.000000</td>\n",
       "      <td>20.000000</td>\n",
       "      <td>35.000000</td>\n",
       "      <td>165.000000</td>\n",
       "      <td>80.000000</td>\n",
       "      <td>16.000000</td>\n",
       "      <td>50.000000</td>\n",
       "      <td>30.000000</td>\n",
       "    </tr>\n",
       "    <tr>\n",
       "      <th>max</th>\n",
       "      <td>60.000000</td>\n",
       "      <td>18.000000</td>\n",
       "      <td>57.000000</td>\n",
       "      <td>24.000000</td>\n",
       "      <td>80.000000</td>\n",
       "      <td>290.000000</td>\n",
       "      <td>150.000000</td>\n",
       "      <td>2000.000000</td>\n",
       "      <td>90.000000</td>\n",
       "      <td>50.000000</td>\n",
       "    </tr>\n",
       "  </tbody>\n",
       "</table>\n",
       "</div>"
      ],
      "text/plain": [
       "       Bhindi (Ladies finger)      Tomato       Onion      Potato     Brinjal  \\\n",
       "count              287.000000  287.000000  287.000000  287.000000  287.000000   \n",
       "mean                29.444251   16.006969   20.649826   18.585366   31.655052   \n",
       "std                  8.124815    0.118056   11.711204    2.726238   11.725421   \n",
       "min                 17.000000   16.000000    8.000000   12.000000   14.000000   \n",
       "25%                 22.000000   16.000000   12.000000   16.000000   25.000000   \n",
       "50%                 27.500000   16.000000   16.000000   20.000000   30.000000   \n",
       "75%                 33.000000   16.000000   25.000000   20.000000   35.000000   \n",
       "max                 60.000000   18.000000   57.000000   24.000000   80.000000   \n",
       "\n",
       "           Garlic        Peas        Methi  Green Chilli  Elephant Yam (Suran)  \n",
       "count  287.000000  287.000000   287.000000    287.000000            287.000000  \n",
       "mean   133.101045   66.658537    20.383275     44.122404             28.797909  \n",
       "std     60.078331   33.302415   117.428417     12.796590              6.607973  \n",
       "min     50.000000   22.000000     5.000000      0.130000             12.000000  \n",
       "25%     85.000000   40.000000     8.000000     35.000000             25.000000  \n",
       "50%    120.000000   60.000000    12.000000     40.000000             30.000000  \n",
       "75%    165.000000   80.000000    16.000000     50.000000             30.000000  \n",
       "max    290.000000  150.000000  2000.000000     90.000000             50.000000  "
      ]
     },
     "execution_count": 7,
     "metadata": {},
     "output_type": "execute_result"
    }
   ],
   "source": [
    "# Describe empirical statistics\n",
    "df.describe()"
   ]
  },
  {
   "cell_type": "markdown",
   "id": "6f568fa3",
   "metadata": {},
   "source": [
    "## Data Cleaning and Tranformation"
   ]
  },
  {
   "cell_type": "markdown",
   "id": "57c5cd6f",
   "metadata": {},
   "source": [
    "\n",
    "* Converted `Price Dates` to datetime format\n",
    "  → Enables time-based analysis such as trend detection and seasonal grouping.\n",
    "\n",
    "* Rounded all vegetable price columns to float with two decimal places\n",
    "  → Ensures consistency in numeric formatting for better readability and computation.\n",
    "\n",
    "* Handled non-numeric entries using `errors='coerce'`\n",
    "  → Replaces invalid or missing price values with NaN, avoiding processing errors.\n",
    "\n",
    "* Extracted `Month` from the date\n",
    "  → Allows aggregation and filtering by calendar month.\n",
    "\n",
    "* Derived `Season` from the month (Winter, Summer, Monsoon, Autumn)\n",
    "  → Supports hypothesis testing and trend comparison across seasons.\n",
    "\n",
    "\n",
    "\n"
   ]
  },
  {
   "cell_type": "code",
   "execution_count": 8,
   "id": "8f421d01",
   "metadata": {},
   "outputs": [
    {
     "data": {
      "text/plain": [
       "Price Dates               0\n",
       "Bhindi (Ladies finger)    0\n",
       "Tomato                    0\n",
       "Onion                     0\n",
       "Potato                    0\n",
       "Brinjal                   0\n",
       "Garlic                    0\n",
       "Peas                      0\n",
       "Methi                     0\n",
       "Green Chilli              0\n",
       "Elephant Yam (Suran)      0\n",
       "Month                     0\n",
       "Season                    0\n",
       "dtype: int64"
      ]
     },
     "execution_count": 8,
     "metadata": {},
     "output_type": "execute_result"
    }
   ],
   "source": [
    "# use the custom function to clean the data\n",
    "df_cleaned = clean_veg_price_data(df)\n",
    "#includes null or error converted\n",
    "df_cleaned.isnull().sum()"
   ]
  },
  {
   "cell_type": "code",
   "execution_count": 9,
   "id": "2f5114d8",
   "metadata": {},
   "outputs": [
    {
     "name": "stdout",
     "output_type": "stream",
     "text": [
      "<class 'pandas.core.frame.DataFrame'>\n",
      "RangeIndex: 287 entries, 0 to 286\n",
      "Data columns (total 13 columns):\n",
      " #   Column                  Non-Null Count  Dtype         \n",
      "---  ------                  --------------  -----         \n",
      " 0   Price Dates             287 non-null    datetime64[ns]\n",
      " 1   Bhindi (Ladies finger)  287 non-null    float64       \n",
      " 2   Tomato                  287 non-null    int64         \n",
      " 3   Onion                   287 non-null    float64       \n",
      " 4   Potato                  287 non-null    int64         \n",
      " 5   Brinjal                 287 non-null    int64         \n",
      " 6   Garlic                  287 non-null    int64         \n",
      " 7   Peas                    287 non-null    int64         \n",
      " 8   Methi                   287 non-null    int64         \n",
      " 9   Green Chilli            287 non-null    float64       \n",
      " 10  Elephant Yam (Suran)    287 non-null    int64         \n",
      " 11  Month                   287 non-null    int32         \n",
      " 12  Season                  287 non-null    object        \n",
      "dtypes: datetime64[ns](1), float64(3), int32(1), int64(7), object(1)\n",
      "memory usage: 28.2+ KB\n"
     ]
    }
   ],
   "source": [
    "#includes null or error converted\n",
    "df_cleaned.info()"
   ]
  },
  {
   "cell_type": "code",
   "execution_count": 10,
   "id": "3ba8c3d4",
   "metadata": {},
   "outputs": [
    {
     "data": {
      "text/html": [
       "<div>\n",
       "<style scoped>\n",
       "    .dataframe tbody tr th:only-of-type {\n",
       "        vertical-align: middle;\n",
       "    }\n",
       "\n",
       "    .dataframe tbody tr th {\n",
       "        vertical-align: top;\n",
       "    }\n",
       "\n",
       "    .dataframe thead th {\n",
       "        text-align: right;\n",
       "    }\n",
       "</style>\n",
       "<table border=\"1\" class=\"dataframe\">\n",
       "  <thead>\n",
       "    <tr style=\"text-align: right;\">\n",
       "      <th></th>\n",
       "      <th>Price Dates</th>\n",
       "      <th>Bhindi (Ladies finger)</th>\n",
       "      <th>Tomato</th>\n",
       "      <th>Onion</th>\n",
       "      <th>Potato</th>\n",
       "      <th>Brinjal</th>\n",
       "      <th>Garlic</th>\n",
       "      <th>Peas</th>\n",
       "      <th>Methi</th>\n",
       "      <th>Green Chilli</th>\n",
       "      <th>Elephant Yam (Suran)</th>\n",
       "      <th>Month</th>\n",
       "      <th>Season</th>\n",
       "    </tr>\n",
       "  </thead>\n",
       "  <tbody>\n",
       "    <tr>\n",
       "      <th>0</th>\n",
       "      <td>2023-01-01</td>\n",
       "      <td>35.0</td>\n",
       "      <td>18</td>\n",
       "      <td>22.0</td>\n",
       "      <td>20</td>\n",
       "      <td>30</td>\n",
       "      <td>50</td>\n",
       "      <td>25</td>\n",
       "      <td>8</td>\n",
       "      <td>45.0</td>\n",
       "      <td>25</td>\n",
       "      <td>1</td>\n",
       "      <td>Summer</td>\n",
       "    </tr>\n",
       "    <tr>\n",
       "      <th>1</th>\n",
       "      <td>2023-01-02</td>\n",
       "      <td>35.0</td>\n",
       "      <td>16</td>\n",
       "      <td>22.0</td>\n",
       "      <td>20</td>\n",
       "      <td>30</td>\n",
       "      <td>55</td>\n",
       "      <td>25</td>\n",
       "      <td>7</td>\n",
       "      <td>40.0</td>\n",
       "      <td>25</td>\n",
       "      <td>1</td>\n",
       "      <td>Summer</td>\n",
       "    </tr>\n",
       "    <tr>\n",
       "      <th>2</th>\n",
       "      <td>2023-01-03</td>\n",
       "      <td>35.0</td>\n",
       "      <td>16</td>\n",
       "      <td>21.0</td>\n",
       "      <td>20</td>\n",
       "      <td>30</td>\n",
       "      <td>55</td>\n",
       "      <td>25</td>\n",
       "      <td>7</td>\n",
       "      <td>40.0</td>\n",
       "      <td>25</td>\n",
       "      <td>1</td>\n",
       "      <td>Summer</td>\n",
       "    </tr>\n",
       "    <tr>\n",
       "      <th>3</th>\n",
       "      <td>2023-01-04</td>\n",
       "      <td>30.0</td>\n",
       "      <td>16</td>\n",
       "      <td>21.0</td>\n",
       "      <td>22</td>\n",
       "      <td>25</td>\n",
       "      <td>55</td>\n",
       "      <td>25</td>\n",
       "      <td>7</td>\n",
       "      <td>40.0</td>\n",
       "      <td>25</td>\n",
       "      <td>1</td>\n",
       "      <td>Summer</td>\n",
       "    </tr>\n",
       "    <tr>\n",
       "      <th>4</th>\n",
       "      <td>2023-01-08</td>\n",
       "      <td>35.0</td>\n",
       "      <td>16</td>\n",
       "      <td>20.0</td>\n",
       "      <td>21</td>\n",
       "      <td>25</td>\n",
       "      <td>55</td>\n",
       "      <td>22</td>\n",
       "      <td>6</td>\n",
       "      <td>35.0</td>\n",
       "      <td>25</td>\n",
       "      <td>1</td>\n",
       "      <td>Summer</td>\n",
       "    </tr>\n",
       "  </tbody>\n",
       "</table>\n",
       "</div>"
      ],
      "text/plain": [
       "  Price Dates  Bhindi (Ladies finger)  Tomato  Onion  Potato  Brinjal  Garlic  \\\n",
       "0  2023-01-01                    35.0      18   22.0      20       30      50   \n",
       "1  2023-01-02                    35.0      16   22.0      20       30      55   \n",
       "2  2023-01-03                    35.0      16   21.0      20       30      55   \n",
       "3  2023-01-04                    30.0      16   21.0      22       25      55   \n",
       "4  2023-01-08                    35.0      16   20.0      21       25      55   \n",
       "\n",
       "   Peas  Methi  Green Chilli  Elephant Yam (Suran)  Month  Season  \n",
       "0    25      8          45.0                    25      1  Summer  \n",
       "1    25      7          40.0                    25      1  Summer  \n",
       "2    25      7          40.0                    25      1  Summer  \n",
       "3    25      7          40.0                    25      1  Summer  \n",
       "4    22      6          35.0                    25      1  Summer  "
      ]
     },
     "execution_count": 10,
     "metadata": {},
     "output_type": "execute_result"
    }
   ],
   "source": [
    "# Show the cleaned DataFrame\n",
    "df_cleaned.head()"
   ]
  },
  {
   "cell_type": "code",
   "execution_count": 11,
   "id": "c1e66734",
   "metadata": {},
   "outputs": [
    {
     "data": {
      "text/html": [
       "<div>\n",
       "<style scoped>\n",
       "    .dataframe tbody tr th:only-of-type {\n",
       "        vertical-align: middle;\n",
       "    }\n",
       "\n",
       "    .dataframe tbody tr th {\n",
       "        vertical-align: top;\n",
       "    }\n",
       "\n",
       "    .dataframe thead th {\n",
       "        text-align: right;\n",
       "    }\n",
       "</style>\n",
       "<table border=\"1\" class=\"dataframe\">\n",
       "  <thead>\n",
       "    <tr style=\"text-align: right;\">\n",
       "      <th></th>\n",
       "      <th>Price Dates</th>\n",
       "      <th>Bhindi (Ladies finger)</th>\n",
       "      <th>Tomato</th>\n",
       "      <th>Onion</th>\n",
       "      <th>Potato</th>\n",
       "      <th>Brinjal</th>\n",
       "      <th>Garlic</th>\n",
       "      <th>Peas</th>\n",
       "      <th>Methi</th>\n",
       "      <th>Green Chilli</th>\n",
       "      <th>Elephant Yam (Suran)</th>\n",
       "      <th>Month</th>\n",
       "      <th>Season</th>\n",
       "    </tr>\n",
       "  </thead>\n",
       "  <tbody>\n",
       "    <tr>\n",
       "      <th>282</th>\n",
       "      <td>2023-12-27</td>\n",
       "      <td>45.0</td>\n",
       "      <td>16</td>\n",
       "      <td>30.0</td>\n",
       "      <td>20</td>\n",
       "      <td>70</td>\n",
       "      <td>260</td>\n",
       "      <td>40</td>\n",
       "      <td>16</td>\n",
       "      <td>40.0</td>\n",
       "      <td>25</td>\n",
       "      <td>12</td>\n",
       "      <td>Summer</td>\n",
       "    </tr>\n",
       "    <tr>\n",
       "      <th>283</th>\n",
       "      <td>2023-12-28</td>\n",
       "      <td>45.0</td>\n",
       "      <td>16</td>\n",
       "      <td>30.0</td>\n",
       "      <td>20</td>\n",
       "      <td>70</td>\n",
       "      <td>260</td>\n",
       "      <td>30</td>\n",
       "      <td>20</td>\n",
       "      <td>45.0</td>\n",
       "      <td>25</td>\n",
       "      <td>12</td>\n",
       "      <td>Summer</td>\n",
       "    </tr>\n",
       "    <tr>\n",
       "      <th>284</th>\n",
       "      <td>2023-12-29</td>\n",
       "      <td>45.0</td>\n",
       "      <td>16</td>\n",
       "      <td>30.0</td>\n",
       "      <td>22</td>\n",
       "      <td>80</td>\n",
       "      <td>260</td>\n",
       "      <td>30</td>\n",
       "      <td>18</td>\n",
       "      <td>50.0</td>\n",
       "      <td>25</td>\n",
       "      <td>12</td>\n",
       "      <td>Summer</td>\n",
       "    </tr>\n",
       "    <tr>\n",
       "      <th>285</th>\n",
       "      <td>2023-12-31</td>\n",
       "      <td>45.0</td>\n",
       "      <td>16</td>\n",
       "      <td>26.0</td>\n",
       "      <td>20</td>\n",
       "      <td>60</td>\n",
       "      <td>250</td>\n",
       "      <td>40</td>\n",
       "      <td>16</td>\n",
       "      <td>50.0</td>\n",
       "      <td>40</td>\n",
       "      <td>12</td>\n",
       "      <td>Summer</td>\n",
       "    </tr>\n",
       "    <tr>\n",
       "      <th>286</th>\n",
       "      <td>2024-01-01</td>\n",
       "      <td>45.0</td>\n",
       "      <td>16</td>\n",
       "      <td>9.0</td>\n",
       "      <td>18</td>\n",
       "      <td>50</td>\n",
       "      <td>260</td>\n",
       "      <td>40</td>\n",
       "      <td>15</td>\n",
       "      <td>60.0</td>\n",
       "      <td>25</td>\n",
       "      <td>1</td>\n",
       "      <td>Summer</td>\n",
       "    </tr>\n",
       "  </tbody>\n",
       "</table>\n",
       "</div>"
      ],
      "text/plain": [
       "    Price Dates  Bhindi (Ladies finger)  Tomato  Onion  Potato  Brinjal  \\\n",
       "282  2023-12-27                    45.0      16   30.0      20       70   \n",
       "283  2023-12-28                    45.0      16   30.0      20       70   \n",
       "284  2023-12-29                    45.0      16   30.0      22       80   \n",
       "285  2023-12-31                    45.0      16   26.0      20       60   \n",
       "286  2024-01-01                    45.0      16    9.0      18       50   \n",
       "\n",
       "     Garlic  Peas  Methi  Green Chilli  Elephant Yam (Suran)  Month  Season  \n",
       "282     260    40     16          40.0                    25     12  Summer  \n",
       "283     260    30     20          45.0                    25     12  Summer  \n",
       "284     260    30     18          50.0                    25     12  Summer  \n",
       "285     250    40     16          50.0                    40     12  Summer  \n",
       "286     260    40     15          60.0                    25      1  Summer  "
      ]
     },
     "execution_count": 11,
     "metadata": {},
     "output_type": "execute_result"
    }
   ],
   "source": [
    "df_cleaned.tail()"
   ]
  },
  {
   "cell_type": "code",
   "execution_count": 12,
   "id": "a401ff55",
   "metadata": {},
   "outputs": [
    {
     "name": "stdout",
     "output_type": "stream",
     "text": [
      "Season:  ['Summer' 'Winter' 'Monsoon' 'Autumn']\n",
      "Month:  [ 1  2  3  4  5  6  7  8  9 10 11 12]\n"
     ]
    }
   ],
   "source": [
    "#validate function added unique months & print results\n",
    "unique_season=df_cleaned.Season.unique()\n",
    "unique_month=df_cleaned.Month.unique()\n",
    "\n",
    "print(f\"Season: \",unique_season)\n",
    "print(f\"Month: \",unique_month)"
   ]
  },
  {
   "cell_type": "markdown",
   "id": "6b5d45be",
   "metadata": {},
   "source": [
    "## Vegetable prices hypotheses Testing"
   ]
  },
  {
   "cell_type": "markdown",
   "id": "ccbc44ee",
   "metadata": {},
   "source": [
    "<h3>1. Seasonality in Prices</h3>\n",
    "\n",
    "* Tomato and `Green Chilli` prices peak in summer months (Apr–Jun) and trough in winter (Dec–Feb).\n"
   ]
  },
  {
   "cell_type": "markdown",
   "id": "d1f7110e",
   "metadata": {},
   "source": [
    "* <h4>Extract Summer and Winter Prices<h4>"
   ]
  },
  {
   "cell_type": "code",
   "execution_count": null,
   "id": "ddfe7610",
   "metadata": {},
   "outputs": [
    {
     "data": {
      "text/plain": [
       "\" \\nI prefer dot notation as below\\nsummer_df = df_cleaned.Season === 'Summer'\\nwinter_df = df_cleaned.Season === 'Winter'\\n\\n\""
      ]
     },
     "execution_count": 13,
     "metadata": {},
     "output_type": "execute_result"
    }
   ],
   "source": [
    "# Filter rows for Summer and Winter\n",
    "summer_df = df_cleaned[df_cleaned['Season'] == 'Summer']\n",
    "winter_df = df_cleaned[df_cleaned['Season'] == 'Winter']\n",
    "\n",
    "\"\"\" \n",
    "I prefer dot notation as below\n",
    "summer_df = df_cleaned.Season === 'Summer'\n",
    "winter_df = df_cleaned.Season === 'Winter'\n",
    "\n",
    "\"\"\""
   ]
  },
  {
   "cell_type": "code",
   "execution_count": 14,
   "id": "3ea37908",
   "metadata": {},
   "outputs": [
    {
     "name": "stdout",
     "output_type": "stream",
     "text": [
      "Summer DataFrame:\n"
     ]
    },
    {
     "data": {
      "text/html": [
       "<div>\n",
       "<style scoped>\n",
       "    .dataframe tbody tr th:only-of-type {\n",
       "        vertical-align: middle;\n",
       "    }\n",
       "\n",
       "    .dataframe tbody tr th {\n",
       "        vertical-align: top;\n",
       "    }\n",
       "\n",
       "    .dataframe thead th {\n",
       "        text-align: right;\n",
       "    }\n",
       "</style>\n",
       "<table border=\"1\" class=\"dataframe\">\n",
       "  <thead>\n",
       "    <tr style=\"text-align: right;\">\n",
       "      <th></th>\n",
       "      <th>Price Dates</th>\n",
       "      <th>Bhindi (Ladies finger)</th>\n",
       "      <th>Tomato</th>\n",
       "      <th>Onion</th>\n",
       "      <th>Potato</th>\n",
       "      <th>Brinjal</th>\n",
       "      <th>Garlic</th>\n",
       "      <th>Peas</th>\n",
       "      <th>Methi</th>\n",
       "      <th>Green Chilli</th>\n",
       "      <th>Elephant Yam (Suran)</th>\n",
       "      <th>Month</th>\n",
       "      <th>Season</th>\n",
       "    </tr>\n",
       "  </thead>\n",
       "  <tbody>\n",
       "    <tr>\n",
       "      <th>0</th>\n",
       "      <td>2023-01-01</td>\n",
       "      <td>35.0</td>\n",
       "      <td>18</td>\n",
       "      <td>22.0</td>\n",
       "      <td>20</td>\n",
       "      <td>30</td>\n",
       "      <td>50</td>\n",
       "      <td>25</td>\n",
       "      <td>8</td>\n",
       "      <td>45.0</td>\n",
       "      <td>25</td>\n",
       "      <td>1</td>\n",
       "      <td>Summer</td>\n",
       "    </tr>\n",
       "    <tr>\n",
       "      <th>1</th>\n",
       "      <td>2023-01-02</td>\n",
       "      <td>35.0</td>\n",
       "      <td>16</td>\n",
       "      <td>22.0</td>\n",
       "      <td>20</td>\n",
       "      <td>30</td>\n",
       "      <td>55</td>\n",
       "      <td>25</td>\n",
       "      <td>7</td>\n",
       "      <td>40.0</td>\n",
       "      <td>25</td>\n",
       "      <td>1</td>\n",
       "      <td>Summer</td>\n",
       "    </tr>\n",
       "    <tr>\n",
       "      <th>2</th>\n",
       "      <td>2023-01-03</td>\n",
       "      <td>35.0</td>\n",
       "      <td>16</td>\n",
       "      <td>21.0</td>\n",
       "      <td>20</td>\n",
       "      <td>30</td>\n",
       "      <td>55</td>\n",
       "      <td>25</td>\n",
       "      <td>7</td>\n",
       "      <td>40.0</td>\n",
       "      <td>25</td>\n",
       "      <td>1</td>\n",
       "      <td>Summer</td>\n",
       "    </tr>\n",
       "    <tr>\n",
       "      <th>3</th>\n",
       "      <td>2023-01-04</td>\n",
       "      <td>30.0</td>\n",
       "      <td>16</td>\n",
       "      <td>21.0</td>\n",
       "      <td>22</td>\n",
       "      <td>25</td>\n",
       "      <td>55</td>\n",
       "      <td>25</td>\n",
       "      <td>7</td>\n",
       "      <td>40.0</td>\n",
       "      <td>25</td>\n",
       "      <td>1</td>\n",
       "      <td>Summer</td>\n",
       "    </tr>\n",
       "    <tr>\n",
       "      <th>4</th>\n",
       "      <td>2023-01-08</td>\n",
       "      <td>35.0</td>\n",
       "      <td>16</td>\n",
       "      <td>20.0</td>\n",
       "      <td>21</td>\n",
       "      <td>25</td>\n",
       "      <td>55</td>\n",
       "      <td>22</td>\n",
       "      <td>6</td>\n",
       "      <td>35.0</td>\n",
       "      <td>25</td>\n",
       "      <td>1</td>\n",
       "      <td>Summer</td>\n",
       "    </tr>\n",
       "  </tbody>\n",
       "</table>\n",
       "</div>"
      ],
      "text/plain": [
       "  Price Dates  Bhindi (Ladies finger)  Tomato  Onion  Potato  Brinjal  Garlic  \\\n",
       "0  2023-01-01                    35.0      18   22.0      20       30      50   \n",
       "1  2023-01-02                    35.0      16   22.0      20       30      55   \n",
       "2  2023-01-03                    35.0      16   21.0      20       30      55   \n",
       "3  2023-01-04                    30.0      16   21.0      22       25      55   \n",
       "4  2023-01-08                    35.0      16   20.0      21       25      55   \n",
       "\n",
       "   Peas  Methi  Green Chilli  Elephant Yam (Suran)  Month  Season  \n",
       "0    25      8          45.0                    25      1  Summer  \n",
       "1    25      7          40.0                    25      1  Summer  \n",
       "2    25      7          40.0                    25      1  Summer  \n",
       "3    25      7          40.0                    25      1  Summer  \n",
       "4    22      6          35.0                    25      1  Summer  "
      ]
     },
     "execution_count": 14,
     "metadata": {},
     "output_type": "execute_result"
    }
   ],
   "source": [
    "# Show the first few rows of each filtered DataFrame\n",
    "print(\"Summer DataFrame:\")\n",
    "summer_df.head()"
   ]
  },
  {
   "cell_type": "code",
   "execution_count": 15,
   "id": "02d9e9f1",
   "metadata": {},
   "outputs": [
    {
     "name": "stdout",
     "output_type": "stream",
     "text": [
      "<class 'pandas.core.frame.DataFrame'>\n",
      "Index: 65 entries, 0 to 286\n",
      "Data columns (total 13 columns):\n",
      " #   Column                  Non-Null Count  Dtype         \n",
      "---  ------                  --------------  -----         \n",
      " 0   Price Dates             65 non-null     datetime64[ns]\n",
      " 1   Bhindi (Ladies finger)  65 non-null     float64       \n",
      " 2   Tomato                  65 non-null     int64         \n",
      " 3   Onion                   65 non-null     float64       \n",
      " 4   Potato                  65 non-null     int64         \n",
      " 5   Brinjal                 65 non-null     int64         \n",
      " 6   Garlic                  65 non-null     int64         \n",
      " 7   Peas                    65 non-null     int64         \n",
      " 8   Methi                   65 non-null     int64         \n",
      " 9   Green Chilli            65 non-null     float64       \n",
      " 10  Elephant Yam (Suran)    65 non-null     int64         \n",
      " 11  Month                   65 non-null     int32         \n",
      " 12  Season                  65 non-null     object        \n",
      "dtypes: datetime64[ns](1), float64(3), int32(1), int64(7), object(1)\n",
      "memory usage: 6.9+ KB\n"
     ]
    }
   ],
   "source": [
    "#Get info related to Summer Season\n",
    "summer_df.info()"
   ]
  },
  {
   "cell_type": "code",
   "execution_count": 16,
   "id": "155533c4",
   "metadata": {},
   "outputs": [
    {
     "name": "stdout",
     "output_type": "stream",
     "text": [
      "Winter DataFrame:\n"
     ]
    },
    {
     "data": {
      "text/html": [
       "<div>\n",
       "<style scoped>\n",
       "    .dataframe tbody tr th:only-of-type {\n",
       "        vertical-align: middle;\n",
       "    }\n",
       "\n",
       "    .dataframe tbody tr th {\n",
       "        vertical-align: top;\n",
       "    }\n",
       "\n",
       "    .dataframe thead th {\n",
       "        text-align: right;\n",
       "    }\n",
       "</style>\n",
       "<table border=\"1\" class=\"dataframe\">\n",
       "  <thead>\n",
       "    <tr style=\"text-align: right;\">\n",
       "      <th></th>\n",
       "      <th>Price Dates</th>\n",
       "      <th>Bhindi (Ladies finger)</th>\n",
       "      <th>Tomato</th>\n",
       "      <th>Onion</th>\n",
       "      <th>Potato</th>\n",
       "      <th>Brinjal</th>\n",
       "      <th>Garlic</th>\n",
       "      <th>Peas</th>\n",
       "      <th>Methi</th>\n",
       "      <th>Green Chilli</th>\n",
       "      <th>Elephant Yam (Suran)</th>\n",
       "      <th>Month</th>\n",
       "      <th>Season</th>\n",
       "    </tr>\n",
       "  </thead>\n",
       "  <tbody>\n",
       "    <tr>\n",
       "      <th>41</th>\n",
       "      <td>2023-03-01</td>\n",
       "      <td>30.0</td>\n",
       "      <td>16</td>\n",
       "      <td>11.0</td>\n",
       "      <td>13</td>\n",
       "      <td>20</td>\n",
       "      <td>85</td>\n",
       "      <td>30</td>\n",
       "      <td>6</td>\n",
       "      <td>50.0</td>\n",
       "      <td>30</td>\n",
       "      <td>3</td>\n",
       "      <td>Winter</td>\n",
       "    </tr>\n",
       "    <tr>\n",
       "      <th>42</th>\n",
       "      <td>2023-03-02</td>\n",
       "      <td>37.0</td>\n",
       "      <td>16</td>\n",
       "      <td>11.0</td>\n",
       "      <td>13</td>\n",
       "      <td>20</td>\n",
       "      <td>85</td>\n",
       "      <td>30</td>\n",
       "      <td>7</td>\n",
       "      <td>40.0</td>\n",
       "      <td>30</td>\n",
       "      <td>3</td>\n",
       "      <td>Winter</td>\n",
       "    </tr>\n",
       "    <tr>\n",
       "      <th>43</th>\n",
       "      <td>2023-03-03</td>\n",
       "      <td>32.0</td>\n",
       "      <td>16</td>\n",
       "      <td>12.0</td>\n",
       "      <td>14</td>\n",
       "      <td>20</td>\n",
       "      <td>85</td>\n",
       "      <td>25</td>\n",
       "      <td>8</td>\n",
       "      <td>40.0</td>\n",
       "      <td>20</td>\n",
       "      <td>3</td>\n",
       "      <td>Winter</td>\n",
       "    </tr>\n",
       "    <tr>\n",
       "      <th>44</th>\n",
       "      <td>2023-03-05</td>\n",
       "      <td>32.0</td>\n",
       "      <td>16</td>\n",
       "      <td>12.0</td>\n",
       "      <td>14</td>\n",
       "      <td>25</td>\n",
       "      <td>85</td>\n",
       "      <td>25</td>\n",
       "      <td>6</td>\n",
       "      <td>40.0</td>\n",
       "      <td>30</td>\n",
       "      <td>3</td>\n",
       "      <td>Winter</td>\n",
       "    </tr>\n",
       "    <tr>\n",
       "      <th>45</th>\n",
       "      <td>2023-03-06</td>\n",
       "      <td>32.0</td>\n",
       "      <td>16</td>\n",
       "      <td>13.0</td>\n",
       "      <td>14</td>\n",
       "      <td>14</td>\n",
       "      <td>85</td>\n",
       "      <td>30</td>\n",
       "      <td>7</td>\n",
       "      <td>40.0</td>\n",
       "      <td>25</td>\n",
       "      <td>3</td>\n",
       "      <td>Winter</td>\n",
       "    </tr>\n",
       "  </tbody>\n",
       "</table>\n",
       "</div>"
      ],
      "text/plain": [
       "   Price Dates  Bhindi (Ladies finger)  Tomato  Onion  Potato  Brinjal  \\\n",
       "41  2023-03-01                    30.0      16   11.0      13       20   \n",
       "42  2023-03-02                    37.0      16   11.0      13       20   \n",
       "43  2023-03-03                    32.0      16   12.0      14       20   \n",
       "44  2023-03-05                    32.0      16   12.0      14       25   \n",
       "45  2023-03-06                    32.0      16   13.0      14       14   \n",
       "\n",
       "    Garlic  Peas  Methi  Green Chilli  Elephant Yam (Suran)  Month  Season  \n",
       "41      85    30      6          50.0                    30      3  Winter  \n",
       "42      85    30      7          40.0                    30      3  Winter  \n",
       "43      85    25      8          40.0                    20      3  Winter  \n",
       "44      85    25      6          40.0                    30      3  Winter  \n",
       "45      85    30      7          40.0                    25      3  Winter  "
      ]
     },
     "execution_count": 16,
     "metadata": {},
     "output_type": "execute_result"
    }
   ],
   "source": [
    "# Show the first few rows of each filtered DataFrame\n",
    "print(\"Winter DataFrame:\")\n",
    "winter_df.head()"
   ]
  },
  {
   "cell_type": "code",
   "execution_count": 17,
   "id": "7fddbea6",
   "metadata": {},
   "outputs": [
    {
     "name": "stdout",
     "output_type": "stream",
     "text": [
      "<class 'pandas.core.frame.DataFrame'>\n",
      "Index: 75 entries, 41 to 115\n",
      "Data columns (total 13 columns):\n",
      " #   Column                  Non-Null Count  Dtype         \n",
      "---  ------                  --------------  -----         \n",
      " 0   Price Dates             75 non-null     datetime64[ns]\n",
      " 1   Bhindi (Ladies finger)  75 non-null     float64       \n",
      " 2   Tomato                  75 non-null     int64         \n",
      " 3   Onion                   75 non-null     float64       \n",
      " 4   Potato                  75 non-null     int64         \n",
      " 5   Brinjal                 75 non-null     int64         \n",
      " 6   Garlic                  75 non-null     int64         \n",
      " 7   Peas                    75 non-null     int64         \n",
      " 8   Methi                   75 non-null     int64         \n",
      " 9   Green Chilli            75 non-null     float64       \n",
      " 10  Elephant Yam (Suran)    75 non-null     int64         \n",
      " 11  Month                   75 non-null     int32         \n",
      " 12  Season                  75 non-null     object        \n",
      "dtypes: datetime64[ns](1), float64(3), int32(1), int64(7), object(1)\n",
      "memory usage: 7.9+ KB\n"
     ]
    }
   ],
   "source": [
    "#Get info related to Summer Season\n",
    "winter_df.info()"
   ]
  },
  {
   "cell_type": "markdown",
   "id": "eeecf007",
   "metadata": {},
   "source": [
    "* <h4>Calculate Mean Prices</h4>"
   ]
  },
  {
   "cell_type": "code",
   "execution_count": 18,
   "id": "3acee0dd",
   "metadata": {},
   "outputs": [
    {
     "name": "stdout",
     "output_type": "stream",
     "text": [
      "Average Summer Prices:  Tomato    16.03\n",
      "dtype: float64 Green Chilli    37.95\n",
      "dtype: float64\n",
      "Average Winter Prices:  Tomato    16.0\n",
      "dtype: float64 Green Chilli    40.46\n",
      "dtype: float64\n"
     ]
    }
   ],
   "source": [
    "# Mean for Summer prices\n",
    "gc_mu_s=summer_df[['Green Chilli']].mean().round(2)\n",
    "t_mu_s=summer_df[['Tomato']].mean().round(2)\n",
    "print(f\"Average Summer Prices: \",t_mu_s, gc_mu_s)\n",
    "\n",
    "# Mean for Winter prices\n",
    "gc_mu_w=winter_df[['Green Chilli']].mean().round(2)\n",
    "t_mu_w=winter_df[['Tomato']].mean().round(2)\n",
    "print(f\"Average Winter Prices: \",t_mu_w, gc_mu_w)"
   ]
  },
  {
   "cell_type": "markdown",
   "id": "16fd0768",
   "metadata": {},
   "source": [
    "* <h4>Run T-Test (Two Sample Independent)</4>"
   ]
  },
  {
   "cell_type": "markdown",
   "id": "e728675d",
   "metadata": {},
   "source": [
    "### Scenario 1: Focus on Tomato"
   ]
  },
  {
   "cell_type": "markdown",
   "id": "e2039818",
   "metadata": {},
   "source": [
    "$H_0$ : Average price in winter & summer for Tomato is same i.e., $ x̄_s-x̄_w = 0 $\n",
    "\n",
    "$H_1$ : Average price in winter & summer for Tomato differ i.e., $ x̄_s-x̄_w \\ne 0 $"
   ]
  },
  {
   "cell_type": "code",
   "execution_count": 34,
   "id": "f164204c",
   "metadata": {},
   "outputs": [
    {
     "name": "stdout",
     "output_type": "stream",
     "text": [
      "T-test Result for Tomato:\n",
      "t-stat = 1.00, p-value = 0.3211\n",
      "\n",
      "T-test Result for Green Chilli:\n",
      "t-stat = -1.98, p-value = 0.0497\n"
     ]
    },
    {
     "name": "stderr",
     "output_type": "stream",
     "text": [
      "c:\\Anaconda\\envs\\sql_packages\\Lib\\site-packages\\scipy\\stats\\_axis_nan_policy.py:579: RuntimeWarning: Precision loss occurred in moment calculation due to catastrophic cancellation. This occurs when the data are nearly identical. Results may be unreliable.\n",
      "  res = hypotest_fun_out(*samples, **kwds)\n"
     ]
    }
   ],
   "source": [
    "# Perform two-sample t-test for Tomato and Green Chilli prices between Summer and Winter\n",
    "t_stat_tomato, p_val_tomato = ttest_ind(\n",
    "    summer_df['Tomato'].dropna(),\n",
    "    winter_df['Tomato'].dropna(),\n",
    "    equal_var=False\n",
    ")\n",
    "\n",
    "t_stat_chilli, p_val_chilli = ttest_ind(\n",
    "    summer_df['Green Chilli'].dropna(),\n",
    "    winter_df['Green Chilli'].dropna(),\n",
    "    equal_var=False\n",
    ")\n",
    "\n",
    "print(\"T-test Result for Tomato:\")\n",
    "print(f\"t-stat = {t_stat_tomato:.2f}, p-value = {p_val_tomato:.4f}\")\n",
    "\n",
    "print(\"\\nT-test Result for Green Chilli:\")\n",
    "print(f\"t-stat = {t_stat_chilli:.2f}, p-value = {p_val_chilli:.4f}\")"
   ]
  },
  {
   "cell_type": "markdown",
   "id": "370f8f73",
   "metadata": {},
   "source": [
    "### Scenario 2 : Focuses on Green Chilli"
   ]
  },
  {
   "cell_type": "markdown",
   "id": "e0245536",
   "metadata": {},
   "source": [
    "$H_0$ : Average price in winter & summer for Green Chilli is same i.e., $ x̄_s-x̄_w = 0 $\n",
    "\n",
    "$H_1$ : Average price in winter & summer for Green Chiilie differ i.e., $ x̄_s-x̄_w \\ne 0 $"
   ]
  },
  {
   "cell_type": "code",
   "execution_count": null,
   "id": "c7a90b05",
   "metadata": {},
   "outputs": [
    {
     "name": "stdout",
     "output_type": "stream",
     "text": [
      "T-test Result for Tomato:\n",
      "t-stat = -1.00, p-value = 0.3211\n",
      "\n",
      "T-test Result for Green Chilli:\n",
      "t-stat = 1.98, p-value = 0.0497\n"
     ]
    },
    {
     "name": "stderr",
     "output_type": "stream",
     "text": [
      "/opt/anaconda3/lib/python3.12/site-packages/scipy/stats/_axis_nan_policy.py:531: RuntimeWarning: Precision loss occurred in moment calculation due to catastrophic cancellation. This occurs when the data are nearly identical. Results may be unreliable.\n",
      "  res = hypotest_fun_out(*samples, **kwds)\n"
     ]
    }
   ],
   "source": [
    "\"\"\"\n",
    "# Drop missing values\n",
    "t_stat_tomato, p_val_tomato = ttest_ind(\n",
    "    summer_df['Tomato'].dropna(), \n",
    "    winter_df['Tomato'].dropna(), \n",
    "    equal_var=False\n",
    ")\n",
    "\n",
    "t_stat_chilli, p_val_chilli = ttest_ind(\n",
    "    summer_df['Green Chilli'].dropna(), \n",
    "    winter_df['Green Chilli'].dropna(), \n",
    "    equal_var=False\n",
    ")\n",
    "\n",
    "print(\"T-test Result for Tomato:\")\n",
    "print(f\"t-stat = {t_stat_tomato:.2f}, p-value = {p_val_tomato:.4f}\")\n",
    "\n",
    "print(\"\\nT-test Result for Green Chilli:\")\n",
    "print(f\"t-stat = {t_stat_chilli:.2f}, p-value = {p_val_chilli:.4f}\")\n",
    "\"\"\"\n",
    "\n"
   ]
  },
  {
   "cell_type": "markdown",
   "id": "c0f9d8ae",
   "metadata": {},
   "source": [
    "**Interpretation of Results**"
   ]
  },
  {
   "cell_type": "markdown",
   "id": "a362b112",
   "metadata": {},
   "source": [
    "\n",
    "\n",
    "<h5>Tomato:</h5>\n",
    "\n",
    "* *t-stat = -1.00*, *p-value = 0.3211*\n",
    "* There is no statistically significant difference in Tomato prices between summer (Apr–Jun) and winter (Dec–Feb).\n",
    "* **Conclusion:** We fail to reject the null hypothesis for Tomato. The data does not support the idea that Tomato prices peak in summer.\n",
    "\n",
    "<h5>Green Chilli:</h5>\n",
    "\n",
    "* *t-stat = 1.98*, *p-value = 0.0497*\n",
    "* The difference is statistically significant at the 0.05 level.\n",
    "* **Conclusion:** We reject the null hypothesis for Green Chilli. The data supports the hypothesis that Green Chilli prices are higher in summer than in winter.\n",
    "\n",
    "\n"
   ]
  },
  {
   "cell_type": "markdown",
   "id": "14f1bc24",
   "metadata": {},
   "source": [
    "* <h4>Visualize Seasonal Price Comparison</h4>"
   ]
  },
  {
   "cell_type": "code",
   "execution_count": 19,
   "id": "1e27fbbe",
   "metadata": {},
   "outputs": [
    {
     "data": {
      "image/png": "[encoded data removed]",
      "text/plain": [
       "<Figure size 800x500 with 1 Axes>"
      ]
     },
     "metadata": {},
     "output_type": "display_data"
    }
   ],
   "source": [
    "\n",
    "seasonal_means = df_cleaned.groupby('Season')[['Tomato', 'Green Chilli']].mean().round(2)\n",
    "\n",
    "seasonal_means[['Tomato', 'Green Chilli']].loc[['Winter', 'Summer']].plot(\n",
    "    kind='bar', figsize=(8, 5), title='Average Prices in Winter vs Summer'\n",
    ")\n",
    "plt.ylabel(\"Price (INR)\")\n",
    "plt.xticks(rotation=0)\n",
    "plt.grid(axis='y')\n",
    "plt.tight_layout()\n",
    "plt.show()\n"
   ]
  },
  {
   "cell_type": "markdown",
   "id": "0cd2663a",
   "metadata": {},
   "source": []
  },
  {
   "cell_type": "code",
   "execution_count": 46,
   "id": "f3c7cb18",
   "metadata": {},
   "outputs": [
    {
     "name": "stdout",
     "output_type": "stream",
     "text": [
      "Index(['Price Dates', 'Bhindi (Ladies finger)', 'Tomato', 'Onion', 'Potato',\n",
      "       'Brinjal', 'Garlic', 'Peas', 'Methi', 'Green Chilli',\n",
      "       'Elephant Yam (Suran)', 'Month', 'Season'],\n",
      "      dtype='object')\n"
     ]
    },
    {
     "data": {
      "text/html": [
       "<div>\n",
       "<style scoped>\n",
       "    .dataframe tbody tr th:only-of-type {\n",
       "        vertical-align: middle;\n",
       "    }\n",
       "\n",
       "    .dataframe tbody tr th {\n",
       "        vertical-align: top;\n",
       "    }\n",
       "\n",
       "    .dataframe thead th {\n",
       "        text-align: right;\n",
       "    }\n",
       "</style>\n",
       "<table border=\"1\" class=\"dataframe\">\n",
       "  <thead>\n",
       "    <tr style=\"text-align: right;\">\n",
       "      <th></th>\n",
       "      <th>Price Dates</th>\n",
       "      <th>Bhindi (Ladies finger)</th>\n",
       "      <th>Tomato</th>\n",
       "      <th>Onion</th>\n",
       "      <th>Potato</th>\n",
       "      <th>Brinjal</th>\n",
       "      <th>Garlic</th>\n",
       "      <th>Peas</th>\n",
       "      <th>Methi</th>\n",
       "      <th>Green Chilli</th>\n",
       "      <th>Elephant Yam (Suran)</th>\n",
       "      <th>Month</th>\n",
       "      <th>Season</th>\n",
       "    </tr>\n",
       "  </thead>\n",
       "  <tbody>\n",
       "    <tr>\n",
       "      <th>0</th>\n",
       "      <td>2023-01-01</td>\n",
       "      <td>35.0</td>\n",
       "      <td>18</td>\n",
       "      <td>22.0</td>\n",
       "      <td>20</td>\n",
       "      <td>30</td>\n",
       "      <td>50</td>\n",
       "      <td>25</td>\n",
       "      <td>8</td>\n",
       "      <td>45.0</td>\n",
       "      <td>25</td>\n",
       "      <td>1</td>\n",
       "      <td>Summer</td>\n",
       "    </tr>\n",
       "    <tr>\n",
       "      <th>1</th>\n",
       "      <td>2023-01-02</td>\n",
       "      <td>35.0</td>\n",
       "      <td>16</td>\n",
       "      <td>22.0</td>\n",
       "      <td>20</td>\n",
       "      <td>30</td>\n",
       "      <td>55</td>\n",
       "      <td>25</td>\n",
       "      <td>7</td>\n",
       "      <td>40.0</td>\n",
       "      <td>25</td>\n",
       "      <td>1</td>\n",
       "      <td>Summer</td>\n",
       "    </tr>\n",
       "    <tr>\n",
       "      <th>2</th>\n",
       "      <td>2023-01-03</td>\n",
       "      <td>35.0</td>\n",
       "      <td>16</td>\n",
       "      <td>21.0</td>\n",
       "      <td>20</td>\n",
       "      <td>30</td>\n",
       "      <td>55</td>\n",
       "      <td>25</td>\n",
       "      <td>7</td>\n",
       "      <td>40.0</td>\n",
       "      <td>25</td>\n",
       "      <td>1</td>\n",
       "      <td>Summer</td>\n",
       "    </tr>\n",
       "    <tr>\n",
       "      <th>3</th>\n",
       "      <td>2023-01-04</td>\n",
       "      <td>30.0</td>\n",
       "      <td>16</td>\n",
       "      <td>21.0</td>\n",
       "      <td>22</td>\n",
       "      <td>25</td>\n",
       "      <td>55</td>\n",
       "      <td>25</td>\n",
       "      <td>7</td>\n",
       "      <td>40.0</td>\n",
       "      <td>25</td>\n",
       "      <td>1</td>\n",
       "      <td>Summer</td>\n",
       "    </tr>\n",
       "    <tr>\n",
       "      <th>4</th>\n",
       "      <td>2023-01-08</td>\n",
       "      <td>35.0</td>\n",
       "      <td>16</td>\n",
       "      <td>20.0</td>\n",
       "      <td>21</td>\n",
       "      <td>25</td>\n",
       "      <td>55</td>\n",
       "      <td>22</td>\n",
       "      <td>6</td>\n",
       "      <td>35.0</td>\n",
       "      <td>25</td>\n",
       "      <td>1</td>\n",
       "      <td>Summer</td>\n",
       "    </tr>\n",
       "  </tbody>\n",
       "</table>\n",
       "</div>"
      ],
      "text/plain": [
       "  Price Dates  Bhindi (Ladies finger)  Tomato  Onion  Potato  Brinjal  Garlic  \\\n",
       "0  2023-01-01                    35.0      18   22.0      20       30      50   \n",
       "1  2023-01-02                    35.0      16   22.0      20       30      55   \n",
       "2  2023-01-03                    35.0      16   21.0      20       30      55   \n",
       "3  2023-01-04                    30.0      16   21.0      22       25      55   \n",
       "4  2023-01-08                    35.0      16   20.0      21       25      55   \n",
       "\n",
       "   Peas  Methi  Green Chilli  Elephant Yam (Suran)  Month  Season  \n",
       "0    25      8          45.0                    25      1  Summer  \n",
       "1    25      7          40.0                    25      1  Summer  \n",
       "2    25      7          40.0                    25      1  Summer  \n",
       "3    25      7          40.0                    25      1  Summer  \n",
       "4    22      6          35.0                    25      1  Summer  "
      ]
     },
     "execution_count": 46,
     "metadata": {},
     "output_type": "execute_result"
    }
   ],
   "source": [
    "# Show all column names in summer_df\n",
    "print(summer_df.columns)\n",
    "df_cleaned.head()  \n"
   ]
  },
  {
   "cell_type": "markdown",
   "id": "b14878a7",
   "metadata": {},
   "source": [
    "<h3> Volatility of Cross-Veg</h3>\n",
    "<p>   • Day-to-day price volatility of Potato & Tomato.\n",
    "</p>"
   ]
  },
  {
   "cell_type": "code",
   "execution_count": 55,
   "id": "161fcabf",
   "metadata": {},
   "outputs": [
    {
     "data": {
      "image/png": "[encoded data removed]",
      "text/plain": [
       "<Figure size 1000x600 with 1 Axes>"
      ]
     },
     "metadata": {},
     "output_type": "display_data"
    }
   ],
   "source": [
    "import matplotlib.pyplot as plt\n",
    "\n",
    "plt.figure(figsize=(10, 6))\n",
    "plt.plot(df_cleaned['Price Dates'], df_cleaned['Tomato'], label='Tomato', color='orange')\n",
    "plt.plot(df_cleaned['Price Dates'], df_cleaned['Potato'], label='Potato', color='purple')\n",
    "\n",
    "plt.xlabel('Date')\n",
    "plt.ylabel('Price')\n",
    "plt.title('Tomato vs Potato Prices Over Time')\n",
    "plt.legend()\n",
    "plt.grid(True)\n",
    "plt.tight_layout()\n",
    "plt.show()"
   ]
  },
  {
   "cell_type": "code",
   "execution_count": null,
   "id": "8655102f",
   "metadata": {},
   "outputs": [
    {
     "name": "stdout",
     "output_type": "stream",
     "text": [
      "Tomato daily price volatility (std): 0.12\n",
      "Potato daily price volatility (std): 1.53\n",
      "Therefore,\n",
      "Potato has higher day-to-day price volatility than Tomato.\n"
     ]
    }
   ],
   "source": [
    "# Calculate daily price changes\n",
    "tomato_changes = df_cleaned['Tomato'].diff()\n",
    "potato_changes = df_cleaned['Potato'].diff()\n",
    "\n",
    "# Calculate standard deviation (volatility)\n",
    "tomato_volatility = tomato_changes.std()\n",
    "potato_volatility = potato_changes.std()\n",
    "\n",
    "print(f\"Tomato daily price volatility (std): {tomato_volatility:.2f}\")\n",
    "print(f\"Potato daily price volatility (std): {potato_volatility:.2f}\")\n",
    "\n",
    "print(f\"Therefore,\")\n",
    "if tomato_volatility > potato_volatility:\n",
    "    print(\"Tomato has higher day-to-day price volatility than Potato.\")\n",
    "else:\n",
    "    print(\"Potato has higher day-to-day price volatility than Tomato.\")"
   ]
  },
  {
   "cell_type": "markdown",
   "id": "16d7efae",
   "metadata": {},
   "source": [
    "**Potato**: Tends to have more stable supply chains due to better storability and longer shelf life.\n",
    "\n",
    "**Tomato**: More perishable, highly seasonal, and sensitive to weather conditions, which often leads to frequent price spikes or drops."
   ]
  },
  {
   "cell_type": "markdown",
   "id": "a43827ba",
   "metadata": {},
   "source": [
    "<h3>Cross-Veg Correlation</h3>\n",
    "<p>   • Onion and Garlic prices are positively correlated (r > 0.7) due to shared storage and transport factors.\n",
    "</p>"
   ]
  },
  {
   "cell_type": "code",
   "execution_count": 68,
   "id": "1b9ebd96",
   "metadata": {},
   "outputs": [
    {
     "name": "stdout",
     "output_type": "stream",
     "text": [
      "Correlation coefficient of Onion and Garlic: 0.76\n"
     ]
    },
    {
     "name": "stderr",
     "output_type": "stream",
     "text": [
      "C:\\Users\\Bulelwa\\AppData\\Local\\Temp\\ipykernel_19544\\2798993401.py:26: UserWarning: No artists with labels found to put in legend.  Note that artists whose label start with an underscore are ignored when legend() is called with no argument.\n",
      "  plt.legend()\n"
     ]
    },
    {
     "data": {
      "image/png": "[encoded data removed]",
      "text/plain": [
       "<Figure size 800x500 with 1 Axes>"
      ]
     },
     "metadata": {},
     "output_type": "display_data"
    }
   ],
   "source": [
    "import matplotlib.pyplot as plt\n",
    "import numpy as np\n",
    "\n",
    "# Remove NaNs for fitting\n",
    "x = df_cleaned['Onion'].dropna()\n",
    "y = df_cleaned['Garlic'].dropna()\n",
    "# Align indices\n",
    "x, y = x.align(y, join='inner')\n",
    "\n",
    "# Calculate correlation\n",
    "correlation = df_cleaned['Onion'].corr(df_cleaned['Garlic'])\n",
    "print(f\"Correlation coefficient of Onion and Garlic: {correlation:.2f}\")\n",
    "\n",
    "# Scatter plot\n",
    "plt.figure(figsize=(8, 5))\n",
    "plt.scatter(x, y, alpha=0.5, color='purple')\n",
    "\n",
    "# Line of best fit\n",
    "coeffs = np.polyfit(x, y, 1)\n",
    "fit_fn = np.poly1d(coeffs)\n",
    "plt.plot(x, fit_fn(x), color='orange', linewidth=2)\n",
    "\n",
    "plt.xlabel('Onion Price')\n",
    "plt.ylabel('Garlic Price')\n",
    "plt.title('Onion vs Garlic Price Correlation with Best Fit line')\n",
    "plt.legend()\n",
    "plt.grid(True)\n",
    "plt.tight_layout()\n",
    "plt.show()"
   ]
  },
  {
   "cell_type": "markdown",
   "id": "394adbd8",
   "metadata": {},
   "source": [
    "<h3>Price Spread</h3>\n",
    "<p>   • The range (max – min) among all vegetables on a given date widens during festivals due to supply surges.\n",
    "</p>"
   ]
  },
  {
   "cell_type": "markdown",
   "id": "10054653",
   "metadata": {},
   "source": [
    "<h3>Weekend Premium</3>"
   ]
  },
  {
   "cell_type": "markdown",
   "id": "b1f91b70",
   "metadata": {},
   "source": [
    "<p>   • Average modal prices across all veggies are 5–10% higher on weekends vs. weekdays.\n",
    "</p>"
   ]
  },
  {
   "cell_type": "markdown",
   "id": "54a4c2f3",
   "metadata": {},
   "source": []
  }
 ],
 "metadata": {
  "kernelspec": {
   "display_name": "sql_packages",
   "language": "python",
   "name": "python3"
  },
  "language_info": {
   "codemirror_mode": {
    "name": "ipython",
    "version": 3
   },
   "file_extension": ".py",
   "mimetype": "text/x-python",
   "name": "python",
   "nbconvert_exporter": "python",
   "pygments_lexer": "ipython3",
   "version": "3.12.9"
  }
 },
 "nbformat": 4,
 "nbformat_minor": 5
}
