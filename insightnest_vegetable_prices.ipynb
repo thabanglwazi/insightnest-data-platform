{
 "cells": [
  {
   "cell_type": "markdown",
   "id": "1b22d7f8",
   "metadata": {},
   "source": [
    "# Insightnest Vegetable Prices Analysis\n",
    "\n",
    "## Table of Contents\n",
    "\n",
    "1. [Project Overview](#1-project-overview)\n",
    "2. [Setup and Installation](#2-setup-and-installation)\n",
    "3. [Data Extraction](#3-data-extraction)\n",
    "   - [3.1 Import Libraries](#31-import-libraries)\n",
    "   - [3.2 Download and Load Dataset](#32-download-and-load-dataset)\n",
    "4. [Data Inspection](#4-data-inspection)\n",
    "   - [4.1 Dataset Structure](#41-dataset-structure)\n",
    "   - [4.2 Statistical Summary](#42-statistical-summary)\n",
    "5. [Data Cleaning and Transformation](#5-data-cleaning-and-transformation)\n",
    "   - [5.1 Data Cleaning Process](#51-data-cleaning-process)\n",
    "   - [5.2 Cleaned Dataset Preview](#52-cleaned-dataset-preview)\n",
    "6. [Exploratory Data Analysis](#6-exploratory-data-analysis)\n",
    "   - [6.1 Seasonal Analysis](#61-seasonal-analysis)\n",
    "   - [6.2 Price Trends](#62-price-trends)\n",
<<<<<<< HEAD
    "8. [Statistical Analysis](#7-statistical-analysis)\n",
    "   - [7.1 Hypothesis Testing](#71-hypothesis-testing)\n",
    "9. [Visualizations](#8-visualizations)\n",
    "10. [Conclusions and Insights](#9-conclusions-and-insights)\n",
=======
    "7. [Statistical Analysis](#7-statistical-analysis)\n",
    "   - [7.1 Hypothesis Testing](#71-hypothesis-testing)\n",
    "8. [Visualizations](#8-visualizations)\n",
    "9. [Conclusions and Insights](#9-conclusions-and-insights)\n",
>>>>>>> 48a9394cfbab4a34437dbafeed4c91348edd489a
    "\n",
    "---\n",
    "\n",
    "## 1. Project Overview\n",
    "\n",
    "This notebook analyzes vegetable price data to understand pricing patterns, seasonal variations, and statistical relationships between different vegetables over time.\n",
    "\n",
    "**Dataset Information:**\n",
    "- **Source**: Kaggle dataset \"vegetable-prices\" by ksamiksha19\n",
    "- **Records**: 287 entries\n",
    "- **Variables**: 11 columns (1 date + 10 vegetable prices)\n",
    "- **Vegetables**: Bhindi, Tomato, Onion, Potato, Brinjal, Garlic, Peas, Methi, Green Chilli, Elephant Yam\n",
    "\n",
    "---"
   ]
  },
  {
   "cell_type": "markdown",
   "id": "a7916b21",
   "metadata": {},
   "source": [
    "## 2. Setup and Installation\n",
    "\n",
    "### Required Packages\n",
    "The following libraries are required for this analysis:\n",
    "- **pandas**: Data manipulation and analysis\n",
    "- **matplotlib**: Data visualization\n",
    "- **scipy**: Statistical analysis\n",
    "- **kagglehub**: Dataset download from Kaggle\n",
    "- **Custom module**: price_cleaner for data preprocessing"
   ]
  },
  {
   "cell_type": "code",
<<<<<<< HEAD
<<<<<<< HEAD
   "execution_count": 2,
=======
   "execution_count": 1,
>>>>>>> 63d6d15 (Add table of contents structure and requirements.txt)
=======
   "execution_count": 1,
>>>>>>> 48a9394cfbab4a34437dbafeed4c91348edd489a
   "id": "43d8f16c",
   "metadata": {},
   "outputs": [
    {
     "name": "stdout",
     "output_type": "stream",
     "text": [
<<<<<<< HEAD
<<<<<<< HEAD
<<<<<<< HEAD
      "Note: you may need to restart the kernel to use updated packages.\n"
     ]
    },
    {
     "name": "stderr",
     "output_type": "stream",
     "text": [
      "ERROR: Invalid requirement: '#': Expected package name at the start of dependency specifier\n",
      "    #\n",
      "    ^\n"
=======
=======
>>>>>>> 48a9394cfbab4a34437dbafeed4c91348edd489a
      "Requirement already satisfied: pandas>=1.5.0 in /opt/anaconda3/lib/python3.12/site-packages (from -r requirements.txt (line 1)) (2.2.2)\n",
      "Requirement already satisfied: numpy>=1.21.0 in /opt/anaconda3/lib/python3.12/site-packages (from -r requirements.txt (line 2)) (1.26.4)\n",
      "Requirement already satisfied: matplotlib>=3.5.0 in /opt/anaconda3/lib/python3.12/site-packages (from -r requirements.txt (line 3)) (3.9.2)\n",
      "Requirement already satisfied: seaborn>=0.11.0 in /opt/anaconda3/lib/python3.12/site-packages (from -r requirements.txt (line 4)) (0.13.2)\n",
      "Requirement already satisfied: scipy>=1.9.0 in /opt/anaconda3/lib/python3.12/site-packages (from -r requirements.txt (line 5)) (1.13.1)\n",
      "Requirement already satisfied: kagglehub>=0.2.0 in /opt/anaconda3/lib/python3.12/site-packages (from -r requirements.txt (line 6)) (0.3.12)\n",
      "Requirement already satisfied: openpyxl>=3.0.0 in /opt/anaconda3/lib/python3.12/site-packages (from -r requirements.txt (line 7)) (3.1.5)\n",
      "Requirement already satisfied: plotly>=5.0.0 in /opt/anaconda3/lib/python3.12/site-packages (from -r requirements.txt (line 8)) (5.24.1)\n",
      "Requirement already satisfied: jupyter>=1.0.0 in /opt/anaconda3/lib/python3.12/site-packages (from -r requirements.txt (line 9)) (1.0.0)\n",
      "Requirement already satisfied: python-dateutil>=2.8.2 in /opt/anaconda3/lib/python3.12/site-packages (from pandas>=1.5.0->-r requirements.txt (line 1)) (2.9.0.post0)\n",
      "Requirement already satisfied: pytz>=2020.1 in /opt/anaconda3/lib/python3.12/site-packages (from pandas>=1.5.0->-r requirements.txt (line 1)) (2024.1)\n",
      "Requirement already satisfied: tzdata>=2022.7 in /opt/anaconda3/lib/python3.12/site-packages (from pandas>=1.5.0->-r requirements.txt (line 1)) (2023.3)\n",
      "Requirement already satisfied: contourpy>=1.0.1 in /opt/anaconda3/lib/python3.12/site-packages (from matplotlib>=3.5.0->-r requirements.txt (line 3)) (1.2.0)\n",
      "Requirement already satisfied: cycler>=0.10 in /opt/anaconda3/lib/python3.12/site-packages (from matplotlib>=3.5.0->-r requirements.txt (line 3)) (0.11.0)\n",
      "Requirement already satisfied: fonttools>=4.22.0 in /opt/anaconda3/lib/python3.12/site-packages (from matplotlib>=3.5.0->-r requirements.txt (line 3)) (4.51.0)\n",
      "Requirement already satisfied: kiwisolver>=1.3.1 in /opt/anaconda3/lib/python3.12/site-packages (from matplotlib>=3.5.0->-r requirements.txt (line 3)) (1.4.4)\n",
      "Requirement already satisfied: packaging>=20.0 in /opt/anaconda3/lib/python3.12/site-packages (from matplotlib>=3.5.0->-r requirements.txt (line 3)) (24.1)\n",
      "Requirement already satisfied: pillow>=8 in /opt/anaconda3/lib/python3.12/site-packages (from matplotlib>=3.5.0->-r requirements.txt (line 3)) (10.4.0)\n",
      "Requirement already satisfied: pyparsing>=2.3.1 in /opt/anaconda3/lib/python3.12/site-packages (from matplotlib>=3.5.0->-r requirements.txt (line 3)) (3.1.2)\n",
      "Requirement already satisfied: pyyaml in /opt/anaconda3/lib/python3.12/site-packages (from kagglehub>=0.2.0->-r requirements.txt (line 6)) (6.0.1)\n",
      "Requirement already satisfied: requests in /opt/anaconda3/lib/python3.12/site-packages (from kagglehub>=0.2.0->-r requirements.txt (line 6)) (2.32.3)\n",
      "Requirement already satisfied: tqdm in /opt/anaconda3/lib/python3.12/site-packages (from kagglehub>=0.2.0->-r requirements.txt (line 6)) (4.66.5)\n",
      "Requirement already satisfied: et-xmlfile in /opt/anaconda3/lib/python3.12/site-packages (from openpyxl>=3.0.0->-r requirements.txt (line 7)) (1.1.0)\n",
      "Requirement already satisfied: tenacity>=6.2.0 in /opt/anaconda3/lib/python3.12/site-packages (from plotly>=5.0.0->-r requirements.txt (line 8)) (8.2.3)\n",
      "Requirement already satisfied: notebook in /opt/anaconda3/lib/python3.12/site-packages (from jupyter>=1.0.0->-r requirements.txt (line 9)) (7.2.2)\n",
      "Requirement already satisfied: qtconsole in /opt/anaconda3/lib/python3.12/site-packages (from jupyter>=1.0.0->-r requirements.txt (line 9)) (5.5.1)\n",
      "Requirement already satisfied: jupyter-console in /opt/anaconda3/lib/python3.12/site-packages (from jupyter>=1.0.0->-r requirements.txt (line 9)) (6.6.3)\n",
      "Requirement already satisfied: nbconvert in /opt/anaconda3/lib/python3.12/site-packages (from jupyter>=1.0.0->-r requirements.txt (line 9)) (7.16.4)\n",
      "Requirement already satisfied: ipykernel in /opt/anaconda3/lib/python3.12/site-packages (from jupyter>=1.0.0->-r requirements.txt (line 9)) (6.28.0)\n",
      "Requirement already satisfied: ipywidgets in /opt/anaconda3/lib/python3.12/site-packages (from jupyter>=1.0.0->-r requirements.txt (line 9)) (7.8.1)\n",
      "Requirement already satisfied: six>=1.5 in /opt/anaconda3/lib/python3.12/site-packages (from python-dateutil>=2.8.2->pandas>=1.5.0->-r requirements.txt (line 1)) (1.16.0)\n",
      "Requirement already satisfied: appnope in /opt/anaconda3/lib/python3.12/site-packages (from ipykernel->jupyter>=1.0.0->-r requirements.txt (line 9)) (0.1.3)\n",
      "Requirement already satisfied: comm>=0.1.1 in /opt/anaconda3/lib/python3.12/site-packages (from ipykernel->jupyter>=1.0.0->-r requirements.txt (line 9)) (0.2.1)\n",
      "Requirement already satisfied: debugpy>=1.6.5 in /opt/anaconda3/lib/python3.12/site-packages (from ipykernel->jupyter>=1.0.0->-r requirements.txt (line 9)) (1.6.7)\n",
      "Requirement already satisfied: ipython>=7.23.1 in /opt/anaconda3/lib/python3.12/site-packages (from ipykernel->jupyter>=1.0.0->-r requirements.txt (line 9)) (8.27.0)\n",
      "Requirement already satisfied: jupyter-client>=6.1.12 in /opt/anaconda3/lib/python3.12/site-packages (from ipykernel->jupyter>=1.0.0->-r requirements.txt (line 9)) (8.6.0)\n",
      "Requirement already satisfied: jupyter-core!=5.0.*,>=4.12 in /opt/anaconda3/lib/python3.12/site-packages (from ipykernel->jupyter>=1.0.0->-r requirements.txt (line 9)) (5.7.2)\n",
      "Requirement already satisfied: matplotlib-inline>=0.1 in /opt/anaconda3/lib/python3.12/site-packages (from ipykernel->jupyter>=1.0.0->-r requirements.txt (line 9)) (0.1.6)\n",
      "Requirement already satisfied: nest-asyncio in /opt/anaconda3/lib/python3.12/site-packages (from ipykernel->jupyter>=1.0.0->-r requirements.txt (line 9)) (1.6.0)\n",
      "Requirement already satisfied: psutil in /opt/anaconda3/lib/python3.12/site-packages (from ipykernel->jupyter>=1.0.0->-r requirements.txt (line 9)) (5.9.0)\n",
      "Requirement already satisfied: pyzmq>=24 in /opt/anaconda3/lib/python3.12/site-packages (from ipykernel->jupyter>=1.0.0->-r requirements.txt (line 9)) (25.1.2)\n",
      "Requirement already satisfied: tornado>=6.1 in /opt/anaconda3/lib/python3.12/site-packages (from ipykernel->jupyter>=1.0.0->-r requirements.txt (line 9)) (6.4.1)\n",
      "Requirement already satisfied: traitlets>=5.4.0 in /opt/anaconda3/lib/python3.12/site-packages (from ipykernel->jupyter>=1.0.0->-r requirements.txt (line 9)) (5.14.3)\n",
      "Requirement already satisfied: ipython-genutils~=0.2.0 in /opt/anaconda3/lib/python3.12/site-packages (from ipywidgets->jupyter>=1.0.0->-r requirements.txt (line 9)) (0.2.0)\n",
      "Requirement already satisfied: widgetsnbextension~=3.6.6 in /opt/anaconda3/lib/python3.12/site-packages (from ipywidgets->jupyter>=1.0.0->-r requirements.txt (line 9)) (3.6.6)\n",
      "Requirement already satisfied: jupyterlab-widgets<3,>=1.0.0 in /opt/anaconda3/lib/python3.12/site-packages (from ipywidgets->jupyter>=1.0.0->-r requirements.txt (line 9)) (1.0.0)\n",
      "Requirement already satisfied: prompt-toolkit>=3.0.30 in /opt/anaconda3/lib/python3.12/site-packages (from jupyter-console->jupyter>=1.0.0->-r requirements.txt (line 9)) (3.0.43)\n",
      "Requirement already satisfied: pygments in /opt/anaconda3/lib/python3.12/site-packages (from jupyter-console->jupyter>=1.0.0->-r requirements.txt (line 9)) (2.15.1)\n",
      "Requirement already satisfied: beautifulsoup4 in /opt/anaconda3/lib/python3.12/site-packages (from nbconvert->jupyter>=1.0.0->-r requirements.txt (line 9)) (4.12.3)\n",
      "Requirement already satisfied: bleach!=5.0.0 in /opt/anaconda3/lib/python3.12/site-packages (from nbconvert->jupyter>=1.0.0->-r requirements.txt (line 9)) (4.1.0)\n",
      "Requirement already satisfied: defusedxml in /opt/anaconda3/lib/python3.12/site-packages (from nbconvert->jupyter>=1.0.0->-r requirements.txt (line 9)) (0.7.1)\n",
      "Requirement already satisfied: jinja2>=3.0 in /opt/anaconda3/lib/python3.12/site-packages (from nbconvert->jupyter>=1.0.0->-r requirements.txt (line 9)) (3.1.4)\n",
      "Requirement already satisfied: jupyterlab-pygments in /opt/anaconda3/lib/python3.12/site-packages (from nbconvert->jupyter>=1.0.0->-r requirements.txt (line 9)) (0.1.2)\n",
      "Requirement already satisfied: markupsafe>=2.0 in /opt/anaconda3/lib/python3.12/site-packages (from nbconvert->jupyter>=1.0.0->-r requirements.txt (line 9)) (2.1.3)\n",
      "Requirement already satisfied: mistune<4,>=2.0.3 in /opt/anaconda3/lib/python3.12/site-packages (from nbconvert->jupyter>=1.0.0->-r requirements.txt (line 9)) (2.0.4)\n",
      "Requirement already satisfied: nbclient>=0.5.0 in /opt/anaconda3/lib/python3.12/site-packages (from nbconvert->jupyter>=1.0.0->-r requirements.txt (line 9)) (0.8.0)\n",
      "Requirement already satisfied: nbformat>=5.7 in /opt/anaconda3/lib/python3.12/site-packages (from nbconvert->jupyter>=1.0.0->-r requirements.txt (line 9)) (5.10.4)\n",
      "Requirement already satisfied: pandocfilters>=1.4.1 in /opt/anaconda3/lib/python3.12/site-packages (from nbconvert->jupyter>=1.0.0->-r requirements.txt (line 9)) (1.5.0)\n",
      "Requirement already satisfied: tinycss2 in /opt/anaconda3/lib/python3.12/site-packages (from nbconvert->jupyter>=1.0.0->-r requirements.txt (line 9)) (1.2.1)\n",
      "Requirement already satisfied: jupyter-server<3,>=2.4.0 in /opt/anaconda3/lib/python3.12/site-packages (from notebook->jupyter>=1.0.0->-r requirements.txt (line 9)) (2.14.1)\n",
      "Requirement already satisfied: jupyterlab-server<3,>=2.27.1 in /opt/anaconda3/lib/python3.12/site-packages (from notebook->jupyter>=1.0.0->-r requirements.txt (line 9)) (2.27.3)\n",
      "Requirement already satisfied: jupyterlab<4.3,>=4.2.0 in /opt/anaconda3/lib/python3.12/site-packages (from notebook->jupyter>=1.0.0->-r requirements.txt (line 9)) (4.2.5)\n",
      "Requirement already satisfied: notebook-shim<0.3,>=0.2 in /opt/anaconda3/lib/python3.12/site-packages (from notebook->jupyter>=1.0.0->-r requirements.txt (line 9)) (0.2.3)\n",
      "Requirement already satisfied: qtpy>=2.4.0 in /opt/anaconda3/lib/python3.12/site-packages (from qtconsole->jupyter>=1.0.0->-r requirements.txt (line 9)) (2.4.1)\n",
      "Requirement already satisfied: charset-normalizer<4,>=2 in /opt/anaconda3/lib/python3.12/site-packages (from requests->kagglehub>=0.2.0->-r requirements.txt (line 6)) (3.3.2)\n",
      "Requirement already satisfied: idna<4,>=2.5 in /opt/anaconda3/lib/python3.12/site-packages (from requests->kagglehub>=0.2.0->-r requirements.txt (line 6)) (3.7)\n",
      "Requirement already satisfied: urllib3<3,>=1.21.1 in /opt/anaconda3/lib/python3.12/site-packages (from requests->kagglehub>=0.2.0->-r requirements.txt (line 6)) (1.26.20)\n",
      "Requirement already satisfied: certifi>=2017.4.17 in /opt/anaconda3/lib/python3.12/site-packages (from requests->kagglehub>=0.2.0->-r requirements.txt (line 6)) (2025.1.31)\n",
      "Requirement already satisfied: webencodings in /opt/anaconda3/lib/python3.12/site-packages (from bleach!=5.0.0->nbconvert->jupyter>=1.0.0->-r requirements.txt (line 9)) (0.5.1)\n",
      "Requirement already satisfied: decorator in /opt/anaconda3/lib/python3.12/site-packages (from ipython>=7.23.1->ipykernel->jupyter>=1.0.0->-r requirements.txt (line 9)) (5.1.1)\n",
      "Requirement already satisfied: jedi>=0.16 in /opt/anaconda3/lib/python3.12/site-packages (from ipython>=7.23.1->ipykernel->jupyter>=1.0.0->-r requirements.txt (line 9)) (0.19.1)\n",
      "Requirement already satisfied: stack-data in /opt/anaconda3/lib/python3.12/site-packages (from ipython>=7.23.1->ipykernel->jupyter>=1.0.0->-r requirements.txt (line 9)) (0.2.0)\n",
      "Requirement already satisfied: pexpect>4.3 in /opt/anaconda3/lib/python3.12/site-packages (from ipython>=7.23.1->ipykernel->jupyter>=1.0.0->-r requirements.txt (line 9)) (4.8.0)\n",
      "Requirement already satisfied: platformdirs>=2.5 in /opt/anaconda3/lib/python3.12/site-packages (from jupyter-core!=5.0.*,>=4.12->ipykernel->jupyter>=1.0.0->-r requirements.txt (line 9)) (3.10.0)\n",
      "Requirement already satisfied: anyio>=3.1.0 in /opt/anaconda3/lib/python3.12/site-packages (from jupyter-server<3,>=2.4.0->notebook->jupyter>=1.0.0->-r requirements.txt (line 9)) (4.2.0)\n",
      "Requirement already satisfied: argon2-cffi>=21.1 in /opt/anaconda3/lib/python3.12/site-packages (from jupyter-server<3,>=2.4.0->notebook->jupyter>=1.0.0->-r requirements.txt (line 9)) (21.3.0)\n",
      "Requirement already satisfied: jupyter-events>=0.9.0 in /opt/anaconda3/lib/python3.12/site-packages (from jupyter-server<3,>=2.4.0->notebook->jupyter>=1.0.0->-r requirements.txt (line 9)) (0.10.0)\n",
      "Requirement already satisfied: jupyter-server-terminals>=0.4.4 in /opt/anaconda3/lib/python3.12/site-packages (from jupyter-server<3,>=2.4.0->notebook->jupyter>=1.0.0->-r requirements.txt (line 9)) (0.4.4)\n",
      "Requirement already satisfied: overrides>=5.0 in /opt/anaconda3/lib/python3.12/site-packages (from jupyter-server<3,>=2.4.0->notebook->jupyter>=1.0.0->-r requirements.txt (line 9)) (7.4.0)\n",
      "Requirement already satisfied: prometheus-client>=0.9 in /opt/anaconda3/lib/python3.12/site-packages (from jupyter-server<3,>=2.4.0->notebook->jupyter>=1.0.0->-r requirements.txt (line 9)) (0.14.1)\n",
      "Requirement already satisfied: send2trash>=1.8.2 in /opt/anaconda3/lib/python3.12/site-packages (from jupyter-server<3,>=2.4.0->notebook->jupyter>=1.0.0->-r requirements.txt (line 9)) (1.8.2)\n",
      "Requirement already satisfied: terminado>=0.8.3 in /opt/anaconda3/lib/python3.12/site-packages (from jupyter-server<3,>=2.4.0->notebook->jupyter>=1.0.0->-r requirements.txt (line 9)) (0.17.1)\n",
      "Requirement already satisfied: websocket-client>=1.7 in /opt/anaconda3/lib/python3.12/site-packages (from jupyter-server<3,>=2.4.0->notebook->jupyter>=1.0.0->-r requirements.txt (line 9)) (1.8.0)\n",
      "Requirement already satisfied: async-lru>=1.0.0 in /opt/anaconda3/lib/python3.12/site-packages (from jupyterlab<4.3,>=4.2.0->notebook->jupyter>=1.0.0->-r requirements.txt (line 9)) (2.0.4)\n",
      "Requirement already satisfied: httpx>=0.25.0 in /opt/anaconda3/lib/python3.12/site-packages (from jupyterlab<4.3,>=4.2.0->notebook->jupyter>=1.0.0->-r requirements.txt (line 9)) (0.27.0)\n",
      "Requirement already satisfied: jupyter-lsp>=2.0.0 in /opt/anaconda3/lib/python3.12/site-packages (from jupyterlab<4.3,>=4.2.0->notebook->jupyter>=1.0.0->-r requirements.txt (line 9)) (2.2.0)\n",
      "Requirement already satisfied: setuptools>=40.1.0 in /opt/anaconda3/lib/python3.12/site-packages (from jupyterlab<4.3,>=4.2.0->notebook->jupyter>=1.0.0->-r requirements.txt (line 9)) (75.1.0)\n",
      "Requirement already satisfied: babel>=2.10 in /opt/anaconda3/lib/python3.12/site-packages (from jupyterlab-server<3,>=2.27.1->notebook->jupyter>=1.0.0->-r requirements.txt (line 9)) (2.11.0)\n",
      "Requirement already satisfied: json5>=0.9.0 in /opt/anaconda3/lib/python3.12/site-packages (from jupyterlab-server<3,>=2.27.1->notebook->jupyter>=1.0.0->-r requirements.txt (line 9)) (0.9.6)\n",
      "Requirement already satisfied: jsonschema>=4.18.0 in /opt/anaconda3/lib/python3.12/site-packages (from jupyterlab-server<3,>=2.27.1->notebook->jupyter>=1.0.0->-r requirements.txt (line 9)) (4.23.0)\n",
      "Requirement already satisfied: fastjsonschema>=2.15 in /opt/anaconda3/lib/python3.12/site-packages (from nbformat>=5.7->nbconvert->jupyter>=1.0.0->-r requirements.txt (line 9)) (2.16.2)\n",
      "Requirement already satisfied: wcwidth in /opt/anaconda3/lib/python3.12/site-packages (from prompt-toolkit>=3.0.30->jupyter-console->jupyter>=1.0.0->-r requirements.txt (line 9)) (0.2.5)\n",
      "Requirement already satisfied: soupsieve>1.2 in /opt/anaconda3/lib/python3.12/site-packages (from beautifulsoup4->nbconvert->jupyter>=1.0.0->-r requirements.txt (line 9)) (2.5)\n",
      "Requirement already satisfied: sniffio>=1.1 in /opt/anaconda3/lib/python3.12/site-packages (from anyio>=3.1.0->jupyter-server<3,>=2.4.0->notebook->jupyter>=1.0.0->-r requirements.txt (line 9)) (1.3.0)\n",
      "Requirement already satisfied: argon2-cffi-bindings in /opt/anaconda3/lib/python3.12/site-packages (from argon2-cffi>=21.1->jupyter-server<3,>=2.4.0->notebook->jupyter>=1.0.0->-r requirements.txt (line 9)) (21.2.0)\n",
      "Requirement already satisfied: httpcore==1.* in /opt/anaconda3/lib/python3.12/site-packages (from httpx>=0.25.0->jupyterlab<4.3,>=4.2.0->notebook->jupyter>=1.0.0->-r requirements.txt (line 9)) (1.0.2)\n",
      "Requirement already satisfied: h11<0.15,>=0.13 in /opt/anaconda3/lib/python3.12/site-packages (from httpcore==1.*->httpx>=0.25.0->jupyterlab<4.3,>=4.2.0->notebook->jupyter>=1.0.0->-r requirements.txt (line 9)) (0.14.0)\n",
      "Requirement already satisfied: parso<0.9.0,>=0.8.3 in /opt/anaconda3/lib/python3.12/site-packages (from jedi>=0.16->ipython>=7.23.1->ipykernel->jupyter>=1.0.0->-r requirements.txt (line 9)) (0.8.3)\n",
      "Requirement already satisfied: attrs>=22.2.0 in /opt/anaconda3/lib/python3.12/site-packages (from jsonschema>=4.18.0->jupyterlab-server<3,>=2.27.1->notebook->jupyter>=1.0.0->-r requirements.txt (line 9)) (25.3.0)\n",
      "Requirement already satisfied: jsonschema-specifications>=2023.03.6 in /opt/anaconda3/lib/python3.12/site-packages (from jsonschema>=4.18.0->jupyterlab-server<3,>=2.27.1->notebook->jupyter>=1.0.0->-r requirements.txt (line 9)) (2023.7.1)\n",
      "Requirement already satisfied: referencing>=0.28.4 in /opt/anaconda3/lib/python3.12/site-packages (from jsonschema>=4.18.0->jupyterlab-server<3,>=2.27.1->notebook->jupyter>=1.0.0->-r requirements.txt (line 9)) (0.30.2)\n",
      "Requirement already satisfied: rpds-py>=0.7.1 in /opt/anaconda3/lib/python3.12/site-packages (from jsonschema>=4.18.0->jupyterlab-server<3,>=2.27.1->notebook->jupyter>=1.0.0->-r requirements.txt (line 9)) (0.10.6)\n",
      "Requirement already satisfied: python-json-logger>=2.0.4 in /opt/anaconda3/lib/python3.12/site-packages (from jupyter-events>=0.9.0->jupyter-server<3,>=2.4.0->notebook->jupyter>=1.0.0->-r requirements.txt (line 9)) (2.0.7)\n",
      "Requirement already satisfied: rfc3339-validator in /opt/anaconda3/lib/python3.12/site-packages (from jupyter-events>=0.9.0->jupyter-server<3,>=2.4.0->notebook->jupyter>=1.0.0->-r requirements.txt (line 9)) (0.1.4)\n",
      "Requirement already satisfied: rfc3986-validator>=0.1.1 in /opt/anaconda3/lib/python3.12/site-packages (from jupyter-events>=0.9.0->jupyter-server<3,>=2.4.0->notebook->jupyter>=1.0.0->-r requirements.txt (line 9)) (0.1.1)\n",
      "Requirement already satisfied: ptyprocess>=0.5 in /opt/anaconda3/lib/python3.12/site-packages (from pexpect>4.3->ipython>=7.23.1->ipykernel->jupyter>=1.0.0->-r requirements.txt (line 9)) (0.7.0)\n",
      "Requirement already satisfied: executing in /opt/anaconda3/lib/python3.12/site-packages (from stack-data->ipython>=7.23.1->ipykernel->jupyter>=1.0.0->-r requirements.txt (line 9)) (0.8.3)\n",
      "Requirement already satisfied: asttokens in /opt/anaconda3/lib/python3.12/site-packages (from stack-data->ipython>=7.23.1->ipykernel->jupyter>=1.0.0->-r requirements.txt (line 9)) (2.0.5)\n",
      "Requirement already satisfied: pure-eval in /opt/anaconda3/lib/python3.12/site-packages (from stack-data->ipython>=7.23.1->ipykernel->jupyter>=1.0.0->-r requirements.txt (line 9)) (0.2.2)\n",
      "Requirement already satisfied: fqdn in /opt/anaconda3/lib/python3.12/site-packages (from jsonschema[format-nongpl]>=4.18.0->jupyter-events>=0.9.0->jupyter-server<3,>=2.4.0->notebook->jupyter>=1.0.0->-r requirements.txt (line 9)) (1.5.1)\n",
      "Requirement already satisfied: isoduration in /opt/anaconda3/lib/python3.12/site-packages (from jsonschema[format-nongpl]>=4.18.0->jupyter-events>=0.9.0->jupyter-server<3,>=2.4.0->notebook->jupyter>=1.0.0->-r requirements.txt (line 9)) (20.11.0)\n",
      "Requirement already satisfied: jsonpointer>1.13 in /opt/anaconda3/lib/python3.12/site-packages (from jsonschema[format-nongpl]>=4.18.0->jupyter-events>=0.9.0->jupyter-server<3,>=2.4.0->notebook->jupyter>=1.0.0->-r requirements.txt (line 9)) (2.1)\n",
      "Requirement already satisfied: uri-template in /opt/anaconda3/lib/python3.12/site-packages (from jsonschema[format-nongpl]>=4.18.0->jupyter-events>=0.9.0->jupyter-server<3,>=2.4.0->notebook->jupyter>=1.0.0->-r requirements.txt (line 9)) (1.3.0)\n",
      "Requirement already satisfied: webcolors>=24.6.0 in /opt/anaconda3/lib/python3.12/site-packages (from jsonschema[format-nongpl]>=4.18.0->jupyter-events>=0.9.0->jupyter-server<3,>=2.4.0->notebook->jupyter>=1.0.0->-r requirements.txt (line 9)) (24.11.1)\n",
      "Requirement already satisfied: cffi>=1.0.1 in /opt/anaconda3/lib/python3.12/site-packages (from argon2-cffi-bindings->argon2-cffi>=21.1->jupyter-server<3,>=2.4.0->notebook->jupyter>=1.0.0->-r requirements.txt (line 9)) (1.17.1)\n",
      "Requirement already satisfied: pycparser in /opt/anaconda3/lib/python3.12/site-packages (from cffi>=1.0.1->argon2-cffi-bindings->argon2-cffi>=21.1->jupyter-server<3,>=2.4.0->notebook->jupyter>=1.0.0->-r requirements.txt (line 9)) (2.21)\n",
      "Requirement already satisfied: arrow>=0.15.0 in /opt/anaconda3/lib/python3.12/site-packages (from isoduration->jsonschema[format-nongpl]>=4.18.0->jupyter-events>=0.9.0->jupyter-server<3,>=2.4.0->notebook->jupyter>=1.0.0->-r requirements.txt (line 9)) (1.2.3)\n"
<<<<<<< HEAD
>>>>>>> 63d6d15 (Add table of contents structure and requirements.txt)
=======
      "Requirement already satisfied: pandas>=1.5.0 in c:\\anaconda\\envs\\sql_packages\\lib\\site-packages (from -r requirements.txt (line 1)) (2.2.3)\n",
      "Requirement already satisfied: numpy>=1.21.0 in c:\\anaconda\\envs\\sql_packages\\lib\\site-packages (from -r requirements.txt (line 2)) (1.26.4)\n",
      "Requirement already satisfied: matplotlib>=3.5.0 in c:\\anaconda\\envs\\sql_packages\\lib\\site-packages (from -r requirements.txt (line 3)) (3.10.3)\n",
      "Requirement already satisfied: seaborn>=0.11.0 in c:\\anaconda\\envs\\sql_packages\\lib\\site-packages (from -r requirements.txt (line 4)) (0.13.2)\n",
      "Requirement already satisfied: scipy>=1.9.0 in c:\\anaconda\\envs\\sql_packages\\lib\\site-packages (from -r requirements.txt (line 5)) (1.16.0)\n",
      "Requirement already satisfied: kagglehub>=0.2.0 in c:\\anaconda\\envs\\sql_packages\\lib\\site-packages (from -r requirements.txt (line 6)) (0.3.12)\n",
      "Collecting openpyxl>=3.0.0 (from -r requirements.txt (line 7))\n",
      "  Downloading openpyxl-3.1.5-py2.py3-none-any.whl.metadata (2.5 kB)\n",
      "Collecting plotly>=5.0.0 (from -r requirements.txt (line 8))\n",
      "  Downloading plotly-6.2.0-py3-none-any.whl.metadata (8.5 kB)\n",
      "Collecting jupyter>=1.0.0 (from -r requirements.txt (line 9))\n",
      "  Using cached jupyter-1.1.1-py2.py3-none-any.whl.metadata (2.0 kB)\n",
      "Requirement already satisfied: python-dateutil>=2.8.2 in c:\\anaconda\\envs\\sql_packages\\lib\\site-packages (from pandas>=1.5.0->-r requirements.txt (line 1)) (2.9.0.post0)\n",
      "Requirement already satisfied: pytz>=2020.1 in c:\\anaconda\\envs\\sql_packages\\lib\\site-packages (from pandas>=1.5.0->-r requirements.txt (line 1)) (2024.1)\n",
      "Requirement already satisfied: tzdata>=2022.7 in c:\\anaconda\\envs\\sql_packages\\lib\\site-packages (from pandas>=1.5.0->-r requirements.txt (line 1)) (2023.3)\n",
      "Requirement already satisfied: contourpy>=1.0.1 in c:\\anaconda\\envs\\sql_packages\\lib\\site-packages (from matplotlib>=3.5.0->-r requirements.txt (line 3)) (1.3.2)\n",
      "Requirement already satisfied: cycler>=0.10 in c:\\anaconda\\envs\\sql_packages\\lib\\site-packages (from matplotlib>=3.5.0->-r requirements.txt (line 3)) (0.12.1)\n",
      "Requirement already satisfied: fonttools>=4.22.0 in c:\\anaconda\\envs\\sql_packages\\lib\\site-packages (from matplotlib>=3.5.0->-r requirements.txt (line 3)) (4.58.0)\n",
      "Requirement already satisfied: kiwisolver>=1.3.1 in c:\\anaconda\\envs\\sql_packages\\lib\\site-packages (from matplotlib>=3.5.0->-r requirements.txt (line 3)) (1.4.8)\n",
      "Requirement already satisfied: packaging>=20.0 in c:\\anaconda\\envs\\sql_packages\\lib\\site-packages (from matplotlib>=3.5.0->-r requirements.txt (line 3)) (24.2)\n",
      "Requirement already satisfied: pillow>=8 in c:\\anaconda\\envs\\sql_packages\\lib\\site-packages (from matplotlib>=3.5.0->-r requirements.txt (line 3)) (11.2.1)\n",
      "Requirement already satisfied: pyparsing>=2.3.1 in c:\\anaconda\\envs\\sql_packages\\lib\\site-packages (from matplotlib>=3.5.0->-r requirements.txt (line 3)) (3.2.3)\n",
      "Requirement already satisfied: pyyaml in c:\\anaconda\\envs\\sql_packages\\lib\\site-packages (from kagglehub>=0.2.0->-r requirements.txt (line 6)) (6.0.2)\n",
      "Requirement already satisfied: requests in c:\\anaconda\\envs\\sql_packages\\lib\\site-packages (from kagglehub>=0.2.0->-r requirements.txt (line 6)) (2.32.3)\n",
      "Requirement already satisfied: tqdm in c:\\anaconda\\envs\\sql_packages\\lib\\site-packages (from kagglehub>=0.2.0->-r requirements.txt (line 6)) (4.67.1)\n",
      "Collecting et-xmlfile (from openpyxl>=3.0.0->-r requirements.txt (line 7))\n",
      "  Downloading et_xmlfile-2.0.0-py3-none-any.whl.metadata (2.7 kB)\n",
      "Collecting narwhals>=1.15.1 (from plotly>=5.0.0->-r requirements.txt (line 8))\n",
      "  Downloading narwhals-1.48.0-py3-none-any.whl.metadata (11 kB)\n",
      "Requirement already satisfied: notebook in c:\\anaconda\\envs\\sql_packages\\lib\\site-packages (from jupyter>=1.0.0->-r requirements.txt (line 9)) (7.3.2)\n",
      "Collecting jupyter-console (from jupyter>=1.0.0->-r requirements.txt (line 9))\n",
      "  Using cached jupyter_console-6.6.3-py3-none-any.whl.metadata (5.8 kB)\n",
      "Requirement already satisfied: nbconvert in c:\\anaconda\\envs\\sql_packages\\lib\\site-packages (from jupyter>=1.0.0->-r requirements.txt (line 9)) (7.16.6)\n",
      "Requirement already satisfied: ipykernel in c:\\anaconda\\envs\\sql_packages\\lib\\site-packages (from jupyter>=1.0.0->-r requirements.txt (line 9)) (6.29.5)\n",
      "Requirement already satisfied: ipywidgets in c:\\anaconda\\envs\\sql_packages\\lib\\site-packages (from jupyter>=1.0.0->-r requirements.txt (line 9)) (8.1.7)\n",
      "Requirement already satisfied: jupyterlab in c:\\anaconda\\envs\\sql_packages\\lib\\site-packages (from jupyter>=1.0.0->-r requirements.txt (line 9)) (4.3.4)\n",
      "Requirement already satisfied: six>=1.5 in c:\\anaconda\\envs\\sql_packages\\lib\\site-packages (from python-dateutil>=2.8.2->pandas>=1.5.0->-r requirements.txt (line 1)) (1.16.0)\n",
      "Requirement already satisfied: comm>=0.1.1 in c:\\anaconda\\envs\\sql_packages\\lib\\site-packages (from ipykernel->jupyter>=1.0.0->-r requirements.txt (line 9)) (0.2.1)\n",
      "Requirement already satisfied: debugpy>=1.6.5 in c:\\anaconda\\envs\\sql_packages\\lib\\site-packages (from ipykernel->jupyter>=1.0.0->-r requirements.txt (line 9)) (1.8.11)\n",
      "Requirement already satisfied: ipython>=7.23.1 in c:\\anaconda\\envs\\sql_packages\\lib\\site-packages (from ipykernel->jupyter>=1.0.0->-r requirements.txt (line 9)) (8.30.0)\n",
      "Requirement already satisfied: jupyter-client>=6.1.12 in c:\\anaconda\\envs\\sql_packages\\lib\\site-packages (from ipykernel->jupyter>=1.0.0->-r requirements.txt (line 9)) (8.6.3)\n",
      "Requirement already satisfied: jupyter-core!=5.0.*,>=4.12 in c:\\anaconda\\envs\\sql_packages\\lib\\site-packages (from ipykernel->jupyter>=1.0.0->-r requirements.txt (line 9)) (5.7.2)\n",
      "Requirement already satisfied: matplotlib-inline>=0.1 in c:\\anaconda\\envs\\sql_packages\\lib\\site-packages (from ipykernel->jupyter>=1.0.0->-r requirements.txt (line 9)) (0.1.6)\n",
      "Requirement already satisfied: nest-asyncio in c:\\anaconda\\envs\\sql_packages\\lib\\site-packages (from ipykernel->jupyter>=1.0.0->-r requirements.txt (line 9)) (1.6.0)\n",
      "Requirement already satisfied: psutil in c:\\anaconda\\envs\\sql_packages\\lib\\site-packages (from ipykernel->jupyter>=1.0.0->-r requirements.txt (line 9)) (5.9.0)\n",
      "Requirement already satisfied: pyzmq>=24 in c:\\anaconda\\envs\\sql_packages\\lib\\site-packages (from ipykernel->jupyter>=1.0.0->-r requirements.txt (line 9)) (26.2.0)\n",
      "Requirement already satisfied: tornado>=6.1 in c:\\anaconda\\envs\\sql_packages\\lib\\site-packages (from ipykernel->jupyter>=1.0.0->-r requirements.txt (line 9)) (6.4.2)\n",
      "Requirement already satisfied: traitlets>=5.4.0 in c:\\anaconda\\envs\\sql_packages\\lib\\site-packages (from ipykernel->jupyter>=1.0.0->-r requirements.txt (line 9)) (5.14.3)\n",
      "Requirement already satisfied: widgetsnbextension~=4.0.14 in c:\\anaconda\\envs\\sql_packages\\lib\\site-packages (from ipywidgets->jupyter>=1.0.0->-r requirements.txt (line 9)) (4.0.14)\n",
      "Requirement already satisfied: jupyterlab_widgets~=3.0.15 in c:\\anaconda\\envs\\sql_packages\\lib\\site-packages (from ipywidgets->jupyter>=1.0.0->-r requirements.txt (line 9)) (3.0.15)\n",
      "Requirement already satisfied: prompt-toolkit>=3.0.30 in c:\\anaconda\\envs\\sql_packages\\lib\\site-packages (from jupyter-console->jupyter>=1.0.0->-r requirements.txt (line 9)) (3.0.43)\n",
      "Requirement already satisfied: pygments in c:\\anaconda\\envs\\sql_packages\\lib\\site-packages (from jupyter-console->jupyter>=1.0.0->-r requirements.txt (line 9)) (2.15.1)\n",
      "Requirement already satisfied: async-lru>=1.0.0 in c:\\anaconda\\envs\\sql_packages\\lib\\site-packages (from jupyterlab->jupyter>=1.0.0->-r requirements.txt (line 9)) (2.0.4)\n",
      "Requirement already satisfied: httpx>=0.25.0 in c:\\anaconda\\envs\\sql_packages\\lib\\site-packages (from jupyterlab->jupyter>=1.0.0->-r requirements.txt (line 9)) (0.27.0)\n",
      "Requirement already satisfied: jinja2>=3.0.3 in c:\\anaconda\\envs\\sql_packages\\lib\\site-packages (from jupyterlab->jupyter>=1.0.0->-r requirements.txt (line 9)) (3.1.6)\n",
      "Requirement already satisfied: jupyter-lsp>=2.0.0 in c:\\anaconda\\envs\\sql_packages\\lib\\site-packages (from jupyterlab->jupyter>=1.0.0->-r requirements.txt (line 9)) (2.2.0)\n",
      "Requirement already satisfied: jupyter-server<3,>=2.4.0 in c:\\anaconda\\envs\\sql_packages\\lib\\site-packages (from jupyterlab->jupyter>=1.0.0->-r requirements.txt (line 9)) (2.15.0)\n",
      "Requirement already satisfied: jupyterlab-server<3,>=2.27.1 in c:\\anaconda\\envs\\sql_packages\\lib\\site-packages (from jupyterlab->jupyter>=1.0.0->-r requirements.txt (line 9)) (2.27.3)\n",
      "Requirement already satisfied: notebook-shim>=0.2 in c:\\anaconda\\envs\\sql_packages\\lib\\site-packages (from jupyterlab->jupyter>=1.0.0->-r requirements.txt (line 9)) (0.2.4)\n",
      "Requirement already satisfied: setuptools>=40.8.0 in c:\\anaconda\\envs\\sql_packages\\lib\\site-packages (from jupyterlab->jupyter>=1.0.0->-r requirements.txt (line 9)) (75.8.0)\n",
      "Requirement already satisfied: beautifulsoup4 in c:\\anaconda\\envs\\sql_packages\\lib\\site-packages (from nbconvert->jupyter>=1.0.0->-r requirements.txt (line 9)) (4.12.3)\n",
      "Requirement already satisfied: bleach!=5.0.0 in c:\\anaconda\\envs\\sql_packages\\lib\\site-packages (from bleach[css]!=5.0.0->nbconvert->jupyter>=1.0.0->-r requirements.txt (line 9)) (6.2.0)\n",
      "Requirement already satisfied: defusedxml in c:\\anaconda\\envs\\sql_packages\\lib\\site-packages (from nbconvert->jupyter>=1.0.0->-r requirements.txt (line 9)) (0.7.1)\n",
      "Requirement already satisfied: jupyterlab-pygments in c:\\anaconda\\envs\\sql_packages\\lib\\site-packages (from nbconvert->jupyter>=1.0.0->-r requirements.txt (line 9)) (0.3.0)\n",
      "Requirement already satisfied: markupsafe>=2.0 in c:\\anaconda\\envs\\sql_packages\\lib\\site-packages (from nbconvert->jupyter>=1.0.0->-r requirements.txt (line 9)) (3.0.2)\n",
      "Requirement already satisfied: mistune<4,>=2.0.3 in c:\\anaconda\\envs\\sql_packages\\lib\\site-packages (from nbconvert->jupyter>=1.0.0->-r requirements.txt (line 9)) (3.1.2)\n",
      "Requirement already satisfied: nbclient>=0.5.0 in c:\\anaconda\\envs\\sql_packages\\lib\\site-packages (from nbconvert->jupyter>=1.0.0->-r requirements.txt (line 9)) (0.10.2)\n",
      "Requirement already satisfied: nbformat>=5.7 in c:\\anaconda\\envs\\sql_packages\\lib\\site-packages (from nbconvert->jupyter>=1.0.0->-r requirements.txt (line 9)) (5.10.4)\n",
      "Requirement already satisfied: pandocfilters>=1.4.1 in c:\\anaconda\\envs\\sql_packages\\lib\\site-packages (from nbconvert->jupyter>=1.0.0->-r requirements.txt (line 9)) (1.5.0)\n",
      "Requirement already satisfied: charset-normalizer<4,>=2 in c:\\anaconda\\envs\\sql_packages\\lib\\site-packages (from requests->kagglehub>=0.2.0->-r requirements.txt (line 6)) (3.3.2)\n",
      "Requirement already satisfied: idna<4,>=2.5 in c:\\anaconda\\envs\\sql_packages\\lib\\site-packages (from requests->kagglehub>=0.2.0->-r requirements.txt (line 6)) (3.7)\n",
      "Requirement already satisfied: urllib3<3,>=1.21.1 in c:\\anaconda\\envs\\sql_packages\\lib\\site-packages (from requests->kagglehub>=0.2.0->-r requirements.txt (line 6)) (2.3.0)\n",
      "Requirement already satisfied: certifi>=2017.4.17 in c:\\anaconda\\envs\\sql_packages\\lib\\site-packages (from requests->kagglehub>=0.2.0->-r requirements.txt (line 6)) (2025.1.31)\n",
      "Requirement already satisfied: colorama in c:\\anaconda\\envs\\sql_packages\\lib\\site-packages (from tqdm->kagglehub>=0.2.0->-r requirements.txt (line 6)) (0.4.6)\n",
      "Requirement already satisfied: webencodings in c:\\anaconda\\envs\\sql_packages\\lib\\site-packages (from bleach!=5.0.0->bleach[css]!=5.0.0->nbconvert->jupyter>=1.0.0->-r requirements.txt (line 9)) (0.5.1)\n",
      "Requirement already satisfied: tinycss2<1.5,>=1.1.0 in c:\\anaconda\\envs\\sql_packages\\lib\\site-packages (from bleach[css]!=5.0.0->nbconvert->jupyter>=1.0.0->-r requirements.txt (line 9)) (1.4.0)\n",
      "Requirement already satisfied: anyio in c:\\anaconda\\envs\\sql_packages\\lib\\site-packages (from httpx>=0.25.0->jupyterlab->jupyter>=1.0.0->-r requirements.txt (line 9)) (4.6.2)\n",
      "Requirement already satisfied: httpcore==1.* in c:\\anaconda\\envs\\sql_packages\\lib\\site-packages (from httpx>=0.25.0->jupyterlab->jupyter>=1.0.0->-r requirements.txt (line 9)) (1.0.2)\n",
      "Requirement already satisfied: sniffio in c:\\anaconda\\envs\\sql_packages\\lib\\site-packages (from httpx>=0.25.0->jupyterlab->jupyter>=1.0.0->-r requirements.txt (line 9)) (1.3.0)\n",
      "Requirement already satisfied: h11<0.15,>=0.13 in c:\\anaconda\\envs\\sql_packages\\lib\\site-packages (from httpcore==1.*->httpx>=0.25.0->jupyterlab->jupyter>=1.0.0->-r requirements.txt (line 9)) (0.14.0)\n",
      "Requirement already satisfied: decorator in c:\\anaconda\\envs\\sql_packages\\lib\\site-packages (from ipython>=7.23.1->ipykernel->jupyter>=1.0.0->-r requirements.txt (line 9)) (5.1.1)\n",
      "Requirement already satisfied: jedi>=0.16 in c:\\anaconda\\envs\\sql_packages\\lib\\site-packages (from ipython>=7.23.1->ipykernel->jupyter>=1.0.0->-r requirements.txt (line 9)) (0.19.2)\n",
      "Requirement already satisfied: stack-data in c:\\anaconda\\envs\\sql_packages\\lib\\site-packages (from ipython>=7.23.1->ipykernel->jupyter>=1.0.0->-r requirements.txt (line 9)) (0.2.0)\n",
      "Requirement already satisfied: platformdirs>=2.5 in c:\\anaconda\\envs\\sql_packages\\lib\\site-packages (from jupyter-core!=5.0.*,>=4.12->ipykernel->jupyter>=1.0.0->-r requirements.txt (line 9)) (3.10.0)\n",
      "Requirement already satisfied: pywin32>=300 in c:\\anaconda\\envs\\sql_packages\\lib\\site-packages (from jupyter-core!=5.0.*,>=4.12->ipykernel->jupyter>=1.0.0->-r requirements.txt (line 9)) (308)\n",
      "Requirement already satisfied: argon2-cffi>=21.1 in c:\\anaconda\\envs\\sql_packages\\lib\\site-packages (from jupyter-server<3,>=2.4.0->jupyterlab->jupyter>=1.0.0->-r requirements.txt (line 9)) (21.3.0)\n",
      "Requirement already satisfied: jupyter-events>=0.11.0 in c:\\anaconda\\envs\\sql_packages\\lib\\site-packages (from jupyter-server<3,>=2.4.0->jupyterlab->jupyter>=1.0.0->-r requirements.txt (line 9)) (0.12.0)\n",
      "Requirement already satisfied: jupyter-server-terminals>=0.4.4 in c:\\anaconda\\envs\\sql_packages\\lib\\site-packages (from jupyter-server<3,>=2.4.0->jupyterlab->jupyter>=1.0.0->-r requirements.txt (line 9)) (0.4.4)\n",
      "Requirement already satisfied: overrides>=5.0 in c:\\anaconda\\envs\\sql_packages\\lib\\site-packages (from jupyter-server<3,>=2.4.0->jupyterlab->jupyter>=1.0.0->-r requirements.txt (line 9)) (7.4.0)\n",
      "Requirement already satisfied: prometheus-client>=0.9 in c:\\anaconda\\envs\\sql_packages\\lib\\site-packages (from jupyter-server<3,>=2.4.0->jupyterlab->jupyter>=1.0.0->-r requirements.txt (line 9)) (0.21.0)\n",
      "Requirement already satisfied: pywinpty>=2.0.1 in c:\\anaconda\\envs\\sql_packages\\lib\\site-packages (from jupyter-server<3,>=2.4.0->jupyterlab->jupyter>=1.0.0->-r requirements.txt (line 9)) (2.0.15)\n",
      "Requirement already satisfied: send2trash>=1.8.2 in c:\\anaconda\\envs\\sql_packages\\lib\\site-packages (from jupyter-server<3,>=2.4.0->jupyterlab->jupyter>=1.0.0->-r requirements.txt (line 9)) (1.8.2)\n",
      "Requirement already satisfied: terminado>=0.8.3 in c:\\anaconda\\envs\\sql_packages\\lib\\site-packages (from jupyter-server<3,>=2.4.0->jupyterlab->jupyter>=1.0.0->-r requirements.txt (line 9)) (0.17.1)\n",
      "Requirement already satisfied: websocket-client>=1.7 in c:\\anaconda\\envs\\sql_packages\\lib\\site-packages (from jupyter-server<3,>=2.4.0->jupyterlab->jupyter>=1.0.0->-r requirements.txt (line 9)) (1.8.0)\n",
      "Requirement already satisfied: babel>=2.10 in c:\\anaconda\\envs\\sql_packages\\lib\\site-packages (from jupyterlab-server<3,>=2.27.1->jupyterlab->jupyter>=1.0.0->-r requirements.txt (line 9)) (2.16.0)\n",
      "Requirement already satisfied: json5>=0.9.0 in c:\\anaconda\\envs\\sql_packages\\lib\\site-packages (from jupyterlab-server<3,>=2.27.1->jupyterlab->jupyter>=1.0.0->-r requirements.txt (line 9)) (0.9.25)\n",
      "Requirement already satisfied: jsonschema>=4.18.0 in c:\\anaconda\\envs\\sql_packages\\lib\\site-packages (from jupyterlab-server<3,>=2.27.1->jupyterlab->jupyter>=1.0.0->-r requirements.txt (line 9)) (4.23.0)\n",
      "Requirement already satisfied: fastjsonschema>=2.15 in c:\\anaconda\\envs\\sql_packages\\lib\\site-packages (from nbformat>=5.7->nbconvert->jupyter>=1.0.0->-r requirements.txt (line 9)) (2.20.0)\n",
      "Requirement already satisfied: wcwidth in c:\\anaconda\\envs\\sql_packages\\lib\\site-packages (from prompt-toolkit>=3.0.30->jupyter-console->jupyter>=1.0.0->-r requirements.txt (line 9)) (0.2.5)\n",
      "Requirement already satisfied: soupsieve>1.2 in c:\\anaconda\\envs\\sql_packages\\lib\\site-packages (from beautifulsoup4->nbconvert->jupyter>=1.0.0->-r requirements.txt (line 9)) (2.5)\n",
      "Requirement already satisfied: argon2-cffi-bindings in c:\\anaconda\\envs\\sql_packages\\lib\\site-packages (from argon2-cffi>=21.1->jupyter-server<3,>=2.4.0->jupyterlab->jupyter>=1.0.0->-r requirements.txt (line 9)) (21.2.0)\n",
      "Requirement already satisfied: parso<0.9.0,>=0.8.4 in c:\\anaconda\\envs\\sql_packages\\lib\\site-packages (from jedi>=0.16->ipython>=7.23.1->ipykernel->jupyter>=1.0.0->-r requirements.txt (line 9)) (0.8.4)\n",
      "Requirement already satisfied: attrs>=22.2.0 in c:\\anaconda\\envs\\sql_packages\\lib\\site-packages (from jsonschema>=4.18.0->jupyterlab-server<3,>=2.27.1->jupyterlab->jupyter>=1.0.0->-r requirements.txt (line 9)) (24.3.0)\n",
      "Requirement already satisfied: jsonschema-specifications>=2023.03.6 in c:\\anaconda\\envs\\sql_packages\\lib\\site-packages (from jsonschema>=4.18.0->jupyterlab-server<3,>=2.27.1->jupyterlab->jupyter>=1.0.0->-r requirements.txt (line 9)) (2023.7.1)\n",
      "Requirement already satisfied: referencing>=0.28.4 in c:\\anaconda\\envs\\sql_packages\\lib\\site-packages (from jsonschema>=4.18.0->jupyterlab-server<3,>=2.27.1->jupyterlab->jupyter>=1.0.0->-r requirements.txt (line 9)) (0.30.2)\n",
      "Requirement already satisfied: rpds-py>=0.7.1 in c:\\anaconda\\envs\\sql_packages\\lib\\site-packages (from jsonschema>=4.18.0->jupyterlab-server<3,>=2.27.1->jupyterlab->jupyter>=1.0.0->-r requirements.txt (line 9)) (0.22.3)\n",
      "Requirement already satisfied: python-json-logger>=2.0.4 in c:\\anaconda\\envs\\sql_packages\\lib\\site-packages (from jupyter-events>=0.11.0->jupyter-server<3,>=2.4.0->jupyterlab->jupyter>=1.0.0->-r requirements.txt (line 9)) (3.2.1)\n",
      "Requirement already satisfied: rfc3339-validator in c:\\anaconda\\envs\\sql_packages\\lib\\site-packages (from jupyter-events>=0.11.0->jupyter-server<3,>=2.4.0->jupyterlab->jupyter>=1.0.0->-r requirements.txt (line 9)) (0.1.4)\n",
      "Requirement already satisfied: rfc3986-validator>=0.1.1 in c:\\anaconda\\envs\\sql_packages\\lib\\site-packages (from jupyter-events>=0.11.0->jupyter-server<3,>=2.4.0->jupyterlab->jupyter>=1.0.0->-r requirements.txt (line 9)) (0.1.1)\n",
      "Requirement already satisfied: executing in c:\\anaconda\\envs\\sql_packages\\lib\\site-packages (from stack-data->ipython>=7.23.1->ipykernel->jupyter>=1.0.0->-r requirements.txt (line 9)) (0.8.3)\n",
      "Requirement already satisfied: asttokens in c:\\anaconda\\envs\\sql_packages\\lib\\site-packages (from stack-data->ipython>=7.23.1->ipykernel->jupyter>=1.0.0->-r requirements.txt (line 9)) (3.0.0)\n",
      "Requirement already satisfied: pure-eval in c:\\anaconda\\envs\\sql_packages\\lib\\site-packages (from stack-data->ipython>=7.23.1->ipykernel->jupyter>=1.0.0->-r requirements.txt (line 9)) (0.2.2)\n",
      "Collecting fqdn (from jsonschema[format-nongpl]>=4.18.0->jupyter-events>=0.11.0->jupyter-server<3,>=2.4.0->jupyterlab->jupyter>=1.0.0->-r requirements.txt (line 9))\n",
      "  Using cached fqdn-1.5.1-py3-none-any.whl.metadata (1.4 kB)\n",
      "Collecting isoduration (from jsonschema[format-nongpl]>=4.18.0->jupyter-events>=0.11.0->jupyter-server<3,>=2.4.0->jupyterlab->jupyter>=1.0.0->-r requirements.txt (line 9))\n",
      "  Using cached isoduration-20.11.0-py3-none-any.whl.metadata (5.7 kB)\n",
      "Collecting jsonpointer>1.13 (from jsonschema[format-nongpl]>=4.18.0->jupyter-events>=0.11.0->jupyter-server<3,>=2.4.0->jupyterlab->jupyter>=1.0.0->-r requirements.txt (line 9))\n",
      "  Using cached jsonpointer-3.0.0-py2.py3-none-any.whl.metadata (2.3 kB)\n",
      "Collecting uri-template (from jsonschema[format-nongpl]>=4.18.0->jupyter-events>=0.11.0->jupyter-server<3,>=2.4.0->jupyterlab->jupyter>=1.0.0->-r requirements.txt (line 9))\n",
      "  Using cached uri_template-1.3.0-py3-none-any.whl.metadata (8.8 kB)\n",
      "Collecting webcolors>=24.6.0 (from jsonschema[format-nongpl]>=4.18.0->jupyter-events>=0.11.0->jupyter-server<3,>=2.4.0->jupyterlab->jupyter>=1.0.0->-r requirements.txt (line 9))\n",
      "  Using cached webcolors-24.11.1-py3-none-any.whl.metadata (2.2 kB)\n",
      "Requirement already satisfied: cffi>=1.0.1 in c:\\anaconda\\envs\\sql_packages\\lib\\site-packages (from argon2-cffi-bindings->argon2-cffi>=21.1->jupyter-server<3,>=2.4.0->jupyterlab->jupyter>=1.0.0->-r requirements.txt (line 9)) (1.17.1)\n",
      "Requirement already satisfied: pycparser in c:\\anaconda\\envs\\sql_packages\\lib\\site-packages (from cffi>=1.0.1->argon2-cffi-bindings->argon2-cffi>=21.1->jupyter-server<3,>=2.4.0->jupyterlab->jupyter>=1.0.0->-r requirements.txt (line 9)) (2.21)\n",
      "Collecting arrow>=0.15.0 (from isoduration->jsonschema[format-nongpl]>=4.18.0->jupyter-events>=0.11.0->jupyter-server<3,>=2.4.0->jupyterlab->jupyter>=1.0.0->-r requirements.txt (line 9))\n",
      "  Using cached arrow-1.3.0-py3-none-any.whl.metadata (7.5 kB)\n",
      "Collecting types-python-dateutil>=2.8.10 (from arrow>=0.15.0->isoduration->jsonschema[format-nongpl]>=4.18.0->jupyter-events>=0.11.0->jupyter-server<3,>=2.4.0->jupyterlab->jupyter>=1.0.0->-r requirements.txt (line 9))\n",
      "  Downloading types_python_dateutil-2.9.0.20250708-py3-none-any.whl.metadata (1.9 kB)\n",
      "Downloading openpyxl-3.1.5-py2.py3-none-any.whl (250 kB)\n",
      "Downloading plotly-6.2.0-py3-none-any.whl (9.6 MB)\n",
      "   ---------------------------------------- 0.0/9.6 MB ? eta -:--:--\n",
      "   - -------------------------------------- 0.3/9.6 MB ? eta -:--:--\n",
      "   --- ------------------------------------ 0.8/9.6 MB 2.0 MB/s eta 0:00:05\n",
      "   ----- ---------------------------------- 1.3/9.6 MB 1.9 MB/s eta 0:00:05\n",
      "   ------ --------------------------------- 1.6/9.6 MB 2.0 MB/s eta 0:00:05\n",
      "   -------- ------------------------------- 2.1/9.6 MB 1.9 MB/s eta 0:00:04\n",
      "   --------- ------------------------------ 2.4/9.6 MB 1.9 MB/s eta 0:00:04\n",
      "   ----------- ---------------------------- 2.9/9.6 MB 1.9 MB/s eta 0:00:04\n",
      "   ------------- -------------------------- 3.1/9.6 MB 1.9 MB/s eta 0:00:04\n",
      "   --------------- ------------------------ 3.7/9.6 MB 1.9 MB/s eta 0:00:04\n",
      "   ----------------- ---------------------- 4.2/9.6 MB 1.9 MB/s eta 0:00:03\n",
      "   ------------------- -------------------- 4.7/9.6 MB 1.9 MB/s eta 0:00:03\n",
      "   -------------------- ------------------- 5.0/9.6 MB 1.9 MB/s eta 0:00:03\n",
      "   ---------------------- ----------------- 5.5/9.6 MB 1.9 MB/s eta 0:00:03\n",
      "   ----------------------- ---------------- 5.8/9.6 MB 1.9 MB/s eta 0:00:03\n",
      "   -------------------------- ------------- 6.3/9.6 MB 1.9 MB/s eta 0:00:02\n",
      "   --------------------------- ------------ 6.6/9.6 MB 1.9 MB/s eta 0:00:02\n",
      "   ----------------------------- ---------- 7.1/9.6 MB 1.9 MB/s eta 0:00:02\n",
      "   ------------------------------- -------- 7.6/9.6 MB 1.9 MB/s eta 0:00:02\n",
      "   -------------------------------- ------- 7.9/9.6 MB 1.9 MB/s eta 0:00:01\n",
      "   ---------------------------------- ----- 8.4/9.6 MB 1.9 MB/s eta 0:00:01\n",
      "   ----------------------------------- ---- 8.7/9.6 MB 1.9 MB/s eta 0:00:01\n",
      "   -------------------------------------- - 9.2/9.6 MB 1.9 MB/s eta 0:00:01\n",
      "   ---------------------------------------  9.4/9.6 MB 1.9 MB/s eta 0:00:01\n",
      "   ---------------------------------------  9.4/9.6 MB 1.9 MB/s eta 0:00:01\n",
      "   ---------------------------------------- 9.6/9.6 MB 1.8 MB/s eta 0:00:00\n",
      "Using cached jupyter-1.1.1-py2.py3-none-any.whl (2.7 kB)\n",
      "Downloading narwhals-1.48.0-py3-none-any.whl (376 kB)\n",
      "Downloading et_xmlfile-2.0.0-py3-none-any.whl (18 kB)\n",
      "Using cached jupyter_console-6.6.3-py3-none-any.whl (24 kB)\n",
      "Using cached jsonpointer-3.0.0-py2.py3-none-any.whl (7.6 kB)\n",
      "Using cached webcolors-24.11.1-py3-none-any.whl (14 kB)\n",
      "Using cached fqdn-1.5.1-py3-none-any.whl (9.1 kB)\n",
      "Using cached isoduration-20.11.0-py3-none-any.whl (11 kB)\n",
      "Using cached uri_template-1.3.0-py3-none-any.whl (11 kB)\n",
      "Using cached arrow-1.3.0-py3-none-any.whl (66 kB)\n",
      "Downloading types_python_dateutil-2.9.0.20250708-py3-none-any.whl (17 kB)\n",
      "Installing collected packages: webcolors, uri-template, types-python-dateutil, narwhals, jsonpointer, fqdn, et-xmlfile, plotly, openpyxl, arrow, isoduration, jupyter-console, jupyter\n",
      "Successfully installed arrow-1.3.0 et-xmlfile-2.0.0 fqdn-1.5.1 isoduration-20.11.0 jsonpointer-3.0.0 jupyter-1.1.1 jupyter-console-6.6.3 narwhals-1.48.0 openpyxl-3.1.5 plotly-6.2.0 types-python-dateutil-2.9.0.20250708 uri-template-1.3.0 webcolors-24.11.1\n"
>>>>>>> 96a6dd0 (Statistics Added by Neo)
=======
>>>>>>> 48a9394cfbab4a34437dbafeed4c91348edd489a
     ]
    }
   ],
   "source": [
<<<<<<< HEAD
<<<<<<< HEAD
    "pip install kagglehub # type: ignore"
   ]
  },
  {
   "cell_type": "code",
   "execution_count": 3,
   "id": "148ed810-1210-465d-8a59-89b219307c38",
   "metadata": {},
   "outputs": [
    {
     "name": "stdout",
     "output_type": "stream",
     "text": [
      "Note: you may need to restart the kernel to use updated packages.\n"
     ]
    },
    {
     "name": "stderr",
     "output_type": "stream",
     "text": [
      "ERROR: Invalid requirement: '#': Expected package name at the start of dependency specifier\n",
      "    #\n",
      "    ^\n"
     ]
    }
   ],
   "source": [
    "pip install ipywidgets # type: ignore"
=======
    "!pip install -r requirements.txt"
>>>>>>> 63d6d15 (Add table of contents structure and requirements.txt)
=======
    "!pip install -r requirements.txt"
>>>>>>> 48a9394cfbab4a34437dbafeed4c91348edd489a
   ]
  },
  {
   "cell_type": "markdown",
   "id": "059eb065",
   "metadata": {},
   "source": [
    "## 3. Data Extraction\n",
    "\n",
    "This section covers downloading the dataset from Kaggle and loading it into a pandas DataFrame."
   ]
  },
  {
   "cell_type": "markdown",
   "id": "5fbac416",
   "metadata": {},
   "source": [
    "### 3.1 Import Libraries\n",
    "\n",
    "Import all necessary libraries and modules for data analysis:"
   ]
  },
  {
   "cell_type": "code",
<<<<<<< HEAD
<<<<<<< HEAD
<<<<<<< HEAD
   "execution_count": 4,
=======
   "execution_count": null,
>>>>>>> 63d6d15 (Add table of contents structure and requirements.txt)
=======
   "execution_count": 21,
>>>>>>> 96a6dd0 (Statistics Added by Neo)
=======
   "execution_count": null,
>>>>>>> 48a9394cfbab4a34437dbafeed4c91348edd489a
   "id": "3c329823",
   "metadata": {},
   "outputs": [],
   "source": [
    "import pandas as pd\n",
    "import zipfile\n",
    "import os\n",
    "import tempfile\n",
    "import shutil\n",
    "import kagglehub\n",
    "from price_cleaner import clean_veg_price_data\n",
    "from scipy.stats import ttest_ind\n",
<<<<<<< HEAD
<<<<<<< HEAD
<<<<<<< HEAD
    "import matplotlib.pyplot as plt"
=======
    "import matplotlib.pyplot as plt\n"
>>>>>>> 63d6d15 (Add table of contents structure and requirements.txt)
=======
    "import matplotlib.pyplot as plt"
>>>>>>> 96a6dd0 (Statistics Added by Neo)
=======
    "import matplotlib.pyplot as plt\n"
>>>>>>> 48a9394cfbab4a34437dbafeed4c91348edd489a
   ]
  },
  {
   "cell_type": "markdown",
<<<<<<< HEAD
<<<<<<< HEAD
   "id": "437b7849",
   "metadata": {},
   "source": []
  },
  {
   "cell_type": "markdown",
   "id": "8a095590",
=======
   "id": "1afb9969",
>>>>>>> 63d6d15 (Add table of contents structure and requirements.txt)
=======
   "id": "1afb9969",
>>>>>>> 48a9394cfbab4a34437dbafeed4c91348edd489a
   "metadata": {},
   "source": [
    "### 3.2 Download and Load Dataset\n",
    "\n",
    "Download the vegetable prices dataset from Kaggle and load it into a pandas DataFrame:"
   ]
  },
  {
   "cell_type": "code",
<<<<<<< HEAD
   "execution_count": 5,
=======
   "execution_count": 22,
>>>>>>> 96a6dd0 (Statistics Added by Neo)
   "id": "3232fb6e",
   "metadata": {},
   "outputs": [
    {
     "name": "stdout",
     "output_type": "stream",
     "text": [
      "Downloaded to: C:\\Users\\Bulelwa\\.cache\\kagglehub\\datasets\\ksamiksha19\\vegetable-prices\\versions\\3\n",
      "Loaded 1 file(s) into a single DataFrame with shape (287, 11).\n",
      "  Price Dates  Bhindi (Ladies finger)  Tomato  Onion  Potato  Brinjal  Garlic  \\\n",
      "0  01-01-2023                    35.0      18   22.0      20       30      50   \n",
      "1  02-01-2023                    35.0      16   22.0      20       30      55   \n",
      "2  03-01-2023                    35.0      16   21.0      20       30      55   \n",
      "3  04-01-2023                    30.0      16   21.0      22       25      55   \n",
      "4  08-01-2023                    35.0      16   20.0      21       25      55   \n",
      "\n",
      "   Peas  Methi  Green Chilli  Elephant Yam (Suran)  \n",
      "0    25      8          45.0                    25  \n",
      "1    25      7          40.0                    25  \n",
      "2    25      7          40.0                    25  \n",
      "3    25      7          40.0                    25  \n",
      "4    22      6          35.0                    25  \n"
     ]
    }
   ],
   "source": [
    "# 1. Download latest version of the dataset\n",
    "zip_or_dir = kagglehub.dataset_download(\"ksamiksha19/vegetable-prices\")\n",
    "print(\"Downloaded to:\", zip_or_dir)\n",
    "\n",
    "# 2. Prepare a temp directory for extraction or reading\n",
    "workdir = tempfile.mkdtemp(prefix=\"veg_prices_\")\n",
    "\n",
    "try:\n",
    "    # 3. If it's a ZIP, extract; otherwise assume it's a directory\n",
    "    if zipfile.is_zipfile(zip_or_dir):\n",
    "        with zipfile.ZipFile(zip_or_dir, \"r\") as z:\n",
    "            z.extractall(workdir)\n",
    "    else:\n",
    "        # copy all files into workdir\n",
    "        for fname in os.listdir(zip_or_dir):\n",
    "            shutil.copy(os.path.join(zip_or_dir, fname), workdir)\n",
    "\n",
    "    # 4. Find all CSV files in workdir\n",
    "    csv_files = [\n",
    "        os.path.join(workdir, f)\n",
    "        for f in os.listdir(workdir)\n",
    "        if f.lower().endswith(\".csv\")\n",
    "    ]\n",
    "    if not csv_files:\n",
    "        raise FileNotFoundError(\"No CSV files found in the dataset.\")\n",
    "\n",
    "    # 5. Read and concatenate into one DataFrame\n",
    "    dfs = [pd.read_csv(f) for f in csv_files]\n",
    "    df = pd.concat(dfs, ignore_index=True)\n",
    "    print(f\"Loaded {len(dfs)} file(s) into a single DataFrame with shape {df.shape}.\")\n",
    "\n",
    "    # 6. (Optional) quick preview\n",
    "    print(df.head())\n",
    "\n",
    "finally:\n",
    "    # clean up temp folder\n",
    "    shutil.rmtree(workdir)"
   ]
  },
  {
   "cell_type": "markdown",
   "id": "b1e8df35",
   "metadata": {},
   "source": [
    "## 4. Data Inspection\n",
    "\n",
    "### 4.1 Dataset Structure and Statistical Summary\n",
    "\n",
    "Let's examine the structure of our dataset and get basic statistical information:"
   ]
  },
  {
   "cell_type": "code",
<<<<<<< HEAD
   "execution_count": 6,
=======
   "execution_count": 23,
>>>>>>> 96a6dd0 (Statistics Added by Neo)
   "id": "34a56b62",
   "metadata": {},
   "outputs": [
    {
     "name": "stdout",
     "output_type": "stream",
     "text": [
      "<class 'pandas.core.frame.DataFrame'>\n",
      "RangeIndex: 287 entries, 0 to 286\n",
      "Data columns (total 11 columns):\n",
      " #   Column                  Non-Null Count  Dtype  \n",
      "---  ------                  --------------  -----  \n",
      " 0   Price Dates             287 non-null    object \n",
      " 1   Bhindi (Ladies finger)  287 non-null    float64\n",
      " 2   Tomato                  287 non-null    int64  \n",
      " 3   Onion                   287 non-null    float64\n",
      " 4   Potato                  287 non-null    int64  \n",
      " 5   Brinjal                 287 non-null    int64  \n",
      " 6   Garlic                  287 non-null    int64  \n",
      " 7   Peas                    287 non-null    int64  \n",
      " 8   Methi                   287 non-null    int64  \n",
      " 9   Green Chilli            287 non-null    float64\n",
      " 10  Elephant Yam (Suran)    287 non-null    int64  \n",
      "dtypes: float64(3), int64(7), object(1)\n",
      "memory usage: 24.8+ KB\n"
     ]
    }
   ],
   "source": [
    "# Show structure and types\n",
    "df.info()"
   ]
  },
  {
   "cell_type": "code",
   "execution_count": 7,
   "id": "9dfe34a7",
   "metadata": {},
   "outputs": [
    {
     "data": {
      "text/html": [
       "<div>\n",
       "<style scoped>\n",
       "    .dataframe tbody tr th:only-of-type {\n",
       "        vertical-align: middle;\n",
       "    }\n",
       "\n",
       "    .dataframe tbody tr th {\n",
       "        vertical-align: top;\n",
       "    }\n",
       "\n",
       "    .dataframe thead th {\n",
       "        text-align: right;\n",
       "    }\n",
       "</style>\n",
       "<table border=\"1\" class=\"dataframe\">\n",
       "  <thead>\n",
       "    <tr style=\"text-align: right;\">\n",
       "      <th></th>\n",
       "      <th>Bhindi (Ladies finger)</th>\n",
       "      <th>Tomato</th>\n",
       "      <th>Onion</th>\n",
       "      <th>Potato</th>\n",
       "      <th>Brinjal</th>\n",
       "      <th>Garlic</th>\n",
       "      <th>Peas</th>\n",
       "      <th>Methi</th>\n",
       "      <th>Green Chilli</th>\n",
       "      <th>Elephant Yam (Suran)</th>\n",
       "    </tr>\n",
       "  </thead>\n",
       "  <tbody>\n",
       "    <tr>\n",
       "      <th>count</th>\n",
       "      <td>287.000000</td>\n",
       "      <td>287.000000</td>\n",
       "      <td>287.000000</td>\n",
       "      <td>287.000000</td>\n",
       "      <td>287.000000</td>\n",
       "      <td>287.000000</td>\n",
       "      <td>287.000000</td>\n",
       "      <td>287.000000</td>\n",
       "      <td>287.000000</td>\n",
       "      <td>287.000000</td>\n",
       "    </tr>\n",
       "    <tr>\n",
       "      <th>mean</th>\n",
       "      <td>29.444251</td>\n",
       "      <td>16.006969</td>\n",
       "      <td>20.649826</td>\n",
       "      <td>18.585366</td>\n",
       "      <td>31.655052</td>\n",
       "      <td>133.101045</td>\n",
       "      <td>66.658537</td>\n",
       "      <td>20.383275</td>\n",
       "      <td>44.122404</td>\n",
       "      <td>28.797909</td>\n",
       "    </tr>\n",
       "    <tr>\n",
       "      <th>std</th>\n",
       "      <td>8.124815</td>\n",
       "      <td>0.118056</td>\n",
       "      <td>11.711204</td>\n",
       "      <td>2.726238</td>\n",
       "      <td>11.725421</td>\n",
       "      <td>60.078331</td>\n",
       "      <td>33.302415</td>\n",
       "      <td>117.428417</td>\n",
       "      <td>12.796590</td>\n",
       "      <td>6.607973</td>\n",
       "    </tr>\n",
       "    <tr>\n",
       "      <th>min</th>\n",
       "      <td>17.000000</td>\n",
       "      <td>16.000000</td>\n",
       "      <td>8.000000</td>\n",
       "      <td>12.000000</td>\n",
       "      <td>14.000000</td>\n",
       "      <td>50.000000</td>\n",
       "      <td>22.000000</td>\n",
       "      <td>5.000000</td>\n",
       "      <td>0.130000</td>\n",
       "      <td>12.000000</td>\n",
       "    </tr>\n",
       "    <tr>\n",
       "      <th>25%</th>\n",
       "      <td>22.000000</td>\n",
       "      <td>16.000000</td>\n",
       "      <td>12.000000</td>\n",
       "      <td>16.000000</td>\n",
       "      <td>25.000000</td>\n",
       "      <td>85.000000</td>\n",
       "      <td>40.000000</td>\n",
       "      <td>8.000000</td>\n",
       "      <td>35.000000</td>\n",
       "      <td>25.000000</td>\n",
       "    </tr>\n",
       "    <tr>\n",
       "      <th>50%</th>\n",
       "      <td>27.500000</td>\n",
       "      <td>16.000000</td>\n",
       "      <td>16.000000</td>\n",
       "      <td>20.000000</td>\n",
       "      <td>30.000000</td>\n",
       "      <td>120.000000</td>\n",
       "      <td>60.000000</td>\n",
       "      <td>12.000000</td>\n",
       "      <td>40.000000</td>\n",
       "      <td>30.000000</td>\n",
       "    </tr>\n",
       "    <tr>\n",
       "      <th>75%</th>\n",
       "      <td>33.000000</td>\n",
       "      <td>16.000000</td>\n",
       "      <td>25.000000</td>\n",
       "      <td>20.000000</td>\n",
       "      <td>35.000000</td>\n",
       "      <td>165.000000</td>\n",
       "      <td>80.000000</td>\n",
       "      <td>16.000000</td>\n",
       "      <td>50.000000</td>\n",
       "      <td>30.000000</td>\n",
       "    </tr>\n",
       "    <tr>\n",
       "      <th>max</th>\n",
       "      <td>60.000000</td>\n",
       "      <td>18.000000</td>\n",
       "      <td>57.000000</td>\n",
       "      <td>24.000000</td>\n",
       "      <td>80.000000</td>\n",
       "      <td>290.000000</td>\n",
       "      <td>150.000000</td>\n",
       "      <td>2000.000000</td>\n",
       "      <td>90.000000</td>\n",
       "      <td>50.000000</td>\n",
       "    </tr>\n",
       "  </tbody>\n",
       "</table>\n",
       "</div>"
      ],
      "text/plain": [
       "       Bhindi (Ladies finger)      Tomato       Onion      Potato     Brinjal  \\\n",
       "count              287.000000  287.000000  287.000000  287.000000  287.000000   \n",
       "mean                29.444251   16.006969   20.649826   18.585366   31.655052   \n",
       "std                  8.124815    0.118056   11.711204    2.726238   11.725421   \n",
       "min                 17.000000   16.000000    8.000000   12.000000   14.000000   \n",
       "25%                 22.000000   16.000000   12.000000   16.000000   25.000000   \n",
       "50%                 27.500000   16.000000   16.000000   20.000000   30.000000   \n",
       "75%                 33.000000   16.000000   25.000000   20.000000   35.000000   \n",
       "max                 60.000000   18.000000   57.000000   24.000000   80.000000   \n",
       "\n",
       "           Garlic        Peas        Methi  Green Chilli  Elephant Yam (Suran)  \n",
       "count  287.000000  287.000000   287.000000    287.000000            287.000000  \n",
       "mean   133.101045   66.658537    20.383275     44.122404             28.797909  \n",
       "std     60.078331   33.302415   117.428417     12.796590              6.607973  \n",
       "min     50.000000   22.000000     5.000000      0.130000             12.000000  \n",
       "25%     85.000000   40.000000     8.000000     35.000000             25.000000  \n",
       "50%    120.000000   60.000000    12.000000     40.000000             30.000000  \n",
       "75%    165.000000   80.000000    16.000000     50.000000             30.000000  \n",
       "max    290.000000  150.000000  2000.000000     90.000000             50.000000  "
      ]
     },
<<<<<<< HEAD
     "execution_count": 7,
=======
     "execution_count": 23,
>>>>>>> 96a6dd0 (Statistics Added by Neo)
     "metadata": {},
     "output_type": "execute_result"
    }
   ],
   "source": [
    "# Describe empirical statistics\n",
    "df.describe()"
   ]
  },
  {
   "cell_type": "markdown",
   "id": "6f568fa3",
   "metadata": {},
   "source": [
    "## 5. Data Cleaning and Transformation\n",
    "\n",
    "### 5.1 Data Cleaning Process\n",
    "\n",
    "The data cleaning process includes several important steps:\n",
    "\n",
    "- **Date Conversion**: Convert 'Price Dates' to datetime format for time-based analysis\n",
    "- **Price Formatting**: Round all vegetable prices to 2 decimal places for consistency  \n",
    "- **Error Handling**: Use `errors='coerce'` to handle non-numeric entries\n",
    "- **Feature Engineering**: Extract month and derive seasonal categories\n",
    "\n",
    "**Seasonal Categories:**\n",
    "- **Winter**: December, January, February\n",
    "- **Summer**: March, April, May  \n",
    "- **Monsoon**: June, July, August\n",
    "- **Autumn**: September, October, November"
   ]
  },
  {
   "cell_type": "markdown",
   "id": "57c5cd6f",
   "metadata": {},
   "source": [
    "### 5.2 Cleaned Dataset Preview\n",
    "\n",
    "View the cleaned and transformed dataset:"
   ]
  },
  {
   "cell_type": "code",
<<<<<<< HEAD
   "execution_count": 8,
=======
   "execution_count": 24,
>>>>>>> 96a6dd0 (Statistics Added by Neo)
   "id": "8f421d01",
   "metadata": {},
   "outputs": [
    {
     "data": {
      "text/plain": [
       "Price Dates               0\n",
       "Bhindi (Ladies finger)    0\n",
       "Tomato                    0\n",
       "Onion                     0\n",
       "Potato                    0\n",
       "Brinjal                   0\n",
       "Garlic                    0\n",
       "Peas                      0\n",
       "Methi                     0\n",
       "Green Chilli              0\n",
       "Elephant Yam (Suran)      0\n",
       "Month                     0\n",
       "Season                    0\n",
       "dtype: int64"
      ]
     },
     "execution_count": 8,
     "metadata": {},
     "output_type": "execute_result"
    }
   ],
   "source": [
    "# use the custom function to clean the data\n",
    "df_cleaned = clean_veg_price_data(df)\n",
    "#includes null or error converted\n",
    "df_cleaned.isnull().sum()"
   ]
  },
  {
   "cell_type": "code",
   "execution_count": 9,
   "id": "2f5114d8",
   "metadata": {},
   "outputs": [
    {
     "name": "stdout",
     "output_type": "stream",
     "text": [
      "<class 'pandas.core.frame.DataFrame'>\n",
      "RangeIndex: 287 entries, 0 to 286\n",
      "Data columns (total 13 columns):\n",
      " #   Column                  Non-Null Count  Dtype         \n",
      "---  ------                  --------------  -----         \n",
      " 0   Price Dates             287 non-null    datetime64[ns]\n",
      " 1   Bhindi (Ladies finger)  287 non-null    float64       \n",
      " 2   Tomato                  287 non-null    int64         \n",
      " 3   Onion                   287 non-null    float64       \n",
      " 4   Potato                  287 non-null    int64         \n",
      " 5   Brinjal                 287 non-null    int64         \n",
      " 6   Garlic                  287 non-null    int64         \n",
      " 7   Peas                    287 non-null    int64         \n",
      " 8   Methi                   287 non-null    int64         \n",
      " 9   Green Chilli            287 non-null    float64       \n",
      " 10  Elephant Yam (Suran)    287 non-null    int64         \n",
      " 11  Month                   287 non-null    int32         \n",
      " 12  Season                  287 non-null    object        \n",
      "dtypes: datetime64[ns](1), float64(3), int32(1), int64(7), object(1)\n",
      "memory usage: 28.2+ KB\n"
     ]
    }
   ],
   "source": [
    "#includes null or error converted\n",
    "df_cleaned.info()"
   ]
  },
  {
   "cell_type": "code",
   "execution_count": 10,
   "id": "3ba8c3d4",
   "metadata": {},
   "outputs": [
    {
     "data": {
      "text/html": [
       "<div>\n",
       "<style scoped>\n",
       "    .dataframe tbody tr th:only-of-type {\n",
       "        vertical-align: middle;\n",
       "    }\n",
       "\n",
       "    .dataframe tbody tr th {\n",
       "        vertical-align: top;\n",
       "    }\n",
       "\n",
       "    .dataframe thead th {\n",
       "        text-align: right;\n",
       "    }\n",
       "</style>\n",
       "<table border=\"1\" class=\"dataframe\">\n",
       "  <thead>\n",
       "    <tr style=\"text-align: right;\">\n",
       "      <th></th>\n",
       "      <th>Price Dates</th>\n",
       "      <th>Bhindi (Ladies finger)</th>\n",
       "      <th>Tomato</th>\n",
       "      <th>Onion</th>\n",
       "      <th>Potato</th>\n",
       "      <th>Brinjal</th>\n",
       "      <th>Garlic</th>\n",
       "      <th>Peas</th>\n",
       "      <th>Methi</th>\n",
       "      <th>Green Chilli</th>\n",
       "      <th>Elephant Yam (Suran)</th>\n",
       "      <th>Month</th>\n",
       "      <th>Season</th>\n",
       "    </tr>\n",
       "  </thead>\n",
       "  <tbody>\n",
       "    <tr>\n",
       "      <th>0</th>\n",
       "      <td>2023-01-01</td>\n",
       "      <td>35.0</td>\n",
       "      <td>18</td>\n",
       "      <td>22.0</td>\n",
       "      <td>20</td>\n",
       "      <td>30</td>\n",
       "      <td>50</td>\n",
       "      <td>25</td>\n",
       "      <td>8</td>\n",
       "      <td>45.0</td>\n",
       "      <td>25</td>\n",
       "      <td>1</td>\n",
       "      <td>Summer</td>\n",
       "    </tr>\n",
       "    <tr>\n",
       "      <th>1</th>\n",
       "      <td>2023-01-02</td>\n",
       "      <td>35.0</td>\n",
       "      <td>16</td>\n",
       "      <td>22.0</td>\n",
       "      <td>20</td>\n",
       "      <td>30</td>\n",
       "      <td>55</td>\n",
       "      <td>25</td>\n",
       "      <td>7</td>\n",
       "      <td>40.0</td>\n",
       "      <td>25</td>\n",
       "      <td>1</td>\n",
       "      <td>Summer</td>\n",
       "    </tr>\n",
       "    <tr>\n",
       "      <th>2</th>\n",
       "      <td>2023-01-03</td>\n",
       "      <td>35.0</td>\n",
       "      <td>16</td>\n",
       "      <td>21.0</td>\n",
       "      <td>20</td>\n",
       "      <td>30</td>\n",
       "      <td>55</td>\n",
       "      <td>25</td>\n",
       "      <td>7</td>\n",
       "      <td>40.0</td>\n",
       "      <td>25</td>\n",
       "      <td>1</td>\n",
       "      <td>Summer</td>\n",
       "    </tr>\n",
       "    <tr>\n",
       "      <th>3</th>\n",
       "      <td>2023-01-04</td>\n",
       "      <td>30.0</td>\n",
       "      <td>16</td>\n",
       "      <td>21.0</td>\n",
       "      <td>22</td>\n",
       "      <td>25</td>\n",
       "      <td>55</td>\n",
       "      <td>25</td>\n",
       "      <td>7</td>\n",
       "      <td>40.0</td>\n",
       "      <td>25</td>\n",
       "      <td>1</td>\n",
       "      <td>Summer</td>\n",
       "    </tr>\n",
       "    <tr>\n",
       "      <th>4</th>\n",
       "      <td>2023-01-08</td>\n",
       "      <td>35.0</td>\n",
       "      <td>16</td>\n",
       "      <td>20.0</td>\n",
       "      <td>21</td>\n",
       "      <td>25</td>\n",
       "      <td>55</td>\n",
       "      <td>22</td>\n",
       "      <td>6</td>\n",
       "      <td>35.0</td>\n",
       "      <td>25</td>\n",
       "      <td>1</td>\n",
       "      <td>Summer</td>\n",
       "    </tr>\n",
       "  </tbody>\n",
       "</table>\n",
       "</div>"
      ],
      "text/plain": [
       "  Price Dates  Bhindi (Ladies finger)  Tomato  Onion  Potato  Brinjal  Garlic  \\\n",
       "0  2023-01-01                    35.0      18   22.0      20       30      50   \n",
       "1  2023-01-02                    35.0      16   22.0      20       30      55   \n",
       "2  2023-01-03                    35.0      16   21.0      20       30      55   \n",
       "3  2023-01-04                    30.0      16   21.0      22       25      55   \n",
       "4  2023-01-08                    35.0      16   20.0      21       25      55   \n",
       "\n",
       "   Peas  Methi  Green Chilli  Elephant Yam (Suran)  Month  Season  \n",
       "0    25      8          45.0                    25      1  Summer  \n",
       "1    25      7          40.0                    25      1  Summer  \n",
       "2    25      7          40.0                    25      1  Summer  \n",
       "3    25      7          40.0                    25      1  Summer  \n",
       "4    22      6          35.0                    25      1  Summer  "
      ]
     },
<<<<<<< HEAD
     "execution_count": 10,
=======
     "execution_count": 24,
>>>>>>> 96a6dd0 (Statistics Added by Neo)
     "metadata": {},
     "output_type": "execute_result"
    }
   ],
   "source": [
    "# Show the cleaned DataFrame\n",
    "df_cleaned.head()"
   ]
  },
  {
   "cell_type": "code",
<<<<<<< HEAD
   "execution_count": 11,
   "id": "c1e66734",
   "metadata": {},
   "outputs": [
    {
     "data": {
      "text/html": [
       "<div>\n",
       "<style scoped>\n",
       "    .dataframe tbody tr th:only-of-type {\n",
       "        vertical-align: middle;\n",
       "    }\n",
       "\n",
       "    .dataframe tbody tr th {\n",
       "        vertical-align: top;\n",
       "    }\n",
       "\n",
       "    .dataframe thead th {\n",
       "        text-align: right;\n",
       "    }\n",
       "</style>\n",
       "<table border=\"1\" class=\"dataframe\">\n",
       "  <thead>\n",
       "    <tr style=\"text-align: right;\">\n",
       "      <th></th>\n",
       "      <th>Price Dates</th>\n",
       "      <th>Bhindi (Ladies finger)</th>\n",
       "      <th>Tomato</th>\n",
       "      <th>Onion</th>\n",
       "      <th>Potato</th>\n",
       "      <th>Brinjal</th>\n",
       "      <th>Garlic</th>\n",
       "      <th>Peas</th>\n",
       "      <th>Methi</th>\n",
       "      <th>Green Chilli</th>\n",
       "      <th>Elephant Yam (Suran)</th>\n",
       "      <th>Month</th>\n",
       "      <th>Season</th>\n",
       "    </tr>\n",
       "  </thead>\n",
       "  <tbody>\n",
       "    <tr>\n",
       "      <th>282</th>\n",
       "      <td>2023-12-27</td>\n",
       "      <td>45.0</td>\n",
       "      <td>16</td>\n",
       "      <td>30.0</td>\n",
       "      <td>20</td>\n",
       "      <td>70</td>\n",
       "      <td>260</td>\n",
       "      <td>40</td>\n",
       "      <td>16</td>\n",
       "      <td>40.0</td>\n",
       "      <td>25</td>\n",
       "      <td>12</td>\n",
       "      <td>Summer</td>\n",
       "    </tr>\n",
       "    <tr>\n",
       "      <th>283</th>\n",
       "      <td>2023-12-28</td>\n",
       "      <td>45.0</td>\n",
       "      <td>16</td>\n",
       "      <td>30.0</td>\n",
       "      <td>20</td>\n",
       "      <td>70</td>\n",
       "      <td>260</td>\n",
       "      <td>30</td>\n",
       "      <td>20</td>\n",
       "      <td>45.0</td>\n",
       "      <td>25</td>\n",
       "      <td>12</td>\n",
       "      <td>Summer</td>\n",
       "    </tr>\n",
       "    <tr>\n",
       "      <th>284</th>\n",
       "      <td>2023-12-29</td>\n",
       "      <td>45.0</td>\n",
       "      <td>16</td>\n",
       "      <td>30.0</td>\n",
       "      <td>22</td>\n",
       "      <td>80</td>\n",
       "      <td>260</td>\n",
       "      <td>30</td>\n",
       "      <td>18</td>\n",
       "      <td>50.0</td>\n",
       "      <td>25</td>\n",
       "      <td>12</td>\n",
       "      <td>Summer</td>\n",
       "    </tr>\n",
       "    <tr>\n",
       "      <th>285</th>\n",
       "      <td>2023-12-31</td>\n",
       "      <td>45.0</td>\n",
       "      <td>16</td>\n",
       "      <td>26.0</td>\n",
       "      <td>20</td>\n",
       "      <td>60</td>\n",
       "      <td>250</td>\n",
       "      <td>40</td>\n",
       "      <td>16</td>\n",
       "      <td>50.0</td>\n",
       "      <td>40</td>\n",
       "      <td>12</td>\n",
       "      <td>Summer</td>\n",
       "    </tr>\n",
       "    <tr>\n",
       "      <th>286</th>\n",
       "      <td>2024-01-01</td>\n",
       "      <td>45.0</td>\n",
       "      <td>16</td>\n",
       "      <td>9.0</td>\n",
       "      <td>18</td>\n",
       "      <td>50</td>\n",
       "      <td>260</td>\n",
       "      <td>40</td>\n",
       "      <td>15</td>\n",
       "      <td>60.0</td>\n",
       "      <td>25</td>\n",
       "      <td>1</td>\n",
       "      <td>Summer</td>\n",
       "    </tr>\n",
       "  </tbody>\n",
       "</table>\n",
       "</div>"
      ],
      "text/plain": [
       "    Price Dates  Bhindi (Ladies finger)  Tomato  Onion  Potato  Brinjal  \\\n",
       "282  2023-12-27                    45.0      16   30.0      20       70   \n",
       "283  2023-12-28                    45.0      16   30.0      20       70   \n",
       "284  2023-12-29                    45.0      16   30.0      22       80   \n",
       "285  2023-12-31                    45.0      16   26.0      20       60   \n",
       "286  2024-01-01                    45.0      16    9.0      18       50   \n",
       "\n",
       "     Garlic  Peas  Methi  Green Chilli  Elephant Yam (Suran)  Month  Season  \n",
       "282     260    40     16          40.0                    25     12  Summer  \n",
       "283     260    30     20          45.0                    25     12  Summer  \n",
       "284     260    30     18          50.0                    25     12  Summer  \n",
       "285     250    40     16          50.0                    40     12  Summer  \n",
       "286     260    40     15          60.0                    25      1  Summer  "
      ]
     },
     "execution_count": 11,
     "metadata": {},
     "output_type": "execute_result"
    }
   ],
   "source": [
    "df_cleaned.tail()"
   ]
  },
  {
   "cell_type": "code",
   "execution_count": 12,
   "id": "a401ff55",
=======
   "execution_count": 25,
   "id": "74aeb8e4-cf34-40a6-849e-6ee7f68ec89d",
>>>>>>> 96a6dd0 (Statistics Added by Neo)
   "metadata": {},
   "outputs": [
    {
     "name": "stdout",
     "output_type": "stream",
     "text": [
<<<<<<< HEAD
      "Season:  ['Summer' 'Winter' 'Monsoon' 'Autumn']\n",
=======
      "Season:  ['Winter' 'Summer' 'Monsoon' 'Autumn']\n",
>>>>>>> 96a6dd0 (Statistics Added by Neo)
      "Month:  [ 1  2  3  4  5  6  7  8  9 10 11 12]\n"
     ]
    }
   ],
   "source": [
    "#validate function added unique months & print results\n",
    "unique_season=df_cleaned.Season.unique()\n",
    "unique_month=df_cleaned.Month.unique()\n",
    "\n",
    "print(f\"Season: \",unique_season)\n",
    "print(f\"Month: \",unique_month)"
   ]
  },
  {
   "cell_type": "markdown",
   "id": "7c9f96f7",
   "metadata": {},
   "source": [
    "## 6. Exploratory Data Analysis\n",
    "\n",
    "### 6.1 Seasonal Analysis\n",
    "\n",
    "Let's examine how vegetable prices vary across different seasons:"
   ]
  },
  {
   "cell_type": "markdown",
   "id": "ccbc44ee",
   "metadata": {},
   "source": [
    "<h3>Seasonality in Prices of Summer and Winter</h3>\n",
    "\n",
    "* Tomato and `Green Chilli` prices peak in summer months (Apr–Jun) and trough in winter (Dec–Feb).\n"
   ]
  },
  {
   "cell_type": "markdown",
   "id": "d1f7110e",
   "metadata": {},
   "source": [
    "* <h4>Extract Summer and Winter Prices<h4>"
   ]
  },
  {
   "cell_type": "code",
<<<<<<< HEAD
   "execution_count": null,
=======
   "execution_count": 26,
>>>>>>> 96a6dd0 (Statistics Added by Neo)
   "id": "ddfe7610",
   "metadata": {},
   "outputs": [
    {
     "data": {
      "text/plain": [
       "\" \\nI prefer dot notation as below\\nsummer_df = df_cleaned.Season === 'Summer'\\nwinter_df = df_cleaned.Season === 'Winter'\\n\\n\""
      ]
     },
     "execution_count": 13,
     "metadata": {},
     "output_type": "execute_result"
    }
   ],
   "source": [
    "# Filter rows for Summer and Winter\n",
    "summer_df = df_cleaned[df_cleaned['Season'] == 'Summer']\n",
    "winter_df = df_cleaned[df_cleaned['Season'] == 'Winter']\n",
    "\n",
    "\"\"\" \n",
    "I prefer dot notation as below\n",
    "summer_df = df_cleaned.Season === 'Summer'\n",
    "winter_df = df_cleaned.Season === 'Winter'\n",
    "\n",
    "\"\"\""
   ]
  },
  {
   "cell_type": "code",
<<<<<<< HEAD
   "execution_count": 14,
=======
   "execution_count": 27,
>>>>>>> 96a6dd0 (Statistics Added by Neo)
   "id": "3ea37908",
   "metadata": {},
   "outputs": [
    {
     "name": "stdout",
     "output_type": "stream",
     "text": [
      "Summer DataFrame:\n"
     ]
    },
    {
     "data": {
      "text/html": [
       "<div>\n",
       "<style scoped>\n",
       "    .dataframe tbody tr th:only-of-type {\n",
       "        vertical-align: middle;\n",
       "    }\n",
       "\n",
       "    .dataframe tbody tr th {\n",
       "        vertical-align: top;\n",
       "    }\n",
       "\n",
       "    .dataframe thead th {\n",
       "        text-align: right;\n",
       "    }\n",
       "</style>\n",
       "<table border=\"1\" class=\"dataframe\">\n",
       "  <thead>\n",
       "    <tr style=\"text-align: right;\">\n",
       "      <th></th>\n",
       "      <th>Price Dates</th>\n",
       "      <th>Bhindi (Ladies finger)</th>\n",
       "      <th>Tomato</th>\n",
       "      <th>Onion</th>\n",
       "      <th>Potato</th>\n",
       "      <th>Brinjal</th>\n",
       "      <th>Garlic</th>\n",
       "      <th>Peas</th>\n",
       "      <th>Methi</th>\n",
       "      <th>Green Chilli</th>\n",
       "      <th>Elephant Yam (Suran)</th>\n",
       "      <th>Month</th>\n",
       "      <th>Season</th>\n",
       "    </tr>\n",
       "  </thead>\n",
       "  <tbody>\n",
       "    <tr>\n",
       "      <th>0</th>\n",
       "      <td>2023-01-01</td>\n",
       "      <td>35.0</td>\n",
       "      <td>18</td>\n",
       "      <td>22.0</td>\n",
       "      <td>20</td>\n",
       "      <td>30</td>\n",
       "      <td>50</td>\n",
       "      <td>25</td>\n",
       "      <td>8</td>\n",
       "      <td>45.0</td>\n",
       "      <td>25</td>\n",
       "      <td>1</td>\n",
       "      <td>Summer</td>\n",
       "    </tr>\n",
       "    <tr>\n",
       "      <th>1</th>\n",
       "      <td>2023-01-02</td>\n",
       "      <td>35.0</td>\n",
       "      <td>16</td>\n",
       "      <td>22.0</td>\n",
       "      <td>20</td>\n",
       "      <td>30</td>\n",
       "      <td>55</td>\n",
       "      <td>25</td>\n",
       "      <td>7</td>\n",
       "      <td>40.0</td>\n",
       "      <td>25</td>\n",
       "      <td>1</td>\n",
       "      <td>Summer</td>\n",
       "    </tr>\n",
       "    <tr>\n",
       "      <th>2</th>\n",
       "      <td>2023-01-03</td>\n",
       "      <td>35.0</td>\n",
       "      <td>16</td>\n",
       "      <td>21.0</td>\n",
       "      <td>20</td>\n",
       "      <td>30</td>\n",
       "      <td>55</td>\n",
       "      <td>25</td>\n",
       "      <td>7</td>\n",
       "      <td>40.0</td>\n",
       "      <td>25</td>\n",
       "      <td>1</td>\n",
       "      <td>Summer</td>\n",
       "    </tr>\n",
       "    <tr>\n",
       "      <th>3</th>\n",
       "      <td>2023-01-04</td>\n",
       "      <td>30.0</td>\n",
       "      <td>16</td>\n",
       "      <td>21.0</td>\n",
       "      <td>22</td>\n",
       "      <td>25</td>\n",
       "      <td>55</td>\n",
       "      <td>25</td>\n",
       "      <td>7</td>\n",
       "      <td>40.0</td>\n",
       "      <td>25</td>\n",
       "      <td>1</td>\n",
       "      <td>Summer</td>\n",
       "    </tr>\n",
       "    <tr>\n",
       "      <th>4</th>\n",
       "      <td>2023-01-08</td>\n",
       "      <td>35.0</td>\n",
       "      <td>16</td>\n",
       "      <td>20.0</td>\n",
       "      <td>21</td>\n",
       "      <td>25</td>\n",
       "      <td>55</td>\n",
       "      <td>22</td>\n",
       "      <td>6</td>\n",
       "      <td>35.0</td>\n",
       "      <td>25</td>\n",
       "      <td>1</td>\n",
       "      <td>Summer</td>\n",
       "    </tr>\n",
       "  </tbody>\n",
       "</table>\n",
       "</div>"
      ],
      "text/plain": [
       "  Price Dates  Bhindi (Ladies finger)  Tomato  Onion  Potato  Brinjal  Garlic  \\\n",
       "0  2023-01-01                    35.0      18   22.0      20       30      50   \n",
       "1  2023-01-02                    35.0      16   22.0      20       30      55   \n",
       "2  2023-01-03                    35.0      16   21.0      20       30      55   \n",
       "3  2023-01-04                    30.0      16   21.0      22       25      55   \n",
       "4  2023-01-08                    35.0      16   20.0      21       25      55   \n",
       "\n",
       "   Peas  Methi  Green Chilli  Elephant Yam (Suran)  Month  Season  \n",
       "0    25      8          45.0                    25      1  Summer  \n",
       "1    25      7          40.0                    25      1  Summer  \n",
       "2    25      7          40.0                    25      1  Summer  \n",
       "3    25      7          40.0                    25      1  Summer  \n",
       "4    22      6          35.0                    25      1  Summer  "
      ]
     },
     "execution_count": 14,
     "metadata": {},
     "output_type": "execute_result"
    }
   ],
   "source": [
    "# Show the first few rows of each filtered DataFrame\n",
    "print(\"Summer DataFrame:\")\n",
    "summer_df.head()"
   ]
  },
  {
   "cell_type": "code",
   "execution_count": 15,
   "id": "02d9e9f1",
   "metadata": {},
   "outputs": [
    {
     "name": "stdout",
     "output_type": "stream",
     "text": [
      "<class 'pandas.core.frame.DataFrame'>\n",
      "Index: 65 entries, 0 to 286\n",
      "Data columns (total 13 columns):\n",
      " #   Column                  Non-Null Count  Dtype         \n",
      "---  ------                  --------------  -----         \n",
      " 0   Price Dates             65 non-null     datetime64[ns]\n",
      " 1   Bhindi (Ladies finger)  65 non-null     float64       \n",
      " 2   Tomato                  65 non-null     int64         \n",
      " 3   Onion                   65 non-null     float64       \n",
      " 4   Potato                  65 non-null     int64         \n",
      " 5   Brinjal                 65 non-null     int64         \n",
      " 6   Garlic                  65 non-null     int64         \n",
      " 7   Peas                    65 non-null     int64         \n",
      " 8   Methi                   65 non-null     int64         \n",
      " 9   Green Chilli            65 non-null     float64       \n",
      " 10  Elephant Yam (Suran)    65 non-null     int64         \n",
      " 11  Month                   65 non-null     int32         \n",
      " 12  Season                  65 non-null     object        \n",
      "dtypes: datetime64[ns](1), float64(3), int32(1), int64(7), object(1)\n",
      "memory usage: 6.9+ KB\n"
     ]
    }
   ],
   "source": [
    "#Get info related to Summer Season\n",
    "summer_df.info()"
   ]
  },
  {
   "cell_type": "code",
   "execution_count": 16,
   "id": "155533c4",
   "metadata": {},
   "outputs": [
    {
     "name": "stdout",
     "output_type": "stream",
     "text": [
      "Winter DataFrame:\n"
     ]
    },
    {
     "data": {
      "text/html": [
       "<div>\n",
       "<style scoped>\n",
       "    .dataframe tbody tr th:only-of-type {\n",
       "        vertical-align: middle;\n",
       "    }\n",
       "\n",
       "    .dataframe tbody tr th {\n",
       "        vertical-align: top;\n",
       "    }\n",
       "\n",
       "    .dataframe thead th {\n",
       "        text-align: right;\n",
       "    }\n",
       "</style>\n",
       "<table border=\"1\" class=\"dataframe\">\n",
       "  <thead>\n",
       "    <tr style=\"text-align: right;\">\n",
       "      <th></th>\n",
       "      <th>Price Dates</th>\n",
       "      <th>Bhindi (Ladies finger)</th>\n",
       "      <th>Tomato</th>\n",
       "      <th>Onion</th>\n",
       "      <th>Potato</th>\n",
       "      <th>Brinjal</th>\n",
       "      <th>Garlic</th>\n",
       "      <th>Peas</th>\n",
       "      <th>Methi</th>\n",
       "      <th>Green Chilli</th>\n",
       "      <th>Elephant Yam (Suran)</th>\n",
       "      <th>Month</th>\n",
       "      <th>Season</th>\n",
       "    </tr>\n",
       "  </thead>\n",
       "  <tbody>\n",
       "    <tr>\n",
       "      <th>41</th>\n",
       "      <td>2023-03-01</td>\n",
       "      <td>30.0</td>\n",
       "      <td>16</td>\n",
       "      <td>11.0</td>\n",
       "      <td>13</td>\n",
       "      <td>20</td>\n",
       "      <td>85</td>\n",
       "      <td>30</td>\n",
       "      <td>6</td>\n",
       "      <td>50.0</td>\n",
       "      <td>30</td>\n",
       "      <td>3</td>\n",
       "      <td>Winter</td>\n",
       "    </tr>\n",
       "    <tr>\n",
       "      <th>42</th>\n",
       "      <td>2023-03-02</td>\n",
       "      <td>37.0</td>\n",
       "      <td>16</td>\n",
       "      <td>11.0</td>\n",
       "      <td>13</td>\n",
       "      <td>20</td>\n",
       "      <td>85</td>\n",
       "      <td>30</td>\n",
       "      <td>7</td>\n",
       "      <td>40.0</td>\n",
       "      <td>30</td>\n",
       "      <td>3</td>\n",
       "      <td>Winter</td>\n",
       "    </tr>\n",
       "    <tr>\n",
       "      <th>43</th>\n",
       "      <td>2023-03-03</td>\n",
       "      <td>32.0</td>\n",
       "      <td>16</td>\n",
       "      <td>12.0</td>\n",
       "      <td>14</td>\n",
       "      <td>20</td>\n",
       "      <td>85</td>\n",
       "      <td>25</td>\n",
       "      <td>8</td>\n",
       "      <td>40.0</td>\n",
       "      <td>20</td>\n",
       "      <td>3</td>\n",
       "      <td>Winter</td>\n",
       "    </tr>\n",
       "    <tr>\n",
       "      <th>44</th>\n",
       "      <td>2023-03-05</td>\n",
       "      <td>32.0</td>\n",
       "      <td>16</td>\n",
       "      <td>12.0</td>\n",
       "      <td>14</td>\n",
       "      <td>25</td>\n",
       "      <td>85</td>\n",
       "      <td>25</td>\n",
       "      <td>6</td>\n",
       "      <td>40.0</td>\n",
       "      <td>30</td>\n",
       "      <td>3</td>\n",
       "      <td>Winter</td>\n",
       "    </tr>\n",
       "    <tr>\n",
       "      <th>45</th>\n",
       "      <td>2023-03-06</td>\n",
       "      <td>32.0</td>\n",
       "      <td>16</td>\n",
       "      <td>13.0</td>\n",
       "      <td>14</td>\n",
       "      <td>14</td>\n",
       "      <td>85</td>\n",
       "      <td>30</td>\n",
       "      <td>7</td>\n",
       "      <td>40.0</td>\n",
       "      <td>25</td>\n",
       "      <td>3</td>\n",
       "      <td>Winter</td>\n",
       "    </tr>\n",
       "  </tbody>\n",
       "</table>\n",
       "</div>"
      ],
      "text/plain": [
       "   Price Dates  Bhindi (Ladies finger)  Tomato  Onion  Potato  Brinjal  \\\n",
       "41  2023-03-01                    30.0      16   11.0      13       20   \n",
       "42  2023-03-02                    37.0      16   11.0      13       20   \n",
       "43  2023-03-03                    32.0      16   12.0      14       20   \n",
       "44  2023-03-05                    32.0      16   12.0      14       25   \n",
       "45  2023-03-06                    32.0      16   13.0      14       14   \n",
       "\n",
       "    Garlic  Peas  Methi  Green Chilli  Elephant Yam (Suran)  Month  Season  \n",
       "41      85    30      6          50.0                    30      3  Winter  \n",
       "42      85    30      7          40.0                    30      3  Winter  \n",
       "43      85    25      8          40.0                    20      3  Winter  \n",
       "44      85    25      6          40.0                    30      3  Winter  \n",
       "45      85    30      7          40.0                    25      3  Winter  "
      ]
     },
<<<<<<< HEAD
     "execution_count": 16,
=======
     "execution_count": 27,
>>>>>>> 96a6dd0 (Statistics Added by Neo)
     "metadata": {},
     "output_type": "execute_result"
    }
   ],
   "source": [
    "# Show the first few rows of each filtered DataFrame\n",
    "print(\"Winter DataFrame:\")\n",
    "winter_df.head()"
   ]
  },
  {
   "cell_type": "code",
<<<<<<< HEAD
   "execution_count": 17,
   "id": "7fddbea6",
=======
   "execution_count": 28,
   "id": "155533c4",
>>>>>>> 96a6dd0 (Statistics Added by Neo)
   "metadata": {},
   "outputs": [
    {
     "name": "stdout",
     "output_type": "stream",
     "text": [
      "<class 'pandas.core.frame.DataFrame'>\n",
      "Index: 75 entries, 41 to 115\n",
      "Data columns (total 13 columns):\n",
      " #   Column                  Non-Null Count  Dtype         \n",
      "---  ------                  --------------  -----         \n",
      " 0   Price Dates             75 non-null     datetime64[ns]\n",
      " 1   Bhindi (Ladies finger)  75 non-null     float64       \n",
      " 2   Tomato                  75 non-null     int64         \n",
      " 3   Onion                   75 non-null     float64       \n",
      " 4   Potato                  75 non-null     int64         \n",
      " 5   Brinjal                 75 non-null     int64         \n",
      " 6   Garlic                  75 non-null     int64         \n",
      " 7   Peas                    75 non-null     int64         \n",
      " 8   Methi                   75 non-null     int64         \n",
      " 9   Green Chilli            75 non-null     float64       \n",
      " 10  Elephant Yam (Suran)    75 non-null     int64         \n",
      " 11  Month                   75 non-null     int32         \n",
      " 12  Season                  75 non-null     object        \n",
      "dtypes: datetime64[ns](1), float64(3), int32(1), int64(7), object(1)\n",
      "memory usage: 7.9+ KB\n"
     ]
    }
   ],
   "source": [
    "#Get info related to Summer Season\n",
    "winter_df.info()"
   ]
  },
  {
   "cell_type": "markdown",
   "id": "eeecf007",
   "metadata": {},
   "source": [
    "* <h4>Calculate Mean Prices</h4>"
   ]
  },
  {
   "cell_type": "code",
   "execution_count": 18,
   "id": "3acee0dd",
   "metadata": {},
   "outputs": [
    {
     "name": "stdout",
     "output_type": "stream",
     "text": [
      "Average Summer Prices:  Tomato    16.03\n",
      "dtype: float64 Green Chilli    37.95\n",
      "dtype: float64\n",
      "Average Winter Prices:  Tomato    16.0\n",
      "dtype: float64 Green Chilli    40.46\n",
      "dtype: float64\n"
     ]
    }
   ],
   "source": [
    "# Mean for Summer prices\n",
    "gc_mu_s=summer_df[['Green Chilli']].mean().round(2)\n",
    "t_mu_s=summer_df[['Tomato']].mean().round(2)\n",
    "print(f\"Average Summer Prices: \",t_mu_s, gc_mu_s)\n",
    "\n",
    "# Mean for Winter prices\n",
    "gc_mu_w=winter_df[['Green Chilli']].mean().round(2)\n",
    "t_mu_w=winter_df[['Tomato']].mean().round(2)\n",
    "print(f\"Average Winter Prices: \",t_mu_w, gc_mu_w)"
   ]
  },
  {
   "cell_type": "markdown",
   "id": "16fd0768",
   "metadata": {},
   "source": [
    "* <h4>Run T-Test (Two Sample Independent)</4>"
   ]
  },
  {
   "cell_type": "markdown",
   "id": "e728675d",
   "metadata": {},
   "source": [
    "### Scenario 1: Focus on Tomato"
   ]
  },
  {
   "cell_type": "markdown",
   "id": "e2039818",
   "metadata": {},
   "source": [
    "$H_0$ : Average price in winter & summer for Tomato is same i.e., $ x̄_s-x̄_w = 0 $\n",
    "\n",
    "$H_1$ : Average price in winter & summer for Tomato differ i.e., $ x̄_s-x̄_w \\ne 0 $"
   ]
  },
  {
   "cell_type": "code",
   "execution_count": 34,
   "id": "f164204c",
   "metadata": {},
   "outputs": [
    {
     "name": "stdout",
     "output_type": "stream",
     "text": [
      "T-test Result for Tomato:\n",
      "t-stat = 1.00, p-value = 0.3211\n",
      "\n",
      "T-test Result for Green Chilli:\n",
      "t-stat = -1.98, p-value = 0.0497\n"
     ]
    },
    {
     "name": "stderr",
     "output_type": "stream",
     "text": [
      "c:\\Anaconda\\envs\\sql_packages\\Lib\\site-packages\\scipy\\stats\\_axis_nan_policy.py:579: RuntimeWarning: Precision loss occurred in moment calculation due to catastrophic cancellation. This occurs when the data are nearly identical. Results may be unreliable.\n",
      "  res = hypotest_fun_out(*samples, **kwds)\n"
     ]
    }
   ],
   "source": [
    "# Perform two-sample t-test for Tomato and Green Chilli prices between Summer and Winter\n",
    "t_stat_tomato, p_val_tomato = ttest_ind(\n",
    "    summer_df['Tomato'].dropna(),\n",
    "    winter_df['Tomato'].dropna(),\n",
    "    equal_var=False\n",
    ")\n",
    "\n",
    "t_stat_chilli, p_val_chilli = ttest_ind(\n",
    "    summer_df['Green Chilli'].dropna(),\n",
    "    winter_df['Green Chilli'].dropna(),\n",
    "    equal_var=False\n",
    ")\n",
    "\n",
    "print(\"T-test Result for Tomato:\")\n",
    "print(f\"t-stat = {t_stat_tomato:.2f}, p-value = {p_val_tomato:.4f}\")\n",
    "\n",
    "print(\"\\nT-test Result for Green Chilli:\")\n",
    "print(f\"t-stat = {t_stat_chilli:.2f}, p-value = {p_val_chilli:.4f}\")"
   ]
  },
  {
   "cell_type": "markdown",
   "id": "370f8f73",
   "metadata": {},
   "source": [
    "### Scenario 2 : Focuses on Green Chilli"
   ]
  },
  {
   "cell_type": "markdown",
   "id": "e0245536",
   "metadata": {},
   "source": [
    "$H_0$ : Average price in winter & summer for Green Chilli is same i.e., $ x̄_s-x̄_w = 0 $\n",
    "\n",
    "$H_1$ : Average price in winter & summer for Green Chiilie differ i.e., $ x̄_s-x̄_w \\ne 0 $"
   ]
  },
  {
   "cell_type": "code",
   "execution_count": null,
   "id": "c7a90b05",
   "metadata": {},
   "outputs": [
    {
     "name": "stdout",
     "output_type": "stream",
     "text": [
      "T-test Result for Tomato:\n",
      "t-stat = -1.00, p-value = 0.3211\n",
      "\n",
      "T-test Result for Green Chilli:\n",
      "t-stat = 1.98, p-value = 0.0497\n"
     ]
    },
    {
     "name": "stderr",
     "output_type": "stream",
     "text": [
      "/opt/anaconda3/lib/python3.12/site-packages/scipy/stats/_axis_nan_policy.py:531: RuntimeWarning: Precision loss occurred in moment calculation due to catastrophic cancellation. This occurs when the data are nearly identical. Results may be unreliable.\n",
      "  res = hypotest_fun_out(*samples, **kwds)\n"
     ]
    }
   ],
   "source": [
    "\"\"\"\n",
    "# Drop missing values\n",
    "t_stat_tomato, p_val_tomato = ttest_ind(\n",
    "    summer_df['Tomato'].dropna(), \n",
    "    winter_df['Tomato'].dropna(), \n",
    "    equal_var=False\n",
    ")\n",
    "\n",
    "t_stat_chilli, p_val_chilli = ttest_ind(\n",
    "    summer_df['Green Chilli'].dropna(), \n",
    "    winter_df['Green Chilli'].dropna(), \n",
    "    equal_var=False\n",
    ")\n",
    "\n",
    "print(\"T-test Result for Tomato:\")\n",
    "print(f\"t-stat = {t_stat_tomato:.2f}, p-value = {p_val_tomato:.4f}\")\n",
    "\n",
    "print(\"\\nT-test Result for Green Chilli:\")\n",
    "print(f\"t-stat = {t_stat_chilli:.2f}, p-value = {p_val_chilli:.4f}\")\n",
    "\"\"\"\n",
    "\n"
   ]
  },
  {
   "cell_type": "markdown",
   "id": "c0f9d8ae",
   "metadata": {},
   "source": [
    "**Interpretation of Results**"
   ]
  },
  {
   "cell_type": "markdown",
   "id": "a362b112",
   "metadata": {},
   "source": [
    "\n",
    "\n",
    "<h5>Tomato:</h5>\n",
    "\n",
    "* *t-stat = -1.00*, *p-value = 0.3211*\n",
    "* There is no statistically significant difference in Tomato prices between summer (Apr–Jun) and winter (Dec–Feb).\n",
    "* **Conclusion:** We fail to reject the null hypothesis for Tomato. The data does not support the idea that Tomato prices peak in summer.\n",
    "\n",
    "<h5>Green Chilli:</h5>\n",
    "\n",
    "* *t-stat = 1.98*, *p-value = 0.0497*\n",
    "* The difference is statistically significant at the 0.05 level.\n",
    "* **Conclusion:** We reject the null hypothesis for Green Chilli. The data supports the hypothesis that Green Chilli prices are higher in summer than in winter.\n",
    "\n",
    "\n"
   ]
  },
  {
   "cell_type": "markdown",
   "id": "14f1bc24",
   "metadata": {},
   "source": [
    "* <h4>Visualize Seasonal Price Comparison</h4>"
   ]
  },
  {
   "cell_type": "code",
   "execution_count": 19,
   "id": "1e27fbbe",
   "metadata": {},
   "outputs": [
    {
     "data": {
      "image/png": "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",
      "text/plain": [
       "<Figure size 800x500 with 1 Axes>"
      ]
     },
     "metadata": {},
     "output_type": "display_data"
    }
   ],
   "source": [
    "\n",
    "seasonal_means = df_cleaned.groupby('Season')[['Tomato', 'Green Chilli']].mean().round(2)\n",
    "\n",
    "seasonal_means[['Tomato', 'Green Chilli']].loc[['Winter', 'Summer']].plot(\n",
    "    kind='bar', figsize=(8, 5), title='Average Prices in Winter vs Summer'\n",
    ")\n",
    "plt.ylabel(\"Price (INR)\")\n",
    "plt.xticks(rotation=0)\n",
    "plt.grid(axis='y')\n",
    "plt.tight_layout()\n",
    "plt.show()\n"
   ]
  },
  {
   "cell_type": "markdown",
   "id": "0cd2663a",
   "metadata": {},
   "source": []
  },
  {
   "cell_type": "code",
   "execution_count": 46,
   "id": "f3c7cb18",
   "metadata": {},
   "outputs": [
    {
     "name": "stdout",
     "output_type": "stream",
     "text": [
      "Index(['Price Dates', 'Bhindi (Ladies finger)', 'Tomato', 'Onion', 'Potato',\n",
      "       'Brinjal', 'Garlic', 'Peas', 'Methi', 'Green Chilli',\n",
      "       'Elephant Yam (Suran)', 'Month', 'Season'],\n",
      "      dtype='object')\n"
     ]
    },
    {
     "data": {
      "text/html": [
       "<div>\n",
       "<style scoped>\n",
       "    .dataframe tbody tr th:only-of-type {\n",
       "        vertical-align: middle;\n",
       "    }\n",
       "\n",
       "    .dataframe tbody tr th {\n",
       "        vertical-align: top;\n",
       "    }\n",
       "\n",
       "    .dataframe thead th {\n",
       "        text-align: right;\n",
       "    }\n",
       "</style>\n",
       "<table border=\"1\" class=\"dataframe\">\n",
       "  <thead>\n",
       "    <tr style=\"text-align: right;\">\n",
       "      <th></th>\n",
       "      <th>Price Dates</th>\n",
       "      <th>Bhindi (Ladies finger)</th>\n",
       "      <th>Tomato</th>\n",
       "      <th>Onion</th>\n",
       "      <th>Potato</th>\n",
       "      <th>Brinjal</th>\n",
       "      <th>Garlic</th>\n",
       "      <th>Peas</th>\n",
       "      <th>Methi</th>\n",
       "      <th>Green Chilli</th>\n",
       "      <th>Elephant Yam (Suran)</th>\n",
       "      <th>Month</th>\n",
       "      <th>Season</th>\n",
       "    </tr>\n",
       "  </thead>\n",
       "  <tbody>\n",
       "    <tr>\n",
       "      <th>0</th>\n",
       "      <td>2023-01-01</td>\n",
       "      <td>35.0</td>\n",
       "      <td>18</td>\n",
       "      <td>22.0</td>\n",
       "      <td>20</td>\n",
       "      <td>30</td>\n",
       "      <td>50</td>\n",
       "      <td>25</td>\n",
       "      <td>8</td>\n",
       "      <td>45.0</td>\n",
       "      <td>25</td>\n",
       "      <td>1</td>\n",
       "      <td>Summer</td>\n",
       "    </tr>\n",
       "    <tr>\n",
       "      <th>1</th>\n",
       "      <td>2023-01-02</td>\n",
       "      <td>35.0</td>\n",
       "      <td>16</td>\n",
       "      <td>22.0</td>\n",
       "      <td>20</td>\n",
       "      <td>30</td>\n",
       "      <td>55</td>\n",
       "      <td>25</td>\n",
       "      <td>7</td>\n",
       "      <td>40.0</td>\n",
       "      <td>25</td>\n",
       "      <td>1</td>\n",
       "      <td>Summer</td>\n",
       "    </tr>\n",
       "    <tr>\n",
       "      <th>2</th>\n",
       "      <td>2023-01-03</td>\n",
       "      <td>35.0</td>\n",
       "      <td>16</td>\n",
       "      <td>21.0</td>\n",
       "      <td>20</td>\n",
       "      <td>30</td>\n",
       "      <td>55</td>\n",
       "      <td>25</td>\n",
       "      <td>7</td>\n",
       "      <td>40.0</td>\n",
       "      <td>25</td>\n",
       "      <td>1</td>\n",
       "      <td>Summer</td>\n",
       "    </tr>\n",
       "    <tr>\n",
       "      <th>3</th>\n",
       "      <td>2023-01-04</td>\n",
       "      <td>30.0</td>\n",
       "      <td>16</td>\n",
       "      <td>21.0</td>\n",
       "      <td>22</td>\n",
       "      <td>25</td>\n",
       "      <td>55</td>\n",
       "      <td>25</td>\n",
       "      <td>7</td>\n",
       "      <td>40.0</td>\n",
       "      <td>25</td>\n",
       "      <td>1</td>\n",
       "      <td>Summer</td>\n",
       "    </tr>\n",
       "    <tr>\n",
       "      <th>4</th>\n",
       "      <td>2023-01-08</td>\n",
       "      <td>35.0</td>\n",
       "      <td>16</td>\n",
       "      <td>20.0</td>\n",
       "      <td>21</td>\n",
       "      <td>25</td>\n",
       "      <td>55</td>\n",
       "      <td>22</td>\n",
       "      <td>6</td>\n",
       "      <td>35.0</td>\n",
       "      <td>25</td>\n",
       "      <td>1</td>\n",
       "      <td>Summer</td>\n",
       "    </tr>\n",
       "  </tbody>\n",
       "</table>\n",
       "</div>"
      ],
      "text/plain": [
       "  Price Dates  Bhindi (Ladies finger)  Tomato  Onion  Potato  Brinjal  Garlic  \\\n",
       "0  2023-01-01                    35.0      18   22.0      20       30      50   \n",
       "1  2023-01-02                    35.0      16   22.0      20       30      55   \n",
       "2  2023-01-03                    35.0      16   21.0      20       30      55   \n",
       "3  2023-01-04                    30.0      16   21.0      22       25      55   \n",
       "4  2023-01-08                    35.0      16   20.0      21       25      55   \n",
       "\n",
       "   Peas  Methi  Green Chilli  Elephant Yam (Suran)  Month  Season  \n",
       "0    25      8          45.0                    25      1  Summer  \n",
       "1    25      7          40.0                    25      1  Summer  \n",
       "2    25      7          40.0                    25      1  Summer  \n",
       "3    25      7          40.0                    25      1  Summer  \n",
       "4    22      6          35.0                    25      1  Summer  "
      ]
     },
<<<<<<< HEAD
     "execution_count": 46,
=======
     "execution_count": 28,
>>>>>>> 96a6dd0 (Statistics Added by Neo)
     "metadata": {},
     "output_type": "execute_result"
    }
   ],
   "source": [
    "# Show all column names in summer_df\n",
    "print(summer_df.columns)\n",
    "df_cleaned.head()  \n"
   ]
  },
  {
   "cell_type": "markdown",
   "id": "b14878a7",
   "metadata": {},
   "source": [
    "<h3> Volatility of Cross-Veg</h3>\n",
    "<p>   • Day-to-day price volatility of Potato & Tomato.\n",
    "</p>"
   ]
  },
  {
   "cell_type": "code",
<<<<<<< HEAD
   "execution_count": 55,
   "id": "161fcabf",
=======
   "execution_count": 29,
   "id": "3acee0dd",
   "metadata": {},
   "outputs": [
    {
     "name": "stdout",
     "output_type": "stream",
     "text": [
      "Average Summer Prices:\n",
      "Tomato          16.00\n",
      "Green Chilli    40.46\n",
      "dtype: float64\n",
      "\n",
      "Average Winter Prices:\n",
      "Tomato          16.03\n",
      "Green Chilli    37.95\n",
      "dtype: float64\n"
     ]
    }
   ],
   "source": [
    "print(\"Average Summer Prices:\")\n",
    "print(summer_df[['Tomato', 'Green Chilli']].mean().round(2))\n",
    "\n",
    "print(\"\\nAverage Winter Prices:\")\n",
    "print(winter_df[['Tomato', 'Green Chilli']].mean().round(2))\n"
   ]
  },
  {
   "cell_type": "markdown",
   "id": "16fd0768",
   "metadata": {},
   "source": [
    "* <h4>Run T-Test (Two Sample Independent)</4>"
   ]
  },
  {
   "cell_type": "code",
   "execution_count": 30,
   "id": "c7a90b05",
   "metadata": {},
   "outputs": [
    {
     "name": "stdout",
     "output_type": "stream",
     "text": [
      "T-test Result for Tomato:\n",
      "t-stat = -1.00, p-value = 0.3211\n",
      "\n",
      "T-test Result for Green Chilli:\n",
      "t-stat = 1.98, p-value = 0.0497\n"
     ]
    },
    {
     "name": "stderr",
     "output_type": "stream",
     "text": [
      "C:\\Anaconda\\envs\\sql_packages\\Lib\\site-packages\\scipy\\stats\\_axis_nan_policy.py:579: RuntimeWarning: Precision loss occurred in moment calculation due to catastrophic cancellation. This occurs when the data are nearly identical. Results may be unreliable.\n",
      "  res = hypotest_fun_out(*samples, **kwds)\n"
     ]
    }
   ],
   "source": [
    "\n",
    "# Drop missing values\n",
    "t_stat_tomato, p_val_tomato = ttest_ind(\n",
    "    summer_df['Tomato'].dropna(), \n",
    "    winter_df['Tomato'].dropna(), \n",
    "    equal_var=False\n",
    ")\n",
    "\n",
    "t_stat_chilli, p_val_chilli = ttest_ind(\n",
    "    summer_df['Green Chilli'].dropna(), \n",
    "    winter_df['Green Chilli'].dropna(), \n",
    "    equal_var=False\n",
    ")\n",
    "\n",
    "print(\"T-test Result for Tomato:\")\n",
    "print(f\"t-stat = {t_stat_tomato:.2f}, p-value = {p_val_tomato:.4f}\")\n",
    "\n",
    "print(\"\\nT-test Result for Green Chilli:\")\n",
    "print(f\"t-stat = {t_stat_chilli:.2f}, p-value = {p_val_chilli:.4f}\")\n"
   ]
  },
  {
   "cell_type": "markdown",
   "id": "c0f9d8ae",
   "metadata": {},
   "source": [
    "**Hypothesis Testing & Interpretation of Results**"
   ]
  },
  {
   "cell_type": "markdown",
   "id": "901c5db0-26b4-4e57-b959-c44ee25f7e46",
   "metadata": {},
   "source": [
    "<h5>Tomato:</h5>\n",
    "\n",
    "$H_0$ : Average price in winter & summer for Tomato is same i.e., $ x̄_s-x̄_w = 0 $\n",
    "\n",
    "$H_1$ : Average price in winter & summer for Tomato differ i.e., $ x̄_s-x̄_w \\ne 0 $"
   ]
  },
  {
   "cell_type": "markdown",
   "id": "a362b112",
   "metadata": {},
   "source": [
    "\n",
    "* *t-stat = -1.00*, *p-value = 0.3211*\n",
    "* There is no statistically significant difference in Tomato prices between summer (Apr–Jun) and winter (Dec–Feb).\n",
    "* **Conclusion:** We fail to reject the null hypothesis for Tomato. The data does not support the idea that Tomato prices peak in summer.\n",
    "  "
   ]
  },
  {
   "cell_type": "markdown",
   "id": "3f380a34-cb5e-4c0a-8b50-e5f486e34581",
   "metadata": {},
   "source": [
    "<h5>Green Chilli:</h5>\n",
    "\n",
    "$H_0$ : Average price in winter & summer for Green Chilli is same i.e., $ x̄_s-x̄_w = 0 $\n",
    "\n",
    "$H_1$ : Average price in winter & summer for Green Chiilie differ i.e., $ x̄_s-x̄_w \\ne 0 $"
   ]
  },
  {
   "cell_type": "markdown",
   "id": "619efd03-366e-453d-91e1-9c3744eeaffe",
   "metadata": {},
   "source": [
    "* *t-stat = 1.98*, *p-value = 0.0497*\n",
    "* The difference is statistically significant at the 0.05 level.\n",
    "* **Conclusion:** We reject the null hypothesis for Green Chilli. The data supports the hypothesis that Green Chilli prices are higher in summer than in winter."
   ]
  },
  {
   "cell_type": "markdown",
   "id": "14f1bc24",
   "metadata": {},
   "source": [
    "* <h4>Visualize Seasonal Price Comparison</h4>"
   ]
  },
  {
   "cell_type": "code",
   "execution_count": 31,
   "id": "1e27fbbe",
>>>>>>> 96a6dd0 (Statistics Added by Neo)
   "metadata": {},
   "outputs": [
    {
     "data": {
<<<<<<< HEAD
      "image/png": "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",
=======
      "image/png": "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",
>>>>>>> 96a6dd0 (Statistics Added by Neo)
      "text/plain": [
       "<Figure size 1000x600 with 1 Axes>"
      ]
     },
     "metadata": {},
     "output_type": "display_data"
    }
   ],
   "source": [
<<<<<<< HEAD
    "import matplotlib.pyplot as plt\n",
    "\n",
    "plt.figure(figsize=(10, 6))\n",
    "plt.plot(df_cleaned['Price Dates'], df_cleaned['Tomato'], label='Tomato', color='orange')\n",
    "plt.plot(df_cleaned['Price Dates'], df_cleaned['Potato'], label='Potato', color='purple')\n",
=======
    "seasonal_means = df_cleaned.groupby('Season')[['Tomato', 'Green Chilli']].mean().round(2)\n",
>>>>>>> 96a6dd0 (Statistics Added by Neo)
    "\n",
    "plt.xlabel('Date')\n",
    "plt.ylabel('Price')\n",
    "plt.title('Tomato vs Potato Prices Over Time')\n",
    "plt.legend()\n",
    "plt.grid(True)\n",
    "plt.tight_layout()\n",
    "plt.show()"
   ]
  },
  {
   "cell_type": "code",
   "execution_count": null,
   "id": "8655102f",
   "metadata": {},
   "outputs": [
    {
     "name": "stdout",
     "output_type": "stream",
     "text": [
      "Tomato daily price volatility (std): 0.12\n",
      "Potato daily price volatility (std): 1.53\n",
      "Therefore,\n",
      "Potato has higher day-to-day price volatility than Tomato.\n"
     ]
    }
   ],
   "source": [
    "# Calculate daily price changes\n",
    "tomato_changes = df_cleaned['Tomato'].diff()\n",
    "potato_changes = df_cleaned['Potato'].diff()\n",
    "\n",
    "# Calculate standard deviation (volatility)\n",
    "tomato_volatility = tomato_changes.std()\n",
    "potato_volatility = potato_changes.std()\n",
    "\n",
    "print(f\"Tomato daily price volatility (std): {tomato_volatility:.2f}\")\n",
    "print(f\"Potato daily price volatility (std): {potato_volatility:.2f}\")\n",
    "\n",
    "print(f\"Therefore,\")\n",
    "if tomato_volatility > potato_volatility:\n",
    "    print(\"Tomato has higher day-to-day price volatility than Potato.\")\n",
    "else:\n",
    "    print(\"Potato has higher day-to-day price volatility than Tomato.\")"
   ]
  },
  {
   "cell_type": "markdown",
<<<<<<< HEAD
   "id": "16d7efae",
   "metadata": {},
   "source": [
    "**Potato**: Tends to have more stable supply chains due to better storability and longer shelf life.\n",
    "\n",
    "**Tomato**: More perishable, highly seasonal, and sensitive to weather conditions, which often leads to frequent price spikes or drops."
=======
   "id": "68086167",
   "metadata": {},
   "source": [
    "<h3> Volatility of Cross-Veg</h3>\n",
    "<p>   • Day-to-day price volatility of Potato & Tomato.\n",
    "</p>"
>>>>>>> 96a6dd0 (Statistics Added by Neo)
   ]
  },
  {
   "cell_type": "markdown",
   "id": "1c33ba94-430e-4d0f-bdcd-5b93c8c4de72",
   "metadata": {},
   "source": [
    "* <h4>Run F-Test (Variance)</4>"
   ]
  },
  {
   "cell_type": "code",
   "execution_count": 40,
   "id": "f733b945-4bc0-4152-8ce4-5960dcb3ea4d",
   "metadata": {},
   "outputs": [
    {
     "name": "stdout",
     "output_type": "stream",
     "text": [
      "Tomato daily price volatility (std): 0.12\n",
      "Potato daily price volatility (std): 1.53\n",
      "P-vlaue is : 1.00\n"
     ]
    }
   ],
   "source": [
    "import scipy.stats as ttest_ind\n",
    "# Calculate daily price changes\n",
    "tomato_changes = df_cleaned['Tomato'].diff()\n",
    "potato_changes = df_cleaned['Potato'].diff()\n",
    "\n",
    "# Calculate standard deviation (volatility)\n",
    "tomato_volatility = tomato_changes.std()\n",
    "potato_volatility = potato_changes.std()\n",
    "\n",
    "print(f\"Tomato daily price volatility (std): {tomato_volatility:.2f}\")\n",
    "print(f\"Potato daily price volatility (std): {potato_volatility:.2f}\")\n",
    "\n",
    "p_value=ttest_ind.f.cdf( (potato_volatility**2) / (tomato_volatility)**2, dfn = 285, dfd = 285)\n",
    "\n",
    "print(f\"P-vlaue is : {p_value:.2f}\")"
   ]
  },
  {
   "cell_type": "markdown",
   "id": "584a8c79-1a32-4aec-869a-82c45ca11382",
   "metadata": {},
   "source": [
    "**Hypothesis Testing & Interpretation of Results**"
   ]
  },
  {
   "cell_type": "markdown",
   "id": "dae2ded3-9ecb-46f2-8a06-80334873c224",
   "metadata": {},
   "source": [
    "<h5>F-test:</h5>\n",
    "\n",
    "$H_0$ :The variances of daily price changes for Potato and Tomato are equal,\n",
    "\n",
    "i.e.,  $\\sigma^2_{\\text{potato}}$ = $\\sigma^2_{\\text{tomato}}$\n",
    "\n",
    "$H_1$ : The variance of daily price changes for Potato is greater than that for Tomato, \n",
    "\n",
    "i.e., $\\sigma^2_{\\text{potato}}$ > $\\sigma^2_{\\text{tomato}}$"
   ]
  },
  {
   "cell_type": "markdown",
   "id": "12928890-f28b-49b5-ae2b-ffb1fcf7a84d",
   "metadata": {},
   "source": [
    "* *$\\sigma_{\\text{tomato}}$ = 0.12*\n",
    "* *$\\sigma_{\\text{potato}}$ = 1.53*\n",
    "\n",
    "F = $\\sigma^2_{\\text{potato}}$ / $\\sigma^2_{\\text{tomato}}$ = 162.56\n",
    "\n",
    "* **Conclusion:** Reject $H_0$. Therefore Potato has higher day-to-day price volatility than Tomato on a 5% significance level."
   ]
  },
  {
   "cell_type": "markdown",
   "id": "edecea48-82a8-4bdd-944c-7e0cc9b1c4da",
   "metadata": {},
   "source": [
    "<h4>Visualize Price Over Time</h4>"
   ]
  },
  {
   "cell_type": "code",
   "execution_count": 11,
   "id": "f56fd8e1-3094-400f-ab58-a60da119bfd1",
   "metadata": {},
   "outputs": [
    {
     "data": {
      "image/png": "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",
      "text/plain": [
       "<Figure size 1000x600 with 1 Axes>"
      ]
     },
     "metadata": {},
     "output_type": "display_data"
    }
   ],
   "source": [
    "# plot line visualization for Potato and Tomato prices\n",
    "plt.figure(figsize=(10, 6))\n",
    "plt.plot(df_cleaned['Price Dates'], df_cleaned['Tomato'], label='Tomato', color='orange')\n",
    "plt.plot(df_cleaned['Price Dates'], df_cleaned['Potato'], label='Potato', color='purple')\n",
    "\n",
    "plt.xlabel('Date')\n",
    "plt.ylabel('Price(INR)')\n",
    "plt.title('Tomato vs Potato Prices Over Time')\n",
    "plt.legend()\n",
    "plt.grid(True)\n",
    "plt.tight_layout()\n",
    "plt.show()"
   ]
  },
  {
   "cell_type": "markdown",
   "id": "678f0306-5441-44f2-9719-c64520f5258b",
   "metadata": {},
   "source": [
    "By inspecting visual from 2023-01 to 2024-01, we see an irregular price of Potatoes as compared to Tomatos over time due to following:\n",
    "* Potatoes are storable for months, unlike tomatoes, which perish quickly.\n",
    "* Traders and farmers release stock strategically, causing irregular supply, which can lead to price swings fot Potatoes whereas, Tomatoes typically bypass such storage chains, moving directly from farm to market."
   ]
  },
  {
   "cell_type": "markdown",
   "id": "a43827ba",
   "metadata": {},
   "source": [
    "<h3>Cross-Veg Correlation</h3>\n",
    "<p>   • Onion and Garlic prices are positively correlated (r > 0.7).\n",
    "</p>"
   ]
  },
  {
   "cell_type": "code",
<<<<<<< HEAD
   "execution_count": 68,
   "id": "1b9ebd96",
=======
   "execution_count": 44,
   "id": "884604d2-da53-4187-acbc-842f2a09a9a6",
>>>>>>> 96a6dd0 (Statistics Added by Neo)
   "metadata": {},
   "outputs": [
    {
     "name": "stdout",
     "output_type": "stream",
     "text": [
      "Correlation coefficient of Onion and Garlic: 0.76\n"
     ]
    },
    {
     "name": "stderr",
     "output_type": "stream",
     "text": [
<<<<<<< HEAD
      "C:\\Users\\Bulelwa\\AppData\\Local\\Temp\\ipykernel_19544\\2798993401.py:26: UserWarning: No artists with labels found to put in legend.  Note that artists whose label start with an underscore are ignored when legend() is called with no argument.\n",
=======
      "C:\\Users\\Bulelwa\\AppData\\Local\\Temp\\ipykernel_6020\\4019705121.py:26: UserWarning: No artists with labels found to put in legend.  Note that artists whose label start with an underscore are ignored when legend() is called with no argument.\n",
>>>>>>> 96a6dd0 (Statistics Added by Neo)
      "  plt.legend()\n"
     ]
    },
    {
     "data": {
<<<<<<< HEAD
      "image/png": "iVBORw0KGgoAAAANSUhEUgAAAxYAAAHqCAYAAACZcdjsAAAAOnRFWHRTb2Z0d2FyZQBNYXRwbG90bGliIHZlcnNpb24zLjEwLjMsIGh0dHBzOi8vbWF0cGxvdGxpYi5vcmcvZiW1igAAAAlwSFlzAAAPYQAAD2EBqD+naQAAlMxJREFUeJzt3Qd8VFX6PvAnvZKEkACR3iSAIII0EUSqiAp2ZXdFlz/uulhxd9W1t3Xtvaw/XV1XsWBDEVE6KlUUESFIUXoJJZ30+X+eE2+YTGZSZpLJlOfrZxzm3nPnnpm5M7nvPee8J8Rms9kgIiIiIiLigVBPNhYRERERESEFFiIiIiIi4jEFFiIiIiIi4jEFFiIiIiIi4jEFFiIiIiIi4jEFFiIiIiIi4jEFFiIiIiIi4jEFFiIiIiIi4jEFFiIiIiIi4jEFFiIBoGPHjrjyyiubuhoBg+8l31N7ISEhuOeee+ALlixZYurDe6lZY3xuI0aMMDd/Pp5rKhsfH49g9/rrr5tj59dff22wY68hnlPE1ymwEPGin376Cb///e/Rpk0bREVF4YQTTsDvfvc7s1xcW79+Pa666ip06tQJ0dHR5sSnb9+++Pvf/47t27fD3/DkwrqFhoaa42Ds2LF+ESgUFhbiySefxKBBg5CYmGg+jxNPPBHXXnstfv75ZwSKjRs3mpPCQDwJLCgoMK+tMY43Blz2x3dkZKT53l599dXYtWsXGsvy5cvNa8rKyqpzAGVfT/vbvHnznG7zwgsvmOBARFwLr2GdiDSgDz/8EJdffjmSk5MxdepU88eWJy2vvvoq3n//fbzzzjs4//zz3XruzZs3mxPUQPR///d/uOaaa5CSkmKCsPT0dJSWlmLDhg1444038NRTT+HYsWMICwtr1HpwH+HhDfeTOWbMGFxxxRWw2Wz45ZdfzEnLyJEj8dlnn2H8+PE1bjt8+HBTH560edOhQ4dw1llnYe3atTjnnHMwefJkE+Tx+OPx+/LLL6O4uBiBEljce++95kTZ8Wr/l19+CX/7DpWXl1cJLPjaqDFaXtq2bYuHHnrI/JvHA9/Ll156CV988QU2bdqE2NjYRgks+JoYMCQlJdVpG17ceeWVV6otP/nkk83387LLLjNlLPyO8nfI3dbhP/zhD9WeUyTQKLAQ8YJt27aZPyqdO3fGsmXLkJqaWrnuhhtuwLBhw8x6XplnmfoK1D9UPFlgUDF06FDMmTMHzZo1q7L+8ccfx4MPPthg+8vPz0dcXJzTdbwy35B4lZ+tVxYGlX369DGBkqvAgq0FDCYYRDZ0feqCJ1Tff/+9CYQvvPDCKuvuv/9+3H777Y36OTAI43sQExODpuTtgM5TERERXt0fW7Lsj23ihRS2an3zzTfmpN0X8EKBYz3tNfTFCj5fY18AEWlqgXmJU8THPProo+YqIa/o2gcVxCtg//73v83J1COPPFK5nM36bJbfunVr5VU4/sFmlyA+V21jLNhF6OKLLzYtJLxCOHjwYHM13Flf/ffee8+coPNKI09YR40aZfZbE55cctulS5dWW8fXw3VsVaD9+/ebevP5GQSlpaVh4sSJtXYz4RVIPs9bb71VLagg1pUntPZ/rL/66ivzutu3b2/21a5dO9x0003mCr+zvuQM+s4++2zz/GwRqU9f/T179pjWJ3Zl4r548sRAyJ2r9r179zbHAlsv7D8btgTccccdpvscP8ecnByXYyxWrVplXkvz5s3NiTkDlaeffrpKmYyMDFx00UXmuOD7d+qpp+KTTz6ptX58bh4/fL2OQQXx9T/22GNVli1atMgEzawLj19+5rxibc86znlVmy0grPvpp59eeVyzZYRXullPBhQ8tohdXm688Ubz+XLfXbt2xcMPP1zlyrwzO3bswF/+8hd0797dPF+LFi3M8WJ/LLK7C5fRmWeeWdlFxnq/nY2xOHjwoHlvWrVqZd5XXvX+73//W6UM98Hn4fvE34IuXbqYug8YMABr1qypsd58vTzOn3nmmSotSAwy+RoYdFl4DLZu3drpGAvWwfoNsr5fro7tSZMmme8Iy//1r39FWVkZ3GXVx7HVj/v54x//aN43vhe9evXCf/7zn2rbP/vss2YdvwM8Rng8zJw506xj3f/2t7+Zf/M7aL0mT7qxOY6H4PvHLqv8vbOev76tPc7GWFjH+Ndff42BAweaY4cXl9ga68jdY17Em9RiIeIFn376qfkDwpMsV11buN7xxJ8uueQS88eSXQu+++4703TfsmVL8wfFlQMHDuC0004zAcj1119vTjx4knPeeeeZgMCxy9W//vUvc4LCk4fs7GwT4PAkmyeTrkyYMMGcdDAoOeOMM6qse/fdd81JwEknnWQe80SUf5Svu+468zp5EjZ//nzs3LnT5aBS1p0npvzjzYCkrmbNmmW25ckVX/fq1avNScnu3bvNOnvsUjVu3DhzIsuTvfp00di7d685EeAfe/YfZxctniTx/eX+63tV++jRo+bGkwV7DJz4XPxsioqKXD4v30+eoDBoYysYT+R4Es+WHj4mfgZs/WGQcuutt5oTfn5+PIH84IMPauyKZwUfbFmriwULFpiWF54k8cSPgR0/B+6fx7Hj584T+W7duuGf//xnlZNkdrNiF8I//elPmDZtmgkI+P7ymOP7zeUMItm6ddttt2Hfvn2m1ccVnsCzLLuk8LjiSd6LL75ojjMGNzwG+H3k94Yn8f/4xz/Qo0cPs61174ivjdszGOdVeX5feazxhJ7Hh/X+W3hCnJuba+rOE01+3y644AJzMcBV6wIDM36f2OLJuhFPRrn9kSNHTN35nbOCa1e/NQwS+Hr5/eDnzf0Sg1ALAwh+LziOht8LfpZsHWQgxO1qw+0Z9FBJSYk5Du+++25zbPPzt/+d4gUPvga+b6zb559/bgI0BtA8iba6cvE1MyDme8lWK7bu8veJwShfA8f3vP3222b8DwN067XWxqqnhe8/L+A44jHF3y/+5lktcwyGGgKPG742vu4pU6aYwIrHTv/+/Ss/U0+OeRGvsolIo8rKyuJZkm3ixIk1ljvvvPNMuZycHPP47rvvNo//+Mc/Vil3/vnn21q0aFFlWYcOHWxTpkypfHzjjTeabb/66qvKZbm5ubZOnTrZOnbsaCsrKzPLFi9ebMr16NHDVlRUVFn26aefNst//PHHGut8+eWX21q2bGkrLS2tXLZv3z5baGio7b777jOPjx49ap7r0UcftdXHDz/8YLbja3F0+PBhW2ZmZuXNvu4FBQXVyj/00EO2kJAQ244dOyqX8f3i8996663VynMd31N7LMvPxHLFFVeY17lmzZpq25eXl9f42vhcU6dONXU/ePCgbdWqVbZRo0aZ5Y8//niVz6Zz587VXpO1jvfE95+fLevM99tVXbiP3r172woLC6usP+2002zdunWrsc487rhPx+d3pW/fvubY4Gdl/5nyPeN7Z7GOcx5Ljvh6uG7evHlVlt9///22uLg4288//1xlOT/LsLAw286dO11+bs6OjxUrVphyb7zxRuWyWbNmVXmP7Z1xxhnmZnnqqadM2TfffLNyWXFxsW3IkCG2+Pj4yu/0L7/8Ysrx+3vkyJHKsrNnzzbLP/30U1tNpk+fbmvVqlXl4xkzZtiGDx9u3ucXX3zRLOP7zWOd32FXxzOPO8f3xb4s11nfX8spp5xi69+/f431s94bbu9442/M9u3bq5TldyAtLc126NChKssvu+wyW2JiYuVnxd/OXr161bhf/r5wP3yP68J6nY4363N97bXXqj0f62D/udfG8T129pzWMb5s2bLKZfxNiIqKst18881uHfMiTUldoUQaGa9MkrOuPPas9bxSZ+/Pf/5zlce8Enn48OFq5ezNnTvXXE23upQQr7Txyjqv0PLqpj12U7K/Em5d7awt49Kll15qWh/su+Twij2b5rmO2N2Ez80yvCJfV9brc5b6klfBeTXSutl35bHvf8/uZbwiydYb/p3n+ABHdbkC64iv7+OPP8a5555rumQ44hXY2nDQPuvO1ideGWbf8xkzZlRepbXwCmZtYwr4utiFits6Dly16sKr2mwBYgsYj0m+L7zxWOLV6S1btpirobV9HrUdx8QrqOvWrTNXXdnlysKr4uxfz+PTkeNxbuHVf9bPHlsDeIyyS4z1OngbPXq0uVrOq/qu2L+XvJrO188r6Xzf2JLiDr4ethCxZcX+yjevsufl5VXrLsjvBute3+8by/EqP1txrJYJtq5wOf9ttWLwWHfVYlFXzn536pqBja1RbEHjjS0QvJrOllC2YGVmZpoyrCNbyfgd4r/tP0d+3ixvfR78bNjiWFt3sfpityOrntaNLTPe1rNnzyqfF38X2DJn/357csyLeJO6Qok0MutEzAow6huAsMnbnnVCwpP0hIQEl/3IebLqyOrKwfVWN6Xa9lETZghitwF2feK4DOK/mQqWg5OJfYHZbevmm282XQfY9YFddpgRyb4fuCPrfeCJmaPZs2ebk8IffvjBdBGyx+5Vd911lwk2HOvPkxV77O9dn25WFp4c8UTb/j2sL443YPcPnvjztbLLg7MByzyxrg3HiVBN9WF3C57A3XnnnebmDINEdpNyxjrWeJzWlnWHxxfx5MjZMcgxE44DtF29TmfLGQSxK4yrri58Ha6w2xK7Fb722msmkLLvduV4fNQVXy+7cTlmZrP/vtlz9/tmnXwyiOBxy4DygQceMO+DNb6F6/hZcYyHJyfcju8t61jXCwP8XHnCa/87wYscDMLZ7ZIn7/wOsZsYx5rwVtPneMstt5juWLxYwiCQqZnZBcq+W5U7OGbFvp5NxfF4cPZ+e3LMi3iTAguRRsYTb/Z75x+FmnA9T+ocgwVXWUTsT4g85e4+GDSwf/5HH31kUjHyaiqvvLOfvD1eSeeVSV7l50klT2x5cscr6KeccorT5+YJBE/8rQHg9qwxHY4DQXnljlfEeXWeJyMc98CTHJ5A8uq54yBH1r+p0vTyxLAuJzUNlQHJeu0MxBxbACyO4zvs8b2kH3/80eOr4fV5nc6W87Xwc+Y8Js5YQa0z7CfPoILH5JAhQ8z3k8Edx1x4axCsu983JglgoMWr02wVYHm+Bp5scuwBAxgGFmyh8+S4bozMRRwvwPfaurJuvdfMysRWOWescR8M0NhKw/FCnGOCLR38veEFBCttrj+ry/HgyTEv4k0KLES8gFfoOQCR3RTsuydZeDLALkoclNcQOnToUNldwjEjkLW+obBbBweGL1y40AzS5B9DqxuUPQ78ZKsFb7z6xlYNXrl88803nT4vAwIOiGU3EgYGrq6k2+NJLwdxsj5sEbGwi0ND4okcA0BnQU9T4HtLrI+rYMVKY8wuOu5cpWVgyGCQn1dtgYV1fLk6Bjm41lVa37q+XrZkufM62FWPJ7L2XV44GNhxYrW6dGezf728MMCTP/sT+sb4vvG958k5Awx+h9jaxdYJnrTzpJvdh2o72a7Pa2tIDPytFkh+h1h3LqvL58jjhb8rvDHrGgdsM5MdBy+zhcUbr6mp3jdPj3kRb9IYCxEvYCpEXnll4MA+3fZ4dZ39mZmNxkqZ6CmmHGU2pBUrVlQuY9cTdjnglU726W0o/EPHfvTsAsUbuyvYd19hNhOeuDn+keRJBbMc1YRXJHniwauazrpEOV7hta782S/nvx1TrnqKJ49sqWG2r2+//bbWejW2fv36mfecfdkdT5CtunAsBwM1pmvlGAhHVt93V3hlnF1amJWMLU+OeLJndUtjCx1Pehng2deHgQ8nl+Px6QmOE+GxzdYvR9wfs325wmPE8fNhtirHVKpW4FOXmZz5ephSmce/hXXg83KMkGPWNE8DC16E4L6sAI/HI1spnnjiCdNFsLbAz8p+VtdZqhvC4sWLzXfY6qLFz4HZ4tj64CxAtz8eHX8zOWaLv2H8HPl66/t5uYv78OZ71lDHvIg3qcVCxAvY/5onWUzhyvkKHGfe5iA8pkq0rjx7iqlE+XwcLMkBpDzx5/45wJd/yBuy+w+vgPPqIedbYPDiOJcBWxA4/oJ/GHkywO5L7DrFblPsflITniA999xzpvsK30Nr5m2exPJ5Ob8FTzKssRpcx/eQJ7hs5WCrAl9vfQaN1xW7e/EkmSeNHBTP7ho8YecgS7ZM1XX234bAz5MpRNmqwBN6DsbnyT2vmDPFrHUy8vzzz5sWMx6DTN3KVgx+Djxh4eBYjlmpCXPrs387P2/ui58rT7bYAsXPn6/f+vw5dwuPPwYkPN6tdLO8su44Z0J9MQDnGBq2BFppOXnsscWKLRL8XlkpRx1xm//973+mHjwe+drZf5+pie3xfeTJL8cHcewFu81xZnQGaI74+TNgY104KzmDd9aD3QIZ7NVlwHtdWUEDW4PsuxxyEDcHSlvzYtSEFzn42hmcsAsNfx84PseTMUP2+H5ZLZE84WVdeXxyv/xtsnC8BQMOjgfj8cg68UILW134mfDfxGOO33GOqeA4LbaM8neBKa+t95bHADEVLH9X+LvEY9STljFH3AdfB8e1sNsgjwUeE97gyTEv4lVNmpNKJMisX7/epNVkisWIiAhb69atzWNnaV2tNJxMDWnPVcpC+3SztG3bNttFF11kS0pKskVHR9sGDhxomzNnjtO0pUytac9Ki8l91cX8+fNNeaa53LVrV5V1TCXJNJnp6ekmXSLTSA4aNMj23nvv2erq+++/NylK27dvb4uMjDTP06dPH5OOcevWrVXKbty40TZ69GiT5jMlJcU2bdq0ytS19q+H7xefx5m6pJslpq9lvVJTU016SKaG5Wu1T3/rDJ+L5Wri6rOxX+eYCvXrr7+2jRkzxtasWbPK9+jZZ5+tdlywzjz2eAy2adPGds4559jef/99W10wBehjjz1mGzBggHmP+XkwVe11111X7bNYsGCBbejQobaYmBhbQkKC7dxzzzWfT12Oc+JnMGHCBKf1YPrk2267zda1a1dTB37WTJvLujHVq6vPjelyr7rqKlOe9R83bpwtIyPD6Xfo//7v/8xnynSe9u+3Y7pZOnDgQOXzsj5M6+v4/bG+V85SL7tK/+oM08uyPPdp/9lz2bBhw+p0PC9fvtykj2Vd7fft6nthfU71TTfL34Tk5GSTTnvt2rXVyvM18LvQrl27yt9EpkV++eWXK8v8+9//Nml1maaX37MuXbrY/va3v9mys7OrPBdTsvJ4Zkrj2lLP1vT9d/U7u3//fnM88vtln5rW03Szzo5xZ8dYXY95kaYUwv95N5QREREREZFAozEWIiIiIiLiMQUWIiIiIiLiMQUWIiIiIiLiMQUWIiIiIiLiMQUWIiIiIiLiMQUWIiIiIiLi3xPkcaIZ3jixC/Xq1cvMtMtJlYiz9d58881m4iXO0Dtu3Di88MILZoIcy86dO3HNNdeYSXY4w+mUKVPw0EMPmUm46qq8vBx79+41E+2EhIQ0wisVEREREfE/nJkiNzcXJ5xwQq0T7DZpYNG2bVsz8yZn1GWlOTPwxIkT8f3335sg46abbsJnn31mZrLlLKnXXnutmfGVs5lSWVmZmXmTM3IuX77czPp6xRVXmBk37WckrQ2Dinbt2jXiKxURERER8V+7du0y5+418bkJ8pKTk/Hoo4/ioosuQmpqKmbOnGn+TRkZGejRowdWrFiBwYMH4/PPPzfT2zMwsFoxXnrpJdxyyy3IzMxEZGRknfaZnZ2NpKQk84YlJCQgkJWUlODLL7/E2LFjTQAmwU3HgzjSMSH2dDyIIx0TwScnJ8dcgM/KyjIX+n22xcIeWx/YMpGfn48hQ4Zg7dq15uAdPXp0ZZn09HS0b9++MrDgfe/evat0jWJ3KXaN+umnn3DKKac43Re7VfFmYfMOxcTEmFsgYxex2NhY8zr1gyA6HsSRjgmxp+NBHOmYCD4lJSXmvi7DBZo8sPjxxx9NIMHxFBwj8dFHH6Fnz55Yt26daXFgS4I9BhH79+83/+a9fVBhrbfWucIxGPfee2+15YzA+WUJBvPnz2/qKogP0fEgjnRMiD0dD+JIx0TwKCgoqHPZJg8sunfvboIIdkd6//33zeDrpUuXNuo+b7vtNsyYMaNaEw+b9YKhKxR/DMaMGaMrDaLjQarRMSH2dDyIIx0TwScnJ8d/Agu2SnTt2tX8u3///lizZg2efvppXHrppSguLjb9uexbLQ4cOGAGaxPvV69eXeX5uN5a50pUVJS5OeIXJFi+JMH0WqV2Oh7EkY4JsafjQRzpmAgeEfX4nH1uHgumfuX4BwYZfCELFy6sXLd582aTXpZdp4j37Ep18ODByjKMotnqwO5UIiIiIiLBrqyszAw7cHbjuobSpC0W7JLEOSs4IJsDqJkBasmSJfjiiy/MqPOpU6eaLkvMFMVg4brrrjPBBAduE7suMYD4wx/+gEceecSMq7jjjjswffp0py0SIiIiIiLBwmazmfNj9gCqCXsHsbePp/O5NWlgwZYGzjvB+ScYSPTp08cEFey3R08++aSZiOPCCy+sMkGeJSwsDHPmzDFZoBhwxMXFmTEa9913XxO+KhERERGRpmcFFS1btjQJihwDBwYeHJxt9f5JS0vz38Di1VdfrXF9dHQ0nn/+eXNzpUOHDpg7d24j1E5ERERExD+VlZVVBhUtWrRwWc6aaoHBBcvywr27fG6MhYiIiIiINMz8E3WZSsEqY23jLgUWIiIiIiIBKqQO4yY8HVthUWAhIiIiIiIeU2AhIiIiIiIea/IJ8kREREQEsJXbkL0zG0W5RYhqFoXE9okICW2YLioi3qDAQkRERKSJZW7KRMZHGTiUcQilhaUIjw5HSnoK0s9PR2qP1KaunkidKLAQERERaeKgYtUzq1BwqACJ7RIREReBkvwS7Pt+H7J3ZWPQ9YMUXIjbysvLG6RMXSiwEBEREWnC7k9sqWBQkdoztTI7T1RClHmcuTETGR9nIKV7irpFSb1ERkaaiab37t2L1NRU89jZBHnFxcXIzMw0ZVnGEwosRERERJoIx1Sw+xNbKhxP+vg4oW0CDm06ZMoldUxqsnqK/wkNDUWnTp2wb98+E1zUNo9F+/btzTaeUGAhIiIi0kQ4UJtjKtj9yZnIuEjk7sk15UTqiy0QDBhKS0vNTNzOcKbt8PDwBpnLQoGFiIiISBNh9icO1OaYCnZ/clScX2zWs5yIOxgwREREmFtj0zwWIiIiIk2EKWWZ/YmDtNnf3R4f5+zOQUqPFFNOxNcpsBARERFpIhyQzZSysSmxZqB2YXYhykvLzT0fc3n6pHQN3Ba/oMBCREREpAkxlSxTyqadkoZjh4/h8M+HzX1avzSlmhW/ojEWIiIiIk2MwQNTymrmbfFnCixEREREfACDCKWUFX+mrlAiIiIiIuIxBRYiIiIiIuIxBRYiIiIiIuIxBRYiIiIiIuIxBRYiIiIiIuIxBRYiIiIiIuIxBRYiIiIiIuIxBRYiIiIiIuIxBRYiIiIiIuIxBRYiIiIiIuIxBRYiIiIiIuIxBRYiIiIiIuIxBRYiIiIiIuIxBRYiIiIiIuIxBRYiIiIiIuIxBRYiIiIiIuKxcM+fQkREREREGkx5KbDmL8C2/zu+bLINvk6BhYiIiIiILyg6DCwcBWT9AH+kwEJExA22chuyd2ajKLcIUc2ikNg+ESGhIX67HyotLMXa/6wF2gBr/28tTv3jqQiP1p+Jxvqc3P1svXVMlJeWY/eK3ebfvO9wWgeEhjdOD2qzr5W7kXcgD/Gt4tF2cNtG25e3lBWXIWN2BnJ25SChXQLSJ6YjLDKswT9bb753Vv2I9y06tWi036Ogc/QH4PO+rtf3ewL+QH8xRETqKXNTJjI+ysChjEPmZJwn3ynpKUg/Px2pPVL9bj+06K5FWPPcGpSUlKD3m72x4JYFWHrHUgy4dgBG3jeyQfcVaNz5nNz9bL11TGyesxmrn1mNo7uOosO/OuDTP32K5u2aY+D1A9H9nO4Nth/7fR3ZegRlJWUIiwhDctfkRtmXt6x+cTVWPr4SefvzUF5WjtCwUCxsvRCDbx6MgdcMbLDP1pvvXWX9th5C6MRQfPXgV0jp2ji/R0Flx7vAN5e5Xt/1z8CpzwGhNQelvkKBhYhIPf+4rnpmFQoOFSCxXSIi4iJQkl+Cfd/vQ/aubAy6flCD/JH11n6soGL5w8tRVlqGiMQIsyw0IhSF2YVmOSm4aLjPyd3P1lvHBE9WGVgWZRchvm28WRadGI3MjZlmOTXUSav9vuJaxiEiNgIlBSWNsi9vBhWLb1+MkmMliGwWifCocJQWlSJnT45ZTo7BhTufrTffO/v6JXRMQBGKENMiplF+j4KCrRxYdwuw6THXZQa9AnSZCn/j3+2MIiJexG4AvGLHP66pPVMRlRBlrkTyno+5POPjDFPOH/ZDvDLKlgoTVMRFIDyy4noT7/mYy9c8v8aUE88/J3c/W28dE+xWwyvgPFlN6pyEyIRIs5z3fMzlq59dbcp5ynFf5jWFV7ymht6XN7s/saWCQUVsaiwiYyPN58R7PubylU+sNOU8+Wy9+d5Vq1+zKLOc9w39exTwSnKABWcAb4e5DirGrqwYpO2HQQUpsBARqSP2KWY3BV5RDAmp2q+YjxPaJuDQpkOVfZB9fT/03avfoSinyPT9Dg2t+ieBj9m1gicpLCeef07ufrbeOibYV5/dangF3NnxwJPjI1uOmHKe8ua+vIVjKtj9iS0Vzl5TZHwk8vblmXKefLbefO+8+XsUsHJ+Bt6NBWYlAgeXVV8f3wU4f29FQJEyCP5MgYWISB1xQCWv3PNKvjORcZFmPcv5w34o69cs2Gw2l4M92SWK61lOPP+c3P1svXVMcAAw++qzW42r/XA9y3nKm/vyFg7U5pgKdn9yhuMmuJ7lPPlsvfneefP3KODsmQvMDAHmdAfKjlVf3+Fy4NIi4LytQEwaAoECCxGROmLTP08M2PfZmeL8YrPe6irg6/uhpI5J5qqjqy4T5SXlZj3Lieefk7ufrbeOCWYVYisV++q72g/Xs5ynvLkvb2H2J3Zj4pgKZ3gCzvUs58ln6833zpu/RwHBZgM2PFARUCyd4LzMKY9XtE4MnQmEVXQ3DBQKLERE6oipH5mlhYMVeRXfHh/n7M5BSo8UU84f9kP9pvYz/bLZ57u8vGpwwce86hmVGGXKieefk7ufrbeOCaYqZVah/IP5To+HgswCJHdLNuU85c19eQtTysa3jkdxbrHT11ScV4z4tHhTzpPP1pvvnTd/j/xa6TFg6UTg7VBg/Z3Oy4xcUBFQ9JiBQKXAQkSkjpivnakVY1NiTeYVZk3ilX7e8zGXp09K9zivu7f2Q7zSyJSyYeFh5oqkdaWV93zM5QOmD9B8Fg30Obn72XrrmGCXOKYqZTCZtT3LjL8h3vMxlw+8bmCDzJPguC/719TQ+/IWjlViStmImAhzcs+r+ez6xHs+5vLBMwZXmc/Cnc/Wm+9dtfrlFJrlvG/o3yO/lL8L+OgE4L1YYM8n1ddHpQDn/VIRULQehUCnvxQiIvXAlIpMrWjlm8/dk2tOutP6pZk/rg2VctFb+7FPJWvNY0E8SYlOijZBhVLNNuzn5O5n661jwkpRas1jQRzAn9or1ZysNmT6V/t9cTAyMwyxC09j7MtbrFSy1jwWbKUw3Z/aJpigwtk8Fu58tt5876rUj/NYIBSFRwob5ffIbxxYCiwc4Xp92nhg2CwgPA7BJMTm2K4VhHJycpCYmIjs7GwkJBzv9xiIeNIwd+5cnH322YiIcD4QS4KHjgf3BerM29/+51scaHMArfa00szb9RCoM2/vWL4D64+uR5/mfTTzdj0F6szbh385jG82fIOhJw0Nzpm3Nz8HrL3O9fqT7gZ6382UWQjG82T9xRARcQP/mHpjQLO39kMMIvpP62+CTd6HR+hPRGN+Tu5+tt46Jnhy2nZIW6yfu97cN+aJPp+7/entEUgYRPS6uFejf7befO9YPzOWYkPF2IugCSrKS4BV/w/45Q3XZYZ9BLSbhGCnvxoiIiIiIo4KD1ZMaJdzfN6RKkLCgbPXA4k9vF0zn6XAQkRERETEcvhb4IsBrtennAaMmAtEBnkmLCcUWIiIiIiI/PI/YMUVrtd3vwHo9wT7hHmzVn5FgYWIiIiIBKfyMuC7m4Cfn3VdZsj/gE6/92at/JYCCz/kzSwxIv7Em5l5ApGVxQaRQMbHGeg5sWetWWxERPxScRaw+Czg8CrXZc76Fkju781a+T0FFn4mc1NmZZ5rpoZkFhfOiMnJa4Iyj7SIB98NfZ+OW/3iapN3vyC7AD1e6YHP/vIZFt+22Ez25SzvvoiIX8reCMztzatKztcn9gRGLQaiW3q7ZgFBgYUf4UnQqmdWmUlwEtslIiIuwsyMu+/7fcjelW0mrwm2kyERd78b+j5VDSoW374YJcdKEJ0abZaFx4QjZ0+OWU4KLkTEr+36GPjqfNfrO18JDHwZCNWcTp7Q6BM/we4avLLKk6DUnqmISogyM3nyno+5nF0XWE4kmLjz3dD3qWr3J7ZUMKiITY1FREzFH1Xe8zGXr3xipSknIuJXOAf0D3cCM0NcBxWnPgdMtgGDX1NQ0QAUWPgJ9gFndw1eWQ1xmM2RjxPaJuDQpkOmnEgwcee7oe/TcRxTkbc/D5HNIhEaWvVPAh9Hxkcib19exdgLERF/UJpfMX7i7VDgpweclxm9tCKgOHG6t2sX0NQVyk9wYCn7gLO7hjORcZHI3ZNryokEE3e+G/o+HZezKwflZeUIj3L+54DjTorzik05ERGflvcLMO9UoPiI8/UxbYCxK4C4dt6uWdBQYOEnmK2Gf+DZB5zdNRwV5xeb9SwnEkzc+W7o+3RcQrsE0w2stKgUkbGR1dYzAON6lhMR8Un7FwCLxrhe33YSMPRtIKxiDJk0HnWF8hNMgclsNRxUamOfQTt8nLM7Byk9Ukw5kWDizndD36fj0iemI751PIpzi1FeXjVLCh+ztSI+Ld6UExHxKZserxg/4SqoOPlB4PJyYPhHCiq8RIGFn2BefabAjE2JRebGTBRmF6K8tNzc8zGXp09KD9r8+xK83Plu6Pt0HOepYEpZDtYuyCxASUGJWc57PubywTMGaz4LEfENZUXA15dVBBTf/9V5mRFzK8ZP9PoHB855u4ZBTV2h/AhTXzIFppV3n33A2V0jrV+aOQkKltSYIg3x3dD36Tgrlaw1j4XVBYqD2BlUKNWsiDS5gr3A/NOB/F+crw+PA876Hkjo5u2aiR0FFn6GJzsp3VM0U7BIA3w39H06jsFD/6n9sXH2RmzHdkx4YYJm3haRpndoJfDlENfrW44AzvgEiGjmzVqJCwos/BBPepI6JjV1NUQC4ruh79NxDCLYWrN97nZzHxahoEJEmsjWV4DV01yv7/F3oO9D/BH3Zq2kFgosRERERKTplZcC304Htr7suszQd4EOl3izVlIPCixEREREpOkUHQYWjQaOrnNdZvwPQPM+3qyVuEGBhYiIiIh439H1wOcnu17f/BRg5HwgqoU3ayUeaNKOaQ899BAGDBiAZs2aoWXLlpg0aRI2b95cpcyIESMQEhJS5fbnP/+5SpmdO3diwoQJiI2NNc/zt7/9DaWlpV5+NSISTGzlNmT9moUDPx4w93wsIiJ1sOO9inSxroKKrlcDl5UA479TUOFnmrTFYunSpZg+fboJLhgI/OMf/8DYsWOxceNGxMXFVZabNm0a7rvvvsrHDCAsZWVlJqho3bo1li9fjn379uGKK65AREQE/vnPf3r9NYlI4MvclFmZppZpWZmmlhPucW6MYEpTKyJSZ7ZyYN1twKZHXJcZ+DLQtYYB2+LzmjSwmDdvXpXHr7/+umlxWLt2LYYPH14lkGDg4MyXX35pApEFCxagVatW6Nu3L+6//37ccsstuOeeexAZGdnor0NEgiuoWPXMKhQcKkBiu0RExEWgJL8E+77fZ2by5twYCi5ERH5TkgssPQ84uMR1mTHLgdQaUsqK3/CpHF3Z2dnmPjk5ucryt956CykpKTjppJNw2223oaCgYgInWrFiBXr37m2CCsu4ceOQk5ODn376yYu1F5FAx+5ObKlgUJHaMxVRCVEIDQs193zM5RkfZ6hblIhIzhbg3ThgVoLzoCK+M3D+3ooZshVUBAyfGbxdXl6OG2+8EUOHDjUBhGXy5Mno0KEDTjjhBKxfv960RHAcxocffmjW79+/v0pQQdZjrnOmqKjI3CwMQqikpMTcApn1+gL9dUrd6HioH06kd2jrISR0TADCABuqBhDNOjTDoS2HcPiXw2aiPX+kY0Ls6XiQ+h4TIfvmIfzr81xuX97uYpQN+A8QFmU9YeNUVBpMfb7/ITabzScurV1zzTX4/PPP8fXXX6Nt27Yuyy1atAijRo3C1q1b0aVLF1x99dXYsWMHvvjii8oybNHgGI25c+di/Pjx1Z6DXaTuvffeastnzpxZZfyGiIiIiNTCZkO3kvfRs+Qtl0U2RF6JbRGTvFotaRg8r+aFfvYsSkhI8P0Wi2uvvRZz5szBsmXLagwqaNCgQebeCiw49mL16tVVyhw4cMDcuxqXwe5UM2bMqNJi0a5dOzNwvLY3LBCizvnz52PMmDFmgLsENx0P9W+x+OrBrxDTIgZRzX672manMKcQhUcKMez2YX7dYqFjQiw6HqTGYyK0DGErf4/QvZ+4LF86/HPYWo1Cd8DcxP9YPXvqokkDCzaWXHfddfjoo4+wZMkSdOrUqdZt1q2rmDwlLS3N3A8ZMgQPPvggDh48aAZ+Ew94Bgg9e/Z0+hxRUVHm5og/msHywxlMr1Vqp+Ohblp0aoGUrilmoDbHVDD9tf3vWe6OXKT1SzPlQkKPr/NHOibEno4HsRddnomYed0QUrjXeYHIZOCsb4H4Tr5xBVs8Up/vfpN+3kw1y+5Hs2fPNnNZWGMiEhMTERMTg23btpn1Z599Nlq0aGHGWNx0000mY1SfPhWzL7KVgQHEH/7wBzzyyCPmOe644w7z3M6CBxERdzFYYEpZZn/K3JiJhLYJiIyLRHF+MXJ25yA2JRbpk9L9PqgQEXHq4DJELDgD41ytTzsLGPY+EH58ygAJLk0aWLz44ouVk+DZe+2113DllVeaVLFMI/vUU08hPz/fdFe68MILTeBgCQsLM92oOEaDrRccWzFlypQq816IiDQUppJlSllrHovcPblmHgu2VDCoUKpZEQk4Pz8PfHut6/Un3Qn0vhewa8WV4NTkXaFqwkCCk+jVhlmjOFBbRMQbGDykdE8xYy6KcovMeAuOqVBLhYgEjPISYPXVwPbXXZcZ9iHQ7nxv1kp8nLq+iYi4gUFEUsekpq6GiEjDKswEFo4Asjc6XW0LCcPi6Kcw7Jw/adyNVKPAQkRERCTYHVkLzDvV9foWg4EzP0dpSBxy1UtEXFBgISIiIhKsfnkTWPEH1+tPvA7o9yQQGlbxWBPaSQ0UWIiIiIgEE1s58N0MYPPTrssM/i/Q+Qpv1koCgAILERERkWBQnAUsORs4tMJ1mXFrgBY1dIkSqYECCxEREZFAlr0JmNsHsJU6X5+QDoxeCkRXTDQs4i4FFiIiIiKBaPdsYNkk1+s7XQEMegUIVXYnaRgKLEREREQCBecI+/EeYEMNEwX3fxboXsOEdyJuUmAhIiIi4u9KC4CvLgL2fe66zKglQKszvFkrCTIKLERERET8Vd6vwBcDgKJDztfHpAFjVwJx7b1dMwlCCixERERE/M3+RcCiUa7Xt50InPY2EB7jzVpJkFNgISIiIuIvMp6smIPClT4PAL3+AYSEeLNWIoYCCxERERFfVlYMrJwC7HjHdZkz5gBtJnizViLVKLAQERER8UXH9gHzhwF525yvD4sFxn8PJJzo7ZqJOKXAQkRERMSXHFoFfDnY9fqWZwBnfAJEJHizViK1UmAhIiIi4gu2/QdYNdX1+h5/Bfo+DISEerNWInWmwEJERESkqZSXAd9eC2x9yXUZZnfqeJk3ayXiFgUWIiIiIt5WdARYNAY4+p3rMuPXAc1P9matRDyiwEJERETEW7J+BOb2cb2+eV9g5AIgqoU3ayXSIBRYiIiIiDS2nbOAry9xvb7LNGDAC0CoTs3Ef+noFRER8ZCt3Ibsndkoyi1CVLMoJLZPREioJigLejYb8MNtwMaHXZcZ+G+g69XerJVIo1FgISIi4oHMTZnI+CgDhzIOobSwFOHR4UhJT0H6+elI7ZHa1NWTplCSByybCBxY5LrMmG+A1NO8WSuRRqfAQkRExIOgYtUzq1BwqACJ7RIREReBkvwS7Pt+H7J3ZWPQ9YMUXAST3K3A56cApXnO18d1rAgoYk/wds1EvEKBhYiIiJvdn9hSwaAitWcqQkIquj5FJUSZx5kbM5HxcQZSuqeoW1Sg2zsPWDLe9fr2lwBD3gDCorxZKxGvU2AhIiLiBo6pYPcntlRYQYWFjxPaJuDQpkOmXFLHpCarpzTi+ImN/wJ++IfrMqc8CqTfzAPCmzUTaTIKLERERNzAgdocU8HuT85ExkUid0+uKScBpKwQ+GYysPsj12XO/AJIG+vNWon4BAUWIiIibmD2Jw7U5pgKdn9yVJxfbNaznASAgt3Al0Mq7p2JSALGrwXiO3u7ZiI+Q4GFiIiIG5hSltmfOFDbfowF2Ww25OzOQVq/NFNO/NjBr4EFw1yvbz0WGP4hEB7nzVqJ+CQFFiIiIm7ggGymlGX2Jw7U5pgKdn9iSwWDitiUWKRPStfAbX+15UVgzV9cr+91B9DnPo2fELGjwEJERMRNTCXLlLLWPBYcU8HuT2ypYFChVLN+prwEWH01sP1112WGfQi0O9+btRLxGwosREREPMDggSllNfO2HyvMBBaOBLI3uCgQApz9I5DUy8sVE/EvCixEREQ8xCBCKWX90JHvgXn9XK9vMQg483Mgsrk3ayXitxRYiIiISHD55S1gxe9drz/xWqDfU0BomDdrJeL3FFiIiIhI4LOVA9/dDGx+ynWZwa8Bna/0Zq1EAooCCxEREQlcxdnA0glA5jeuy4xbDbQY4M1aiQQkBRYiIiISeLIzgM/7VGR6ciahOzBqKRDTyts1EwlYCixEREQkcOz+FFh2nuv1HX8PDHoVCIv0Zq1EgoICCxEREfFvNhuw4T7gx3tcl+n/NND9em/WSiToKLAQERER/1RaAHx9MbB3rusyoxYDrUZ4s1YiQUuBhYiIiPiX/B3AvAFAUabz9dGtgHGrgLgO3q6ZSFBTYCEiIiL+4cDiihmyXWlzLjD0XSA8xpu1EpHfKLAQERER35bxFPDdTa7X974POOkOICTEm7USEQcKLERERMT3lBUDK68Cdsx0XeaMT4E253izViJSAwUWIiIi4juO7QfmDwPytjpfHxYNjF9XMQ+FiPgUBRYiIiLS9A6tAr4c7Hp9y+EVLRQRCd6slYjUgwILERERaTrbX6/o8uRK+gzglEeBkFBv1kpE3KDAQkRERLyrvAxYex2w5UXXZU57C+g42Zu1EhEPKbAQERER7yg+CiwaCxz51nWZ8d8Dzft6s1Yi0kAUWIiIiEjjytoAzO3ten1SH2DkQiA6xZu1EpEGpsBCREREGsfO94GvL3a9vstUYMBLQKhOR0QCgb7JIiIi0nBsNuCH24GND7kuw2Ci25+8WSsR8QIFFiIiIuK5kjxg2STgwELXZcZ8DaQO9WatRMSLFFiIiIiI+3K3AfP6ASU5ztfHtgfGLgdi23i7ZiLiZQosREREpP72fgEsOcv1+nYXAae9CYRFebNWItKEFFiIiIhI3cdPbHoEWHer6zJ9HwF6/BUICfFmzUTEByiwEBERkZqVFQIrLwN2fei6zJlfAGljvVkrEfExCixERETEuWN7MKbg/yHiw0PO10ckAmetBZp18XbNRMQHKbAQERGRqjK/AeafjgjGDs7Wtx4NDPsIiIj3ft1ExGcpsBAREZEKW14C1lzjen2vfwB9HtD4CRFxSoGFiIhIMCsvBVb/Cdj+H5dFSoe8g/BOl3q1WiLifxRYiIiIBKPCQ8DCM4HsDS6LlIz9DnO/2Ymz257t1aqJiH9SYCEiIhJMjq4DPj/F9frkAcCZ84CoZKCkBMBOb9ZORPyYAgsREZFg8OvbwPLJrtd3+wvQ/xkgNMybtRKRAKLAQkREJFDZyoHv/wZkPOG6zKD/AF2u8matRCRAKbAQEREJNCU5wJIJQObXrsuMXQWkDPRmrUQkwCmwEBERCRQ5m4G5JwPlRc7XNzsRGL0UiGnt7ZqJSBAIbcqdP/TQQxgwYACaNWuGli1bYtKkSdi8eXOVMoWFhZg+fTpatGiB+Ph4XHjhhThw4ECVMjt37sSECRMQGxtrnudvf/sbSktLvfxqREREmsieOcDMEGBOuvOgouPvgEuLgHM3K6gQkcAMLJYuXWqChpUrV2L+/PkoKSnB2LFjkZ+fX1nmpptuwqeffopZs2aZ8nv37sUFF1xQub6srMwEFcXFxVi+fDn++9//4vXXX8ddd93VRK9KRETEC2w24Mf7KwKKpec6L9PvSWCyDTjtTSAs0ts1FJEg06RdoebNm1flMQMCtjisXbsWw4cPR3Z2Nl599VXMnDkTI0eONGVee+019OjRwwQjgwcPxpdffomNGzdiwYIFaNWqFfr27Yv7778ft9xyC+655x5ERuqHVEREAkjpMeDrS4C9c1yXGbUIaHWmN2slItK0LRaOGEhQcnKyuWeAwVaM0aNHV5ZJT09H+/btsWLFCvOY97179zZBhWXcuHHIycnBTz/95PXXICIi0ijydwAftgLei3UeVES3BCb+WtFCoaBCRIJ58HZ5eTluvPFGDB06FCeddJJZtn//ftPikJSUVKUsgwius8rYBxXWemudM0VFReZmYRBCDGJ4C2TW6wv01yl1o+NBHOmY8D0hB5cifOkYl+vL085G2eCZQHhsxYIG/Ox0PIgjHRPBp6Qen7XPBBYca7FhwwZ8/XUNqfEacND4vffeW205u1VxAHgw4JgWEYuOB3GkY6LpdS6Zg97Fr7hcvynicvwccQmQEwJ8uaRR66LjQRzpmAgeBQUF/hVYXHvttZgzZw6WLVuGtm3bVi5v3bq1GZSdlZVVpdWCWaG4ziqzevXqKs9nZY2yyji67bbbMGPGjCotFu3atTMDxxMSEhDoUSd/DMaMGYOIiIimro40MR0P4kjHRBMrL0bYmmkI3fm2yyKlQz+E7YRz0BUwt8ak40Ec6ZgIPjm/9ezx+cDCZrPhuuuuw0cffYQlS5agU6dOVdb379/fHLQLFy40aWaJ6WiZXnbIkCHmMe8ffPBBHDx40Az8Jh7wDBB69uzpdL9RUVHm5oj7CpYvSTC9VqmdjgdxpGPCy44dABYMB3J/dr4+NBIY/wOQmN4kf7h1PIgjHRPBI6Ien3N4U3d/Ysan2bNnm7ksrDERiYmJiImJMfdTp041rQsc0M1ggYEIgwlmhCK2MjCA+MMf/oBHHnnEPMcdd9xhnttZ8CAiIuIzDq8Bvqhh9uvU04Ez5gCRid6slYiIW5o0sHjxxRfN/YgRI6osZ0rZK6+80vz7ySefRGhoqGmx4IBrZnx64YUXKsuGhYWZblTXXHONCTji4uIwZcoU3HfffV5+NSIiInW0/XVg5VWu16fPAE55FAjxqeSNIiK+3RWqNtHR0Xj++efNzZUOHTpg7ty5DVw7ERGRBlReBqy9Adji+u8ZhrwJdPqdN2slItJgfGLwtoiISMAqPgosPgs4XDXRSBVnrQWS+3mzViIivhVYFBYWmhYFERERcZD1EzC3Yl4mpxJPqpghOzrVm7USEWk0oe5MZHf//fejTZs2iI+Px/bt283yO++8E6+++mpj1FFERMR/7PoQmBniOqjo/EfgshJgwo8KKkQkuAOLBx54AK+//rrJwMRZsS2cLfuVV1xP5CMiIhKwOGbwh9srAoqvKtKjVzPgBWCyDRj8KhCqnsgiEnjq/cv2xhtv4OWXX8aoUaPw5z//uXL5ySefjIyMjIaun4iIiO8qzQeWnQ/sr2EW4tFfAS1Pb7Bd2sptyN6ZjaLcIkQ1i0Ji+0SEhIagoZWXlmP3it3m37zvcFoHhIY3TpYqs6+Vu5F3IA/xreLRdnDbWvflrfehrLgMGbMzkLMrBwntEpA+MR1hkWGN8prc2cabvHlMSJAEFnv27EHXrl2ddpHibIwiIiIBL2878Hl/oCTL+frYdsDY5UBs2wbdbeamTGR8lIFDGYdQWliK8OhwpKSnIP38dKT2aLhuVZvnbMbqZ1bj6K6j6PCvDvj0T5+iebvmGHj9QHQ/p3uD7cd+X0e2HkFZSRnCIsKQ3DW5xn15631Y/eJqrHx8JfL256G8rByhYaFY2HohBt88GAOvGdigr8mdbbzJm8eEBFFgwcnovvrqK5Pi1d7777+PU045pSHrJiIi4lv2zQcWj3W9vt0FwGlvAWENn9iEJ9OrnlmFgkMFSGyXiIi4CJTkl2Df9/uQvSsbg64f1CAn1TyBXHDLAhRlFyG+bbxZFp0YjcyNmWY5NdSJpP2+4lrGISI2AiUFJTXuy1vvA4OKxbcvRsmxEkQ2i0R4VDhKi0qRsyfHLCdnwYU7r8mdbbzJm8eE+Ld6t1/ddddduPbaa/Hwww+bVooPP/wQ06ZNw4MPPmjWiYiIBNz4iY2PVoyfcBVU9P0XcHk5MOyDRgkq2O2HV+h5Mp3aMxVRCVHm6jnv+ZjLMz7OMOU87erCq9I8gUzqnITIhIqxlLznYy5f/exqU85Tjvsyrym84jW52pe33gd2f2JLBYOK2NRYRMZGmv3wno+5fOUTK005T1+TO9t4kzePCQnCwGLixIn49NNPsWDBAjPLNYOJTZs2mWVjxoxpnFqKiIh4W1kR8NXFwNuhwLq/Oy8z4vOKAdk9bwFCGr5/v4VjCdjth1foQxz2w8cJbRNwaNMhU84T7N/Prji8ah4aWvUUgY95Un1kyxFTzlPu7Mtb7wPHVLD7E1sqnNUtMj4SefvyTDlPX5M333N3+Hr9xLe4lZZi2LBhmD+/hoFqIiIi/qpgLzD/NCB/h/P14c2A8d8BzaqPN2wsHKDMsQTs9uNMZFwkcvfkmnKe4KBh9u9nVxxX+2GrAMt5yp19eet94EBtjqlg9ydnOKajOK/YlPP0NXnzPXeHr9dP/LzFYs2aNVi1alW15Vz27bffNlS9REREvCtzeUV3p4/bOA8qWo0CLs4FLsnxalBBzHrEk1mOJXCmOL/YrGc5TzATEQcNs3+/q/1wPct5yp19eet9YPYndn3imApnGNxwPct5+pq8+Z67w9frJ34eWEyfPh27du1ymi2K60RERPzK1pcrAor5Q52v73lrxfiJUQuAiKY5eWIqVWY94uBkG8d82OHjnN05SOmRYsp5gulNmYko/2C+GUdpj48LMguQ3C3ZlPOUO/vy1vvAlLLxreNRnFvstG5srYhPizflPH1N3nzP3eHr9RM/Dyw2btyIfv36VVvOjFBcJyIi4vPKS4FV0yoCitV/cl7m9Pcqxk/0fahRx0/UBednYCrV2JRYk4mnMLvQDJblPR9zefqkdI/nceCgYaYPjUqMQtb2LBTlVHQp4j0fc/nA6wY2yNwFjvuyf02u9uWt94HzVDClbERMhDlx5lV5do3iPR9z+eAZg6vNZ+HOa3JnG2/y5jEhQTjGIioqCgcOHEDnzp2rLN+3bx/CwzWTqIiI+LDCQ8CiUUDWetdlzl4PJPWGr2EKVaZSteZv4FgCdvtJ65dmTqYbav4GK22oNWcBMfNPaq9UcwLZkGlF7ffFAcLsq89uNTXty1vvg5VK1prHgq0UpvtT2wQTVLiax8Kd1+TONt7kzWNC/FuIzbEtsRaXX365CSJmz56NxMSKpsasrCxMmjQJLVu2xHvvvQd/k5OTY15LdnY2EhKq9pcMNJzEcO7cuTj77LMREeF8IJYEDx0PEjTHxNEfgM/7ul6ffCpw5hdAVDJ8nTdn3t6xfAfWH12PPs37aOZtzbzt1WNC/PM8ud5NDI899hiGDx9uJsizJsRbt24dWrVqhf/973/u11pERKSh/foOsPxy1+u7XQP0fxYIrf1E0Vfw5DmpY1Kj74cnjG2HtMX6uevNfWOeQPK525/e3iffBwYRvS7u5ZXX5M423uTNY0L8U70DizZt2mD9+vV466238MMPPyAmJgZXXXWVackIqKtbIiLin2zlwPd/BzIed11m0CtAl6nerJWISMBza1AEJ8a7+uqrG742IiIi7irJAZaeCxxc5rrM2JVAyiBv1kpEJGjUKbD45JNPMH78eNMiwX/X5LzzzmuouomIiNQu52fg85OBskLn6+O7AmO+AmJae7tmIiJBpU6BBQdm79+/3wzO5r9dCQkJQVlZWUPWT0RExLk9nwFLz3G9vsNkYPBr7CTvzVqJiAStOgUW9hOiOE6OIiIi4jVMZLjhAeDHu1yX6fcEkH6TN2slIiL1nSCPaQhHjRqFLVu2NF6NREREHJUeA5ZOBN4OdR1UjFxQMaGdggoREd8fvM0xFswIJSIi4hX5O4EvBgGF+52vj0oFxq0G4jt6u2YiIuKg3gmIf//73+PVV1+t72YiIiJ1d2ApMDMEmN3BeVBxwtnAJfnAhQcVVIiI+Gu62dLSUvznP//BggUL0L9/f5N61t4TTzzRkPUTEZFgsvlZYO31rtefdDfQ+25mC/FmrUREpDECiw0bNqBfv37m3z///HO1rFAiIiL1Ul4CrJwK/Po/12WGzwbaKp25iEhABRaLFy9unJqIiEhwKTwILBgO5Gx2vj40Ahj/A5DYw9s1ExGRxg4s3n33XTNBXnFxsckO9ec//9mdfYqISDA7/C3wxQDX61NOA0bMBSITvVkrERHxVmDx4osvYvr06ejWrRtiYmLw4YcfYtu2bXj00Uc9rYOIiASD7W8AK6e4Xt/9RqDf40BIvfOKiIiID6jzr/dzzz2Hu+++G5s3b8a6devw3//+Fy+88ELj1k5ERPxbeRnw7XUVGZ5cBRVD/lcx/0T/JxVUiIj4sTr/gm/fvh1Tphz/ozB58mSTIWrfvn2NVTcREfFXxVnAF4OBd8KBn59zXuasbysCik6/93btRESkKbtCFRUVVUktGxoaisjISBw7dqwx6iUiIv4oeyMwtzdgK3e+PrEXMGoREN3S2zUTERFfGrx95513IjY2tvIxB3E/+OCDSEw8PsBO81iIiAShXR8BX13gen3nK4GBL1dkehIRkYBU58Bi+PDhZnyFvdNOO810kbJoHgsRkSBiswHr7wJ+esB1mVOfB078izdrJSIivh5YLFmypHFrIiIi/qE0H1h2AbD/S9dlRi8DWg7zZq1ERMTfJsgTEfGG8tJy7F65G3kH8hDfKh5tB7dFaHjN+SbKisuQMTsDObtykNAuAekT0xEWGVbjNsV5xVh05yIc2X4EyZ2TMfL+kYiMj6y1fu7sy53X5FPyfgHm9QeKjzpfH9sWGLui4l5ERIKOAgsR8Tmb52zG6mdW48jWIygrKUNYRBiSuyZj4PUD0f2c7k63Wf3iaqx8fCXy9uehvKwcoWGhWNh6IQbfPBgDrxnodJtZl83Cpvc3wVZmO/48z65Gj4t64OJ3LnZZP3f25c5r8hn7FwCLxrhe33YSMPRtICzam7USEREfo8BCRHwKT8AX3LIARdlFiGsZh4jYCJQUlCBzY6ZZTo4n4jzRX3z7YpQcK0Fks0iER4WjtKgUOXtyzHJyPOFnULHx3Y3V9s8gg8tnYZbT4MKdfbnzmnzCpseB7//qev3J/wR63soBdt6slYiI+Cg/aoMXkUDHrkK8qs8T8KTOSYhKiDJdhXjPx1zOFgWWs++SxNYDnujHpsYiMjbStCDwno+5fOUTK005++5PbKkwQoCQsJDKGx/Tpg82mXL23NmXO6+pSZUV4dTCRxExK9J1UDFibsX8E71uU1AhIiKVFFiIiM/g+AN2FeJVfc6VY4+PefJ+ZMsRU87CcQ7sksTWA2fbcLxE3r48U87CMRVW96eQ0KonxtZjW6nNlLPnzr7ceU1NomAvMLsTIj5shjZl31RfHx4PnPNzRUBxwvimqKGIiARaV6jXXnsN8fHxuPjiql0EZs2ahYKCgiqzc4uI1AcHNXP8AbsKORMZF4mCQwWmnIWDpznOgV2SnAmPDjctDyxn4UDtunAs586+3HlNXpW5Aph/muv1rc4Ehs8GIpp5s1YiIhIMLRYPPfQQUlJSqi1v2bIl/vnPfzZUvUQkCDFTEgc1c/yBM8X5xWY9y1mYkYndkTjOwZnSwlKznuUszP5UF47l3NmXO6/JK7a+AswMcRlUlHX/K3B5WcUs2QoqRESkMQKLnTt3olOnTtWWd+jQwawTCUS2chuyfs3CgR8PmHs+rg37zO/8eic2frDR3Ne1D7272wUCpl9lpqT8g/koL6/6uvm4ILMAyd2STTkL07zGt45HcW6x023YghCfFm/KWZhS1oyn+O2ztWc9DgkPMeXsubMvd15ToykvBVb/qSKgWD3NaZHSwW9hdtzHKO/zT/YLa/w6BTF3fleC/TfCnz6nQGRSZq+o6LbJ+0A49tz5PnnzmLD52fFX765QbJlYv349OnbsWGX5Dz/8gBYtWjRk3UR8QuamTGR8lIFDGYfMFWl2d0lJT0H6+elI7ZHaoKlF/TolaQPgoGa+VmZKytqeVTFAOi7SXNXnCXhUYhQGXjewytwPnDuCaV6ZkYllOM6BnxE/K57oR8REYPCMwVXmmGAZppQ1WaFsFZmgHPW4sEe1+Szc2Zc7r6nBFR0GFo0Gjq5zXWb8D0DzPrCVlAA/zm28uojbvysU7L8R/vI5BSLr2Du66yg6/KsDPv3Tp2jerrlfH3vufJ+8eUxk+uHxV+/A4vLLL8f111+PZs2aYfjw4WbZ0qVLccMNN+Cyyy5rjDqKNBl+qVc9s8r0gU9sl4iIuAiU5Jdg3/f7kL0rG4OuH1Tty+1ualG/TUnawKzXaP3Y873nj31qr1RzAu7sPbDSu1pzS/Ak33RJaptgTvSdzS3BVLJMKes4jwVbKhhUuJrHwp19ufOaGsTRH4DP+7pe37wfMHI+EFW3rmHSdL8rpN8I//icApH9sRfftqLbZnRitF8fe+58n7x5TGT66fFX78Di/vvvx6+//opRo0YhPDy8sjn/iiuu0BgLCShsbuSVAn6pU3umIuS3tJpME8rH/PHJ+DgDKd1TKjMJOaYWtbIAcZuI+AhzxZqpRbud1a3KFWp3twtU/DHna63PLNU8oe8/tX+9ZsNm8ODOzNvu7Mud1+S2He8B31zqen3XPwGnPsfmlIbftzT47wrpN8I/PqdAVO3Yi644viITIs1jfzz23Pk+efOYsPnx8VfvvyqRkZF49913TYDB7k8xMTHo3bu3GWMhEkiyd2ab5kdeKbC+1BY+5hXqQ5sOmXJJHZPqnVq0/entK9e5u10g4495fV8rT+x7XdyrXtswiDjrybPqWTv39uXOa6ozWzmw7lZg06Ouywx6BegytXH2L432u0L6jfCPzykQBeKx585r8uYxke3Hx5/bl6tOPPFEcxMJVEW5RaZPI5sfnWE/+dw9uaacp6lFfT4lqfiuklxg6bnAwaWuy4xdAaQM9matpAF/V0i/Ef7xOQWiQDz23HlN3jwmivz4+KtTYDFjxgzTQhEXF2f+XZMnnniioeom0qSimkWZgVLs08jmR0ccfMv1LOcstairbZylFnV3OwliOVsqxk+UFThfH98ZGPM1EJPm7ZpJA/+ukH4j/ONzCkSBeOy585q8eUxE+fHxV6fA4vvvv0cJM4X89m9XHJtrRPxZYvtEk32BA6Xs+ziSzWZDzu4cpPVLM+UcU4uy/yP7ado3sVqpRTlg1zG1qLvbSRDaMxdYOsH1+g6XAYNfB8J87w+OuPe7QvqN8I/PKRBVO/bg/8eeO98nbx4TiX58/NUpsFi8eLHTf4sEMg6IYko3Zl/Y/8N+5O/PR3FBMSJjIxHXOg7N0pohfVJ6lYFT9qlFD285bLIF8UeAPwqcsTk2OdZpalH77djvk/tgdiJbqc3sM6Z5TI0pSTnQi30t2SzKKxj8saltQJe1DfG+RacWtW5TVlxWrwHLFjbpfvfqdyYHN/uD9pvaz1xtqQnnfZh53kzk7MlBQpsETP5ksukP29D7cWfwtrvvuckBX8/B22Y/O7IQvv0RxB/4l+uCpzwO9Ki5Rbk27hwTgcidz9ad3xWe1LCvtJV+mCcLsSmx1X5XmiptseOcBR1O6+A3g3Ob6nMKRI7HXlzbit/hopwi5O/O907K7AbmzvfJm8dEiB8ffyE2nvUEuZycHCQmJiI7OxsJCcdnzA1EbHmaO3cuzj77bEREOO+7J1XNusxJStKwEDMPgquUpO5sQ4vuWoQ1z60xP9hWQMIfuAHTB2DkfVUna/Mkz3XlNlsPIXRiKMpnlyOla83brH5xdWWKVQZJDJo4WRzndXCWYrXG15QQhQHXun5NT3d9GlnbsqotT+qShBu23tBg+3H3c/LW3CaZP+1CyIrJSIn92mVdMHIB0HoUPOXOMRGIvJU33ul+eqSYk4V6z2PRLbnB0xY7zlmw49Ydfj9ngTc/p0Dk9Jho37xxU2Y3Mne+T948JjJ95Pirz3lynQKLCy64oM47//DDD+FvFFiIK3OumYPvXv6uYqZLXrjgxQF+Y8orrij0u7ofznnxnGonuMsfXo6y0rKKqx2/bcOrf2HhYTjtltOcnuhW5tTOKkJ4XLg5cecJfGl+KaKSojD64dF1zqnNqxy8ouEsz7X9NgkdE1B0ehGivo5Czq85LrdhUMFJ4UqOlSCyWSTCo8JRWlRqZqDmpHBnPnim0+DC/r1gywbfD74PbPlw9V64CipqCi7c2Q+DCjNBngs9L+3pNLhw5z13lS+drTIMHKt9tvm7UDZ3IMJK9jutW3FJM+SevAgt+p6KhuDOMRGI3Plsm6JlxJ2WL0/mLGh1WysceOgA8nbnOT9eA1xjtmD5Gx57O5bvwPqj69GneZ+AaMVyuyXZS8eEzQeOv/qcJ9fpaOCT1fUmEih44rfu9XXmSx0SEWKuZPAklfd8zOXr/rvOlLPwigKvmvMElyclPOmOiP7tPi7CLF/z/BpTzmVO7S5JSDghwfzA8Z6PuZw5tVnOVZ5rXp1nMGLlueZy5rk2QZGrbX4b+MV7V9vw5JwtFQwqTHNxbKTZD+/5mMtXPrHSlLPn+F4wGOF2vHf1XvBEu6aggrie5TzZD7s/saXCCKlopbBuJhAEsOmDTaacPXfec8d86Wab8Ipt+LjKZ3twGTAzBJjd3mlQcTh/IJb+/Bk+nvMKNn5+rMp+3OXOMRGI3PlsPcWTA3bZa9W7lbmv68mClba454U9zX1Dd3+yP145V4H9nAXOfosCnbufUyDisdZ2SMW4A977e1Dh7vfJm8dEiJ8df3UaY/Haa6+ZezZu7Nq1C6mpqWb+CpFA9s1j36CssMyE387yXJeFlqHsWJkpN+KuEWY5+/ezK465au5kGwYl/MPMcgOnD/R6Tm3HbWym+aXmbTimgt2f2FLhrG4cj5C3L8+Us5/XwZ33gmMq6oLlpq2c5vZ+OKbC6v7k+CPNx1zH8S0sZz/HRWPNbdI2eTZC37vC5ev99fAV+PXwlb81mQEJbUMbLV96XY6JQOTPeeMbUiDOWSAiPjqPBQOLrl274qeffkK3bt0ar1YiPuDo9qPm3tXVAXMCWm6rLEccNMzviasrHqERoaYfJ8s1RU5td7bhQG12yWILgDPs88kr+yxnz533ggO168K+nDv74UDtunAs15Bzm4SElGLoGa+h64nLXe5//a57ceTY8DrtJxjzpTckvQ+BO2eBiPhoYMGrFQwoDh8+rMBCAl7zzs3Nven64CTxkdUlwipHppmSGaBKKwY3OyovKTfrHa94eiuntjvbMPsTXwvHVLD7kyOejHE9y9lz571g9if2464Ny3myH2Z/qgvHcg0xt0l0dA7OOvdhJDXf63ynIeHIOflrLPzXXtOvP8pJd1blS294eh8Cd84CEfGeeneO+9e//oW//e1v2LBhQ+PUSMRHDP3rUIRFh5mB2sxrbc88LgfCYsJMOQvTm/KPMccbONuGVwI5+JHlnOXU5tgBZ9sx/R0zVTjLqc2BpY45GKw818weYZ/n2p1tmFKW2Z84UNtZ3dhaEZ8Wb8rZc+e9YErZurAv585+mFLWjKewCxAr34ffHjPdL8vZc+f9sz7buIgMXHn1VbjsihucBhW2FkOAi44Cl5egWfrAeu/HXe68pkCk98H93yIREbcDiyuuuAKrV6/GySefbMZZJCcnV7mJBAp2Beh7Zd+KLk8lNnOCyi5BvOdjLu87pW+VLgO8osn0phzkzSufvJpvMjsVlprHXM7UsY5zK1g5tXkCzJzahdmF5go87/m4ppzavKrNPNf22/CxszzX1bbJKTTLee9qG45dYEpZDkDnSQWvWPI1Wfm+uXzwjMHV5rNw571gv24OVq8J19vPZ+HOfjguhCllDRsqxlT8drOGGPS4sEe1+Szcec9Dd72FP1x5BX5/w1NOX88Pq0dgc7OfEDJuORCZ5PZ+3OXOMRGIvPme+zLH3yKOXyLeu/otEhFxex6L//73vzWunzJlCvyN0s1KbSlnmR3KDOT+DVsqGFQ4ppr1ZD4Kb+bUdjpnQbeat3E6j0VavAkq6j2PRS3vRYPNY1HLfpzOYxEeYoKKes9jYf+e28qBtTcBPz/j8jm+eP93OJg/zvfypdfjmAhEvpI3vqkF4pwF0jB0HhF8chp6HotAp8BCasP+xsz+xIHaHFPB7k+uBjd6Mgu0N3Nqc5vDvxzGNxu+wdCThmrm7YaYebs0G1g8Hji80uV2+1rPwdGjnXw2X3p9j4lA5At5431BIM5ZIJ7TeUTwyfFWYFFYWIji4qp53v3xxFyBhQQrHQ8NJHsTMLc3+1Q5X5/QAxi9BIhuCV+nY0Ls6XgQRzomgk9OPc6T65UVivLz83HLLbfgvffeM9mhHJWVufjDKiISaHbPBpZNcr2+0xRg0P8x5603ayUiItIk6t2m+fe//x2LFi3Ciy++iKioKLzyyiu49957ccIJJ+CNN95onFqKiPgKNvKuv6tihmxXQUX/Z4HJNmDI6woqREQkaNS7xeLTTz81AcSIESNw1VVXYdiwYWbSvA4dOuCtt97C7373u8apqYhIUyotAL66ENg3z3WZUUuAVmd4s1YiIiL+G1gcOXIEnTt3Nv9mPys+ptNPPx3XXHNNw9dQRIKSOwPF3R3EXuM2eb8AXwwAiqp3/TRiTgDGrgTi2rn1OkVERII2sGBQ8csvv6B9+/ZIT083Yy0GDhxoWjKSkmrOP+9o2bJlePTRR7F27Vrs27cPH330ESZNOt614Morr6yW3nbcuHGYN+/4FUMGNtddd53ZP2cGv/DCC/H0008jPl6zgor4K2epbRe2Xmjm03CV2tZpmtD0FDM3Qa1pd51t03w9sGi060q2nQScNhMIj2moly0iIhJcgQW7P/3www8444wzcOutt+Lcc8/Fc889Z7IEPPHEE/UeCM6J9v74xz/iggsucFrmrLPOwmuvvVb5mOM67LHrFYOS+fPnmzqwfldffTVmzpxZ35cmIj4SVCy+fTFKjpUgslkkwqPCUVpUatLOcjk5BhcMEFY9swoFhwqQ2C4REXERZnK8fd/vMzMpD7p+ULXgwtU2zXL/D6nf/891Bfs8APT6BxASfOlHRUREGjSwuOmmmyr/PXr0aGRkZJgWB46z6NOnT72ea/z48eZWEwYSrVu3drpu06ZNpvVizZo1OPXUU82yZ5991qRAe+yxx8yAchHxr+5PbKlgUBGbGmtaISkyNtK0JnCm75VPrET/qf0ru0WxKxNbHRggpPZMNRPjUVRClHnMWZMzPs5ASveUyi5OjtuEhpQivfWDaJWwyHXlzpgDtJngjbdBREQkOAILRxy0zVtjWbJkCVq2bInmzZtj5MiReOCBB9CiRQuzbsWKFab7lRVUWMEOT0ZWrVqF888/3+lzFhUVmZt9fl5iiwdvgcx6fYH+OsU/jweOqSjILkB0arSZ3dxeGMIQnRKNgqwCbJy90cyETBwfwdmiEzomsBBsqDo1T7MOzXBoyyEz8RvHT9hvk9q1FIM7/w4xEfuc1scWGovSsauBZidWLPCR9ymYjglpWjoexJGOieBTUo/Pus4T5B07dgwLFy7EOeecYx7fdtttVU7Ow8LCcP/99yM6OtqdOpurjI5jLN555x3ExsaiU6dO2LZtG/7xj3+YsRMMKLi/f/7zn2YMxubNm6s8FwMRpsB1NZj8nnvuMesdsfsU9yciga152WYML7zF5frM0JOwOvp2lIZo/ISIiAS3goICTJ48uWEnyOMJ/GeffVYZWHBcRa9evRATU/GHl12i2PXIvquUpy677LLKf/fu3dt0terSpYtpxRg1apTbz8ugaMaMGVVaLNq1a4exY8cGxczbHI8yZswYzZgpPnc8sMvSZ3/5DOEx4YiIqV6fkoISM8h6wgsTqrRYfPXgV4hpEWOyOjkqzClE4ZFCDLt9GJLKPkT4t39yuf+dRy/FtsPTUJhTjGKzzdDKVo5g4WvHhDQtHQ/iSMdE8Mn5rWdPXdQ5sOAcFZwcz/EKv5V69s0338Tzzz/foIGFI+4rJSUFW7duNYEFx14cPHiwSpnS0lKTKcrVuAxr3IbjIHDiFyRYviTB9FrFf46HnhN7YvFti81A7dDU0MoxFlReXo7CQ4VIaJtgyoVFVHSVatGpBVK6ppiB2vZjLIgNsnk7snH66LeRssp5ggj6ae+dyMwbaW2E3B25SOuXZp67tnS1gcpXjgnxDToexJGOieARUY/Puc4zb/Nknq0GFnZ5sv+jz5SzGzduRGPavXs3Dh8+jLS0NPN4yJAhyMrKMoPHLZwVnCcggwYNatS6iEjD44BsppRlawUHahfnF5t0s7znYy4fPGNwlfkseOLP9LCxKbFmoHZhdiHKS8tRlpeJk1tOxcXnX460Zp843d/S757Bex+9i117TjPbcFs+B5+LLSLBGlSIiIi4o84tFjyBtx9TkZmZWWU9T+bt19dFXl6eCVgsnB9j3bp1SE5ONjeOg+C8FGx94BgLtpgw+xTnsqAePXqYdLTTpk3DSy+9ZJrnrr32WtOFShmhRPyTlUrWmseiOK/YzGPBlgoGFc7msWAqWaaUZaan4t1rMXJADS2nzfsCIxcAUS3Q85RMhP42j0XunlyTeYotFQwqXM19ISIiIh4GFm3btsWGDRvQvXt3p+vXr19vytTHt99+izPPPLPysTXuYcqUKXjxxRfNc3JsB4MaBgocA8EB4vbdmNhFi8EEu0ZZE+Q988wz9aqHiPgWBg9MKVufmbdT45YgteMlQEcXBbpeDZz6PBB6/GePwQPT0NZ3tm4RERHxILDg3BB33XUXJkyYUC3zEzNGsXWB6+pjxIgRpg+0K1988UWtz8GWDU2GJxJ4GET0urhXzYX4+7HuVmDTI67LDHwZ6DrN5WoGEUkdkzyoqYiIiNQrsGCq1/fee8+0WLCF4MQTK/K6M9UrM0Rx0DTLiIg0upJcYNlE4EDFTNxOjfkGSD3Nm7USEREJanUOLFq1aoXly5ebuSFuvfXWypYGZmBhyrEXXnjBlBERaTS5W4HPTwFK85yvj+tYEVDEaoyViIiIT8+8zYnq5s2bZ9K5WoOuOZia3ZFERBrN3nnAkvGu17e/BBjyBhBWPY20iIiI+GBgYWEgwfSyIsGCmYkW3bkIR7YfQXLnZIy8fyQi4yNr3IYTuX336nfI+jXL9OHvN7WfyTokdcRW0Y3/An6ooYvlKY8BPW72Zq1ERETEBZ3liNRi1mWzsOn9TbCVHU80sPrZ1ehxUQ9c/M7FTrdZdNcirHluDYpyiky3QXYZXHznYgy4dgBG3vfbRGziXFkh8M3lwO6PXZc580sgbYw3ayUiIiK1UGAhUktQsfHd6hM/Msjg8lmYVS24YFCx/OHlKCstM5mNQsNDKydf43JScOFEwW7gi8HAsT3O10c2B876Fojv7O2aiYiISEPOvC0SjN2f2FJhhAAhYSGVNz6mTR9sMuXsuz+xpYJBRURcBMKjws3kbrznYy5f8/waU05+c/BrYGYI8HE750FF2jjgkjzgoiMKKkRERHyYAgsRFzimwur+5DhhmvXYVmoz5SwcU8HuT6alIrTq14uPwyLCUJRdZMoFvZ9fqAgoFgxzvr7XHcDl5cCZ84DwOG/XTkREROpJXaFEXOBA7fqW40Btjqlg9ydnQiNCUVZSZsoFpfISYPXVwPbXXZcZ9iHQ7nxv1kpEREQagAILEReY/am+5Zj9iQO1OaaCXaAclZeUm/VBN9Nz3q/AJ51crw8JBcavB5JqmWlbREREfJa6Qom4wJSyZjwFuzyVH88IZf84JDzElLMwpWxUQhTKistQXl5eZRs+ZmtFVGKUKRcU9nxW0d3JVVDRYhBw0VHg8jIFFSIiIn5OgYWIC5yngillDVtFJijrxsfU48IeVeaz4DwVTCkbFh6GkvwSM0i7vKzc3PMxlw+YPiDw57P4/paKgGLpOc7Xn3gtcFkpMG4lEBlkrTciIiIBKsDPbkQ8w1SyTCnrOI8FWyoYVDibx8JKJWvNY8FWCnZ/ik6KNkFFwKaaLS8D5p4E5GS4LtP9JqD/E96slYiIiHiJAguRWjB4qO/M2wwehv9jeHDMvF14EPiwVc1lhn8MtJ3orRqJiIhIEwjAsxyRhscg4qwnz6rXNgwiBk4fiICef8JVqljLeds094SIiEiQUGAhIvWz8VFg3d9drw+PBy7MBMKivVkrERERaWIKLESkdjYbsPBM4OBS12U6/h447X/erJWIiIj4EAUWIuJacTbwfi1Zmwa/DnSe4q0aiYiIiI9SYCEi1R39Afi8b81lzuaEdr29VSMRERHxcQosROS4ba8Cq/5fzWUuzgEimnmrRiIiIuInFFiICMJWTAZ2v++6QOuxwJnzgJCKmchFREREHCmwEAlWpccQ/kESJpYXA/kuypzyONBjhpcrJiIiIv5IgYVIsMndCnzazfzTZfvDmG+A1NO8WSsRERHxcwosRILFrg+Bry6sucwFB4HoVG/VSERERAKIAguRQPft9cDPz7pcnR3aEbEXbEJEpCa0ExEREfcpsBAJROUlwCddgIJdrsv0uh0lPe/GkrlzcXZImDdrJyIiIgFIgYVIICnYC3zcpuYyI+YBJ4yr+HdJiVeqJSIiIoFPgYVIINi/CFg0quYyE3cAce29VSMREREJMgosRPzZj/cDP97len10S2DiLiAs0pu1EhERkSCkwELE39jKgS8GA0fWuC7TZRow6GVv1kpERESCnAILEX9RdAT4oEXNZYa+A3S41Fs1EhEREamkwELE1x1eA3wxsOYyEzYBieneqpGIiIhINQosRHzVzy8A306vucwleUB4nLdqJCIiIuKSAgsRX2KzAUvPA/bOcV2m7URg2EdASIg3ayYiIiJSIwUWEnTKisuQMTsDObtykNAuAekT0xEWGda025TmA+/F11zxAS8A3a6p9fVJ/djKbcjemY2i3CJENYtCYvtEhIQqaBMREakvBRYSVFa/uBorH1+JvP15KC8rR2hYKBa2XojBNw/GwGsGen+b7E3AZz1rrvRZ3wLJ/T163eJc5qZMZHyUgUMZh1BaWIrw6HCkpKcg/fx0pPZIberqiYiI+BUFFhI0eLK/+PbFKDlWgshmkQiPCkdpUSly9uSY5eQYKDTaNuO3Acsn11zhi44Akc0b9k2QKkHFqmdWoeBQARLbJSIiLgIl+SXY9/0+ZO/KxqDrBym4EBERqYfQ+hQW8VfslsQWBJ7sx6bGIjI20rQi8J6PuXzlEytNucbcZuwlszAwcZDroCJlCHB5GTDZpqCikbs/saWCQUVqz1REJUSZz4n3fMzlGR9nmHIiIiJSN2qxkKDAsQ7slsQWhNDQqvE0H0fGRyJvX54p1+viXg26TWhYKabddjdiYgtcV7DP/cBJdzT8CxenOKaC3Z/YUhHiMAiejxPaJuDQpkOmXFLHpCarp4iIiD9RYCFBgQOoOdaB3ZKcYd/64rxiU66htmmWeBRTb7mv5oqNWgS0OtPdlyVu4kBtjqlg9ydnIuMikbsn15QTERGRulFgIUGBWZnY1YVjHdgtyRFPMrme5TzdpuvJW3DZ9W/UWJ/N4YvR/ZIRHr8ucQ+zPzEw5JgKdn9yVJxfbNaznIiIiNSNxlhIUGCq1/jW8SjOLUZ5eXmVdXzMlof4tHhTzu1t1t2GXiUnuQwqsg4n48Fp9+CZu59G10nDGuNlSh0xpSyzP3GQto1zh9jh45zdOUjpkWLKiYiISN2oxUKCAuePYKpXZmUqyCww4yN4RZqtDgwQImIiMHjG4CrzTNRtmwEIm98HyN7oct/ffT0MC2ad43I/4n2cp4IpZRlYZG7MNGMq2P2JLRUMKmJTYpE+KV3zWYiIiNSDAgsJGlZaWGt+CZ7om65MbRPMyb6zOSlcbdPqxFBMu+XWikLZzvc3Z+ZUrF/S+bd5LEpr3I94H1PJMqWsNY8Fx1QwcEzrl2aCCqWaFRERqR8FFhJUeFLff2r/es2ibb+Nbf/XOKnFn2veyblbgWZdMP6iMnSq52zd4l0MHlK6p2jmbRERkQagwEKCDk/urfSwdd5m21PoVfJXoIWrArHARYeBsGiP9iPexyBCKWVFREQ8p8BCxBUO6l00GjiwyHWZDpcDQ2d6s1YiIiIiPkmBhYijkhxgVi3ZgAa/BnS+0ls1EhEREfF5CixELEfXA5+fXHOZ8T8Azft4q0YiIiIifkOBhci214BVf6y5zMXZQMTxifBEREREpCoFFhK8vpkM7Hjb9fpWo4CR84EQZQgSERERqY0CCwkuZYXA+80r7l055TGgx83erJWIiIiI31NgIcEhdxvwadeay4z5Gkgd6q0aiYiIiAQUBRYS2HZ9DHx1fs1lLjgARLf0Vo1EREREApICCwlMa28ENj/ten1ir4oMT6GaCVtERESkISiwkMBRXlrR3Sl/h+syPW8F+j7kzVqJiIiIBAUFFuL/ju0DPjqh5jIj5gInjPdWjURERESCjgIL8V8HFgMLR9ZcZuIOIK69t2okIiIiErQUWIj/2fAgsP4O1+ujWgCT9gJhkd6slYiIiEhQU2Ah/sFWDnx5GnB4lesyXaYCg17xZq1ERERE5DcKLMS3FR8F3k+uucxpM4GOl3urRiIiIiLihAIL8U2HvwW+GFBzmQkbgcQe3qqRiIiIiNRAgYX4li0vAmv+UnOZi3OBiHhv1UhERERE6kCBhTQ9mw1YNgnY84nrMm3OBYbPBkJCvFkzEREREakjBRbSdErzgfdqaXk49TngxOneqpGIiIiIuCkUTWjZsmU499xzccIJJyAkJAQff/xxlfU2mw133XUX0tLSEBMTg9GjR2PLli1Vyhw5cgS/+93vkJCQgKSkJEydOhV5eXlefiVSL9kZwMyQmoOKcauByTYFFSIiIiJ+okkDi/z8fJx88sl4/vnnna5/5JFH8Mwzz+Cll17CqlWrEBcXh3HjxqGwsLCyDIOKn376CfPnz8ecOXNMsHL11Vd78VVInf36TkVA8VkNA64vPFwRULSoZeC2iIiIiPiUJu0KNX78eHNzhq0VTz31FO644w5MnDjRLHvjjTfQqlUr07Jx2WWXYdOmTZg3bx7WrFmDU0891ZR59tlncfbZZ+Oxxx4zLSHiA1ZdDWz7P9frWwwExq4AQpo0zhURERERD/jsmdwvv/yC/fv3m+5PlsTERAwaNAgrVqwwj3nP7k9WUEEsHxoaalo4pAmVFQMftKxooXAVVPS+t6J1YtwqBRUiIiIifs5nB28zqCC2UNjjY2sd71u2bFllfXh4OJKTkyvLOFNUVGRulpycHHNfUlJiboHMen2N9joLdiHisy41FikdPg+2ViOtCjVOPcQ3jgfxOzomxJ6OB3GkYyL4lNTjs/bZwKIxPfTQQ7j33nurLf/yyy8RGxuLYMAxKQ2pZel3GFJ0X41lvoj5DwpDk4G1HCMzt0H3L751PIj/0zEh9nQ8iCMdE8GjoKDA/wOL1q1bm/sDBw6YrFAWPu7bt29lmYMHD1bZrrS01GSKsrZ35rbbbsOMGTOqtFi0a9cOY8eONdmlAj3q5I/BmDFjEBER4fHzhW64C2Gb/uVyvS22A0rHbwJCw/FbG4UE8PEg/k/HhNjT8SCOdEwEn5zfevb4dWDRqVMnExwsXLiwMpDgC+PYiWuuucY8HjJkCLKysrB27Vr079/fLFu0aBHKy8vNWAxXoqKizM0RvyCB/CUpLSzF+tfXA21g7k/946kIj675ECgrLkPG7Azk7MpBQrsEpE9MRxg3+bwvkL3B5Xbbd07A0i8uRHKnZJw1MhRRCTW/r8V5xVh05yIc2X4EyZ2TMfL+kYiMj6z1NeUfzMfM82YiZ08OEtokYPInkxHXMq7GbcpLy7F75W7kHchDfKt4tB3cFqHhwT3GI9CPfak/HRNiT8eDONIxETwi6vE5N2lgwfkmtm7dWmXA9rp168wYifbt2+PGG2/EAw88gG7duplA48477zSZniZNmmTK9+jRA2eddRamTZtmUtIyir722mtNxihlhKpq0V2LsOa5NeY96v1mbyy4ZQGW3rEUA64dgJH3OW9LWP3iaqx8fCXy9uehvKwc8YnH0KvknzXuZ+nS67Hk/5IBGx/txM4lO7Hu9XXoclYX/H7u751uM+uyWdj0/ibYymzH9/3savS4qAcufudil/t6uuvTyNqWVfk4b3ceHmv1GJK6JOGGrTc43WbznM1Y/cxqHNl6BGUlZQiLCENy12QMvH4gup/TvcbXJiIiIiI+Glh8++23OPPMMysfW92TpkyZgtdffx1///vfzVwXnJeCLROnn366SS8bHR1duc1bb71lgolRo0aZbFAXXnihmftCqgYVyx9ejrLSMkQkVkSdoRGhKMwuNMvJMbhgULH49sUoOVaCjr334fc3vlDzTs7dgjcvXYltn2+rvs4Gs/zNs9+sFlwwqNj47sbqm5TZzPJZmOU0uHAMKuxxOdc7BhcMKhhQFWUXmVaNiNgIlBSUIHNjpllOCi5ERERE/DCwGDFihJmvwhXOxn3fffeZmyts3Zg5c2Yj1TAwuj+xpcIEFXERCI+s+MjNfRxQkl+CNc+vwfB/DK/sFsXuT2ypOOX0pRh72ecun9sWGoWQi44C4TEoyinCtnlvHV8ZYl+w4m7bvG2mXFRCVGX3J7ZUWOVDQo9vZCu3me02fbDJlLPvFsXuT66CCgvXs5zVLYrdn9hSwaAiqXOSCUKJdYmIj0DW9izTStLtrG5B3y1KRERExB06gwpw3736nTmZD4sMqzyZtvAxuwLxZJvlDJsNxz44Hdffd4PLoGLTd33wz6sfxMawtSaooHk3zqsMIKoEFfaPbb+V+w3HVFjdn+yDCvvHtlKbKWePYyrqwr4cx1Sw+xMDDWfvQ2xqLI5sOWLKiYiIiEj9+ezgbWkYWb9mmVYhV1fh2SWKYw1yd+6tmMwOQLyL5/ryg8uwce0gM96ivKzADOi2HPnlSJ3qY1+OA7XrtI1DOQ7Urgv7chyozdfJ7k/ORMZFouBQgSknIiIiIvWnwCLAJXVMMl3K2BUoNKx6cNGi5V786f7na3yON5/5Kw7tb1OlexWfi1miLMz+xIHatWG5yn93Pv7vGrdxKMfsTxyoXRuWszD7E1tnOKbC6oplrzi/2KxnORERERGpP3WFCnD9pvYzJ9IcN8E0vJZep67FrS/cVmNQ8ei1t+OJWx+vElTwOTjmIT4t3qSetZz11FlVujxVYddFypT7DVPKhoSFHB9TYb/Jb49DwkNMOXtMKVsX9uWYUpbZnzjuwv59sF5TQWYBkrslm3IiIiIiUn8KLJoYT/h/mvUTVjyxwtzzcW3reNLNLk4HfjxQ0dXJ4aTcHgdkM6VsWHgYSvJKMP6StzAxfxImTH7PafmShNNhu7QMq7NXoRzNzAl3YVYhCnMKzT0fR8REYPCMwWbchoXBC1PKVrLZ3X7D9fatBRyQzZSyVnmOt7Bu1nY9LuxRbT4LjpNgStmacL39fBbsCsaUslGJUWagNjNisRWH93zM5QOvG6iB2yIiIiJuUleoJuQ4TwS7Fy1svRCDbx5s1jtbd9LkkxARHYFDGYdMlyQGDinpKUg/Px2pPVKd7mfk3afh9E7jERlV7LIuGzKuwKaMcyqeb/035vkOXnrQzEHBwd2WsJgw9Lq0FwZeM7DaczCV7H+G/we7vtpVbV27Ye2czmPBVLJv5rxpMkZVaekIqQhEXM1jwVSyrlLOuprHwkola81jwTEV7P6U2ivVBBVKNSsiIiLiPgUWTcR+nojIZpEIjwpHaVGpGXA8/+b5pgwHXVdZtzvHzDuR0jMFnc7sZNLHMl3svu/3IXtXNgZdP6hqcJG3HfikohUhsvqwAuO1+67CwUPd0feKvmjR/fjz7fhqBw5vOYyopCizf9PNyQZTjx3Ldpg5IRxPxDM3ZaJlr5aISIpA9tZs81ysY2LXRDRv09ysdwx+uCypQxK6nNsFuTtzUZpfivC4cDRr3wxJJyQ53cbC4KG+M2+zzkwpq5m3RURERBqWAosmYM0TwaCCaU6t9KeRsZEIjQxF/p588zi+bTzCwiq6G7H7EU/q2Z0pa0eWOflmKwa7FqX2TDWTvGV8nIGU7ikI2fspsGxijXV4YsbfkXsg9rdHhWa/1vOxBeS7l79DSWEJWvZpWVkHazyCszkf2B0r46MM0wrQ9pS2aNevXeU2DJCq1M9KJWu3TZu+bRBySkit2zhiEDFt5bR6vf+sc/vT29drGxERERGpmS7TNoGM2RmmixNbIxznVCgvOj6wuKzw+HgLM/ag1GbGNTC4OJxxuHIdsz4ltE1Amu1RhLwT6jKoyNyTggem3YPZcR8jP6dq9qOfP/m58t+5e3JNUMFAw1Ziq9OcD9k7s033rMR2iaY+9qz6Hdp0yJTzZBsRERER8U1qsWgCnP+B4yZMFyMHHFDs7N/WTNS82l5aUmomvaMQlGFgxysQE7nX5f6++XQoFrwzxvw7NMZ5LHks61jlv5n1ifsLiahIU1uXOR+KcovMmA92fXKG2zBgYTlPthERERER36TAoglw/ge2BrBrE7s/2bPv62//b9MVKKQi2OC/E1OPYcSJZ9a8ozPm4L0b87Hp/U211ikmqWIGbWIWJu6DwYWzsQfO5nyIahZlBn5zXIWreSK4nuU82UZEREREfJO6QjUBzv8Q3zoexbnF1eZUCI06/pGERR8f28D5HjinQ3LqPtz5+l047+w/ud7BxF+ByTagzQSc93/n1alOJ553YuW/m7VpZjJPsVWFrRZ1mfMhsX2iGZvBQeQcH2GPjznwPKVHiinnyTYiIiIi4pvUYtEEOE6CKWWZFYon6Wwh4JV5dgtiN6TwmIqP5dihY5XrOp24DudP/Z/L5ywuaYbsUzcipUcbMyahaPsBc6WfJ+VM9eosBawlukU0yorKzFwXbCXgCX3r/q1x+OfDZqC2mVyPM3eHh5q6RydFV5vzgS0cTFHLICFzQ6YJhKw0uRwfEtsyFumT0qsMwq6yzU+ZZi4JbsfyTHHLsRyO24iIiIiIb1Jg0USseSCsuSoYUPAknAOWOflcxboV6D/oYwydsMTl83y/tC8+eXmSCQQu+F8Uvv7X19XmuDj33+fiwz98iP1r91fbnqlr+/yuj9mG4xm4TVq/NHNC/+mfPnUakDTv0tzpnA9MC8ssUo7zb3CWbr4mZ2ljuazbhG5mbol93+1DWUmZ6WbFFpGTrzzZZapZEREREfEtCiyaOLjoP7W/yRLFAd0ce8FuUmGhhcCyCzDwvi9dbsv5J3Zu7lD5mEHD62e+jg7DOpgsS/ZzXBxYfwDJXZMRkxZjWiAosVMikjonIbltMrpP7I7ek3ubQdJWK8f7k9932crB5bMum1Vt8jrObbHmuTUmjW5ih0TTusHWDs7YzeWsl7O5L7Z8tgWRCZHoeGZH0wpizYjN5cldkhVciIiIiPgBBRZNjCffvS7udXxCu9kpQEn12aQp+3ACXr1nKnKPOB9zUHCgAImdExEVUzHY2cxJ0SMFGR9mmIHf7HbUbkA75CAHvS/tDZTBzBWx+ZPNOP2W0yu7HLH1pHLAN8eM23VFsrJTbfpgkynHrlrEYICtDuzCxBYN+zS6MS1iap37ghPr2aecZctNXeaxEBERERHfoMHbviBzOTAzpGKWbGdBRbsL8P7s/+Gp62e4DCosWz/dWuVxcU6x6ZLEcQv8d13milh05yJT3pRxOKGvnNyu1GbKWTinxZGtR8yEdY5zczTk3BciIiIi4psUWDS1wkxg/lDn605+CLi8HBj2AQ5vr5iNuzbHjh6fj4KY0tbZv+3niuB4DPu5Io5sP1KnfdmX45wWHB8REet6Tgqur+/cF451ExERERHfpMCiqZUVsBmg6rIRcyvSxfa6lZfuzaLmHZvX6elimh+fj4LsJ+FzNiGfs7kikjsn12lf9uU4pwUHXZcUlDgtW9vcF6620TwWIiIiIv5BgUVTi+sAjFwI9LoDOHdLRUBxwvhqxeo6H0XXc7tWecxB0czMxDSuEc0izKBo4j3npHA2V8TI+0ea8sQuUY434pwaLGfhnBYcIJ5/MB8FBQXY+91e7Fq5y9zzcW1zX3A28d2rd2Pbl9vMPR9rHgsRERER/6HB276g1YiKWw04d0Rt81HEtopF9vZsMzaB3YisOSlantQShTmF2PzRZtjCbWg7vC22L9yOkNIQpJ6UWm2uCA7I7nFRD2x8d6PLffW4sEflwG3igOyB1w/Euxe8a9LWWsqLypG5JtNMtDfhpQlO577Y+MFGbJ69GeUlxycL/GXBLyZ17Zn3namB2yIiIiJ+QC0WfoTzUTB4cIbLz3vlPKSdkoZjh4+Zye14zzkpev++N6ITop1uF8K0T07s/XZvjXVxtn7BLQtgK6k6g7aFy7ne0Y9v/4iDPx40WaXM0fjbjY8Prj9o1ouIiIiI71OLhZ+wUrOaeSo6J5rsTxyozTEV7P7ElgqeoA/9+1DTSmHNScHWi28e+cZkhkq/IB1F+UUoRjE6j+qMqLgok3XJMaUruzNlbXOe8tbC9SzHLFDElLGHNh6qcRuuZ7nYlIrgiAOzOb8F6xYeF47QkFDYbDaTEarcVo7SglKseX4Nhv9juBlrISIiIiK+Sy0WfsI+NSvnqeh1SS+c+qdTzT0fW6lZGVQkdUxCq96tzD0fW9sx7Wt0YkXLBe/52FlK15nnzaxTnezLvXvRu3Xaxr7cd69+h6KcIjOXR1hYmAlszHiQ0BDzmIO9OS8Gy4mIiIiIb1Ng4SfcTc3qznY5e3LqVCf7chyAXRf25bJ+zTItFPbjLuyFRlS0YLCciIiIiPg2BRZ+wt3UrO5sl9AmoU51si/HFpG6sC/HFhXT7YnjK5zgYG6uZzkRERER8W0KLPyEfWpWXsW3x8euUrO6s93kTybXqU725S59/9I6bWNfrt/UfohKiEJZcZlJfWuPjzmhXlRilCknIiIiIr5NgYWfsFKzcuBz5sbMinkoSsvNPR9zuWPa2Grb/ZRZ2X2J93zsbDsOyE7qUnMrAddbA7eJz5PSM6XGbbjeGrhNbCkZcO0AhIWHmRYVdsniQG7e8zGXD5g+QAO3RURERPyAAgs/ktojFYOuH+Q0pSyXc72r7bpN6GYGSu9YtsMs4z3HVXC5s+1u2HqDy+CCy7ne0fSfprsMLric6x2NvG8kTrvlNDOYnIESZ+7mPeft4HKuFxERERHfp0vBfoZBAFPDMouTlVKW3ZhqmkQuc1Mmtny2xczC3WF4B7OM94WHC83y5C7JLoMLppRl9ie2cHBMBbs/2bdUOGLwwJSyzP7E7lccU8HuT/YtFY4YPDClLLM/caA2x1Sw+5NaKkRERET8h87c/BCDiLoOaLbmv+DJfsteLYEwIAcVQUJC6wTTjcpxHgt7DCKmrZxWr/oxiLhqyVX12oZBxMDpA+u1jYiIiIj4DnWFCqL5L5hhyR4fO5vHQkRERESkvhRYBDh3578QEREREakPBRYBzt35L0RERERE6kOBRYBzd/4LEREREZH60ODtJsbB1fXJ8ERMx7p75W7kHchDfKt4tB3cFqHhzmNEax4LBhaZGzIREhWCyJMjzbgLW5ENsS2dz3/hzr4snPAuY3YGcnblIKFdAtInpiMsMqwe74qIiIiI+BsFFk2IaWCZsYkn+RznwC5JbF1gIOBqTorNczZj9TOrcWTrETMzdVhEGJK7JmPg9QPR/ZzuTrfhc7Xs0xIrH1+JguwC9Li0B7bN34bYpFgMnjG4Qfe1+sXVZj95+/PMZHehYaFY2HohBt88GAOvUdYnERERkUClwKIJg4pVz6wyaWCZsYmDqzkOYt/3+0zrgrMJ73iiv+CWBSjKLjJpYCNiI8yEckwZy+Xk7ISf2615bg1KjpWYFgTi/bEDx8xy7t9xO3f2xaBi8e2LzX4im0UiPCocpUWlZg4MLicFFyIiIiKBSWMsmoD93BKpPVMRlRBlruzzno+5nHNLsJx9lyS2HvBEP6lzUsU24RXb8DGXr352tSlnz3675l2aV05Ux3s+dradO/ti9ye2VDCoiE2NRWRspHlNvOdjLl/5xEpTTkREREQCjwILP5lbguMc2CWJrQehoVU/Nj7myfuRLUdMOXvubOfONhxTwe5PbKlwtk1kfCTy9uWZciIiIiISeBRY+MncEhw8zXEO7JLkahuuZzl77mznzjYcqM0xFez+5AzHj3A9y4mIiIhI4FFg4SdzSzAjEwdPc5yDq224nuXsubOdO9twzAa7PnFMhTMMlLjeGuMhIiIiIoFFg7ebcG4JDtTmmAr77lDW3BJp/dKqzC3BNK/MyMTB0xHxEVW6G5WXl6MgswCpvVJNOXvVtkPt27mzL6aUZfYnDtRmUITyirEkJo1tKFCcV2y6eHU/tzuyfs2qll6X6xfduQhHth9BcudkjLx/pOk+VVtKXndS2zZ2il9PtrGCsO9e/c68T0kdk9Bvar+K91RERETEh+lspQlUmVtiY6Y54Wb3IrYEMKjgwGrHuSV4Qso0r8zIlLU9q2KA9G/b8EQ/KjEKA68bWO3E1XG7uLZxZnlRThHyd+c73c6dffFknillF966EHl78xASFgKw+jbAVmYz3b5OuvwkrHhiRbX0uju+3oHtX2435SwcHN7joh4YcfcIlyl5f1nyS71T23orxa8729CiuxaZTF38fBhkMuhcfOdiDLh2AEbeN9LldiIiIiJNTYFFE+FJLFPKWie5uXtyzUkuWyoYVDg7ybVOSK0TVmaP4gkrWw94ou/qhNV+u6O7jpp/M7NTTdu5s69OIzqh1cmtsP+7/RVdohgnhFSMr2jRrQUO/3zYBA/26XVXv7AaeXuqjgshltv47kbs/XYv0k5Jq5aSd+u8rdj/w37TYlHX1LbeSvHrblpgBhXLH16OstIyE6gxcGOrR2F2oVlOCi5ERETEVymwaEI8iU3pnlKvbjk8Ie12Vrd6d7GxttuxfAfWH12Pc/99Ljqc1qHG7eqzLyuFLssMvHEgjmw+Yq66M0Vt8xObY8vsLcj8KdO0DFhdq0KjQ03rRqXQiqxY1vMxMMnaloX0i9MRFVUx3oTPl9w9GVs/32oCifi0+MrnY2pbBjFsVWFq2/5T+1d2i3JM8Wvtx0rxy5N+pvjl52G9/45pd639cBt2EWNrDltW+B5Z74k72xBbT9hSwaCCAU/lexQWitCIUBMArXl+DYb/Y7i6RYmIiIhP0uDtJsaTWPajb9W7lbmvra8/8YS0/ent0fPCnua+Lv32re3aDqkYF8H7umxX133Zp9ANDw9Hy14t0W5IO3Nfll9muiqxFaI4p7hym18X/VrRquGM3duwc/HOKqsYtDCoMN2tqk7b4TK1rbdS/LqbFphjKhiImZYKJ9uxtYjBCsuJiIiI+CIFFtLoKXTtM0XZ/7vwSGGdntuxHE/ArW5W9pMI1pTa1lspft1NC8yB2hxT4SpwY6sF17OciIiIiC9SYCGNnkLXfm4L+39HJ0fX6bkdy7FbkTUw3FkLj7PUtt5K8etuWmDTWhUSUm3mdEt5SblZz3IiIiIivkiBhTRoCl0OguaVdXuRCZHmRJ9dl/hvS8eRHat0earC7inan9m+yiqOsWCAYrJIORzBTIfL1LUce8HUs3Wpn5XiN6VHitMUv/kH883zOu6HYzmSuyU7TdVbn22IKWUZMHEwurPt2MrBbFwsJyIiIuKLFFhIg6bQZarcgz8dNGMVcvfmmnsOjG55UkuTUYrjGJjliFfmy46VIf4Euyv3nPuizFYRMPx27p/UJQnZW7Mrt+E9x1gwexa7G/FEna0A7PpkpcONiInA4BmDq8xnYV8/1sf++fi4phS/PKHnoGv7bfi4plS99dmG2FrClLJh4WGmVYWtLnxNvOdjLh8wfYAGbouIiIjP0lmKNGiWq24TupmsSEw5Wzl/Q7dkczKd3CW5WnrdgdMHYsdX1eexCAkPQY8Lq85j4ZiS134eC7ZSmO5PbRNMUOFsHgtvpfh1Ny2wlUrWmseC7x+7P0UnRZugQqlmRURExJcpsJAGw3kitny2xXTp6XhmR9P1icECsxlxOU/qT7/19GrpdYfdNqzGmbddpeRlIMCUsvWZedtbKX7dTQvM4IEpZTXztoiIiPgbna1Ig6gyT0Sv4/NEmHVtbZXzRJx+y+lOByAziDjrybNqTMnrDIOIXhf3qldda3q+2tLuNvY2ZLXkiIiIiPgTjbGQBuHOPBEiIiIiEjgUWEiDcGeeCBEREREJHAospEG4M0+EiIiIiAQOBRbSINyZJ0JEREREAocGb0uDsOaJYGDBgdocU8HuT2ypYFDhbJ4IcT0Qvj5ZqzzdD/G+RacWte6Hc3LUN9OVN1+TiIiINB0FFtJg3JknQqqn7LXeP45J4fvHliAGbQ35/lXuZ+shhE4MxVcPfoWUrjXvZ/OczZVzc1TOUdI12UwI6GpuDm++JhEREWlaCiykQbkzT4QcPwFf9cwqk7KX2bU4EJ5jVvZ9v8+0BDFoa4gTcfv9JHRMQBGKENMipsb9MKhYcMsCMydJXMs4M+t5SUGJaZ3icnIWXHjrNYmIiEjT0xgLaXDWPBGtercy9woq6jkPSM9UM8kgZxLnPR9zOecBYbkG3c9vg+l572o/7P7ElgoGFUmdkyrqFl5RNz7m8tXPrjblmuI1iYiIiG9QYCESRPOAuLMfjqlg9ye2VISGVv3J4OPY1Fgc2XLElGuK1yQiIiK+QYGFSBDNA+LOfjhQm2Mq2P3J1TZcz3JN8ZpERETENyiwEAmieUDc2Q+zP3GgNsdUuNqG61muKV6TiIiI+AYFFiJBNA+IO/thSllmf8o/mI/y8qrjKPi4ILMAyd2STTlX+2K5wqxC06rBez7W3CYiIiKBxacDi3vuucf0xba/paenV64vLCzE9OnT0aJFC8THx+PCCy/EgQMHmrTOIp7MA8L5PphpqTC70AyG5j0fN9Q8INX2k1NolvPe1X44UJspZaMSo5C1PatK3fiYywdeN7DafBbWvjhgO+PDDGz9Yit+XfKruedjLtfcJiIiIoHD59PN9urVCwsWVKSzpPDw41W+6aab8Nlnn2HWrFlITEzEtddeiwsuuADffPNNE9VWxPfnAamyH85jgVAUHimscT9WKllrHgtmdGL3p9ReqSaoqGkeCxsqWkaqDOAOOb5cREREAoPPBxYMJFq3bl1teXZ2Nl599VXMnDkTI0eONMtee+019OjRAytXrsTgwYOboLYi/jEPiLWfw78cxjcbvsGw24fVOvM2g4duZ3Wr88zbVrpZW5kN6RekozinGKVFpQiPCkdkQqTJCMV0s6yHWi1ERET8n88HFlu2bMEJJ5yA6OhoDBkyBA899BDat2+PtWvXoqSkBKNHj64sy25SXLdixYoaA4uioiJzs+Tk5Jh7Ph9vgcx6fYH+Ov1dXJs48D8qLSsFyhpnP7FpscCGivu67idtUFrlv8tsZSYjlDMm3ezWQ2YSvpDwEEQlR4H/WZp1aIZDWw6Z4EbjLHyHfiPEno4HcaRjIviU1OOzDrE5juD0IZ9//jny8vLQvXt37Nu3D/feey/27NmDDRs24NNPP8VVV11VJUCggQMH4swzz8TDDz9c49gNPpcjtn7ExsY2ymsREREREfE3BQUFmDx5suktlJCQ4L+BhaOsrCx06NABTzzxBGJiYtwOLJy1WLRr1w6HDh2q9Q0LhKhz/vz5GDNmDCIinM8vIMGjMY8Htlh89eBXiGkR4zSlLAeMc2wHu2GpxcJ36DdC7Ol4EEc6JoJPTk4OUlJS6hRY+HxXKHtJSUk48cQTsXXrVnNAFxcXm2CDyy3MCuVsTIa9qKgoc3PEL0iwfEmC6bVK0xwPHLOR0jUF+77fh9SeqVUGb/N6Ru6OXDNgvLaxHdI09Bsh9nQ8iCMdE8Ejoh6fs0+nm3XEblHbtm1DWloa+vfvb17owoULK9dv3rwZO3fuNGMxRCQ4UuiKiIiIb/DpFou//vWvOPfcc033p7179+Luu+9GWFgYLr/8cpNedurUqZgxYwaSk5NN08x1111nggplhBIJrhS6IiIi0vR8OrDYvXu3CSIOHz6M1NRUnH766SaVLP9NTz75JEJDQ83EeBwzMW7cOLzwwgtNXW0RaYIUuiIiItK0fDqweOedd2pczxS0zz//vLmJiO9iEJHU8fhYKBEREQk8fjXGQkREREREfJMCCxERERER8ZgCCxERERER8ZgCCxERERER8ZgCCxERERER8ZgCCxERERER8ZgCCxERERER8ZgCCxERERER8ZgCCxERERER8ZgCCxERERER8ZgCCxERERER8Vi450/h/2w2m7nPyclBoCspKUFBQYF5rREREU1dHWliOh7EkY4JsafjQRzpmAg+Ob+dH1vnyzVRYAEgNzfX3Ldr166pqyIiIiIi4pPny4mJiTWWCbHVJfwIcOXl5di7dy+aNWuGkJAQBHrUyQBq165dSEhIaOrqSBPT8SCOdEyIPR0P4kjHRPCx2WwmqDjhhBMQGlrzKAq1WHCgSWgo2rZti2DCHwP9IIhFx4M40jEh9nQ8iCMdE8ElsZaWCosGb4uIiIiIiMcUWIiIiIiIiMcUWASZqKgo3H333eZeRMeDONIxIfZ0PIgjHRNSEw3eFhERERERj6nFQkREREREPKbAQkREREREPKbAQkREREREPKbAIgAtW7YM5557rpnIhBP+ffzxx1XWc1jNXXfdhbS0NMTExGD06NHYsmVLk9VXGtdDDz2EAQMGmAkgW7ZsiUmTJmHz5s1VyhQWFmL69Olo0aIF4uPjceGFF+LAgQNNVmdpXC+++CL69OlTmYd+yJAh+PzzzyvX63gIbv/617/M344bb7yxcpmOieByzz33mGPA/paenl65XseDuKLAIgDl5+fj5JNPxvPPP+90/SOPPIJnnnkGL730ElatWoW4uDiMGzfO/FBI4Fm6dKn5A7By5UrMnz8fJSUlGDt2rDlOLDfddBM+/fRTzJo1y5TnTPQXXHBBk9ZbGg8nBOXJ49q1a/Htt99i5MiRmDhxIn766SezXsdD8FqzZg3+/e9/m8DTno6J4NOrVy/s27ev8vb1119XrtPxIC4xK5QELn7EH330UeXj8vJyW+vWrW2PPvpo5bKsrCxbVFSU7e23326iWoo3HTx40BwXS5curfz8IyIibLNmzaoss2nTJlNmxYoVTVhT8abmzZvbXnnlFR0PQSw3N9fWrVs32/z5821nnHGG7YYbbjDLdUwEn7vvvtt28sknO12n40FqohaLIPPLL79g//79pvuT/TTtgwYNwooVK5q0buId2dnZ5j45Odnc86o1WzHsjwk2ebdv317HRBAoKyvDO++8Y1qw2CVKx0PwYsvmhAkTqnz2pGMiOLGLNLtUd+7cGb/73e+wc+dOs1zHg9QkvMa1EnAYVFCrVq2qLOdja50ErvLyctNveujQoTjppJPMMn7ukZGRSEpKqlJWx0Rg+/HHH00gwS6Q7CP90UcfoWfPnli3bp2OhyDE4PK7774zXaEc6Tci+PBi4+uvv47u3bubblD33nsvhg0bhg0bNuh4kBopsBAJsiuS/MNg31dWghNPGBhEsAXr/fffx5QpU0xfaQk+u3btwg033GDGYEVHRzd1dcQHjB8/vvLfHG/DQKNDhw547733TNIXEVfUFSrItG7d2tw7Zm/gY2udBKZrr70Wc+bMweLFi83gXQs/9+LiYmRlZVUpr2MisPGKY9euXdG/f3+TOYwJH55++mkdD0GIXVsOHjyIfv36ITw83NwYZDLJB//NK9E6JoIbWydOPPFEbN26Vb8RUiMFFkGmU6dO5ou/cOHCymU5OTkmOxS7RUjg4Rh+BhXs6rJo0SJzDNjjiWVERESVY4LpaNmfVsdEcHWTKyoq0vEQhEaNGmW6xrEFy7qdeuqppl+99W8dE8EtLy8P27ZtM2nq9RshNVFXqAD9AeBVBfsB2/zjwMG6HFzFPvYPPPAAunXrZk4y77zzTjNAi/MbSGB2f5o5cyZmz55t5rKw+sBy0D6btHk/depUzJgxwxwjnNfguuuuM38gBg8e3NTVl0Zw2223ma4O/D3Izc01x8eSJUvwxRdf6HgIQvxdsMZcWZiGnHMUWMt1TASXv/71r2Y+LHZ/YirZu+++G2FhYbj88sv1GyE1qzFnlPilxYsXm7RvjrcpU6ZUppy98847ba1atTJpZkeNGmXbvHlzU1dbGomzY4G31157rbLMsWPHbH/5y19MytHY2Fjb+eefb9u3b1+T1lsazx//+Edbhw4dbJGRkbbU1FTzG/Dll19WrtfxIPbpZknHRHC59NJLbWlpaeY3ok2bNubx1q1bK9freBBXQvi/WmIPERERERGRGmmMhYiIiIiIeEyBhYiIiIiIeEyBhYiIiIiIeEyBhYiIiIiIeEyBhYiIiIiIeEyBhYiIiIiIeEyBhYiIiIiIeEyBhYiIiIiIeEyBhYiIeOzXX39FSEgI1q1bB180YsQI3HjjjU1dDRGRgKbAQkQkiO3atQt//OMfccIJJyAyMhIdOnTADTfcgMOHD9fredq1a4d9+/bhpJNOQmO65557TADDW3h4ODp27IibbroJeXl5NW734Ycf4v7772/UuomIBDsFFiIiQWr79u049dRTsWXLFrz99tvYunUrXnrpJSxcuBBDhgzBkSNH6vxcYWFhaN26tTnZb2y9evUyQQxbSR5++GG8/PLLuPnmm52WLS4uNvfJyclo1qxZo9dNRCSYKbAQEQlS06dPN60UX375Jc444wy0b98e48ePx4IFC7Bnzx7cfvvtlWXZMvDPf/7TtG7wBJ1leUJfU1eopUuXYuDAgYiKikJaWhpuvfVWlJaWVumedP311+Pvf/+7OfFnYMIWidoweGHZtm3b4tJLL8Xvfvc7fPLJJ2Ydt+/bty9eeeUVdOrUCdHR0U67QhUVFeGWW24xLS2sX9euXfHqq69Wrt+wYYN5L+Lj49GqVSv84Q9/wKFDhzx6v0VEAp0CCxGRIMTWiC+++AJ/+ctfEBMTU2UdT9p5sv7uu+/CZrNVLn/88cdNC8f3339vtrvmmmuwefNmp8/PwOTss8/GgAED8MMPP+DFF180J+4PPPBAlXL//e9/ERcXh1WrVuGRRx7Bfffdh/nz59frtbD+VssEseXlgw8+MN2fXI35uOKKK0wrzTPPPINNmzbh3//+twkiKCsrCyNHjsQpp5yCb7/9FvPmzcOBAwdwySWX1KteIiLBpvHbrEVExOew+xODhh49ejhdz+VHjx5FZmYmWrZsaZYxUGBAQbza/+STT2Lx4sXo3r17te1feOEF0xrw3HPPmZaM9PR07N2712x31113ITS04rpWnz59cPfdd5t/d+vWzZRnV6wxY8bU6XWsXbsWM2fONIGAhUHGG2+8gdTUVKfb/Pzzz3jvvfdMADN69GizrHPnzpXrWQcGFWyhsfznP/8xr4fbnnjiiXWqm4hIsFFgISISxOxbJGrDIMDCYIEtGwcPHnRalq0AHKfBcpahQ4eaQda7d+82Xakcn5PYZcrVc1p+/PFH07pQVlZmgogJEyaYYMDCAeiuggpiKwbHhLD7lzNsYWHAZLVg2Nu2bZsCCxERFxRYiIgEIY4p4Ek/A4Dzzz+/2noub968eZUT9IiIiCpluH15eblH9XDnOdlCwjEVHGthZbOyx65VNXHs+uWIwc+5555rBoY7YuAjIiLOaYyFiEgQatGiheluxC5Lx44dq7Ju//79eOutt8zAaPsWh/pgV6oVK1ZUaRH55ptvzMBvDrr2BAMJBkYcUO4YVNRF7969TfDCweXO9OvXDz/99JN5fu7H/lZb0CIiEswUWIiIBCl2H2J2pHHjxmHZsmVmTgsOVGbA0aZNGzz44INuPzfHYvD5rrvuOmRkZGD27NlmLMWMGTMqx1c0FQYMU6ZMMRmuPv74Y/zyyy9YsmSJGXdhZcvi4PbLL78ca9asMd2fOND9qquuMt2vRETEOQUWIiJBioOlmfWIA5eZ8ahLly64+uqrceaZZ5rWBqaAdRcDk7lz52L16tU4+eST8ec//xlTp07FHXfcAV/ALFUXXXSRCYA4sHzatGnIz88369i9iq0rDCLGjh1rWjiYqjYpKanJgyIREV8WYqvPyD0REREREREndOlFREREREQ8psBCREREREQ8psBCREREREQ8psBCREREREQ8psBCREREREQ8psBCREREREQ8psBCREREREQ8psBCREREREQ8psBCREREREQ8psBCREREREQ8psBCREREREQ8psBCRERERETgqf8Pxfi1mmD1ttIAAAAASUVORK5CYII=",
=======
      "image/png": "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",
>>>>>>> 96a6dd0 (Statistics Added by Neo)
      "text/plain": [
       "<Figure size 800x500 with 1 Axes>"
      ]
     },
     "metadata": {},
     "output_type": "display_data"
    }
   ],
   "source": [
    "import matplotlib.pyplot as plt\n",
    "import numpy as np\n",
    "\n",
    "# Remove NaNs for fitting\n",
    "x = df_cleaned['Onion'].dropna()\n",
    "y = df_cleaned['Garlic'].dropna()\n",
    "# Align indices\n",
    "x, y = x.align(y, join='inner')\n",
    "\n",
    "# Calculate correlation\n",
    "correlation = df_cleaned['Onion'].corr(df_cleaned['Garlic'])\n",
    "print(f\"Correlation coefficient of Onion and Garlic: {correlation:.2f}\")\n",
    "\n",
    "# Scatter plot\n",
    "plt.figure(figsize=(8, 5))\n",
    "plt.scatter(x, y, alpha=0.5, color='purple')\n",
    "\n",
    "# Line of best fit\n",
    "coeffs = np.polyfit(x, y, 1)\n",
    "fit_fn = np.poly1d(coeffs)\n",
    "plt.plot(x, fit_fn(x), color='orange', linewidth=2)\n",
    "\n",
<<<<<<< HEAD
    "plt.xlabel('Onion Price')\n",
    "plt.ylabel('Garlic Price')\n",
=======
    "plt.xlabel('Onion Price INR')\n",
    "plt.ylabel('Garlic Price INR')\n",
>>>>>>> 96a6dd0 (Statistics Added by Neo)
    "plt.title('Onion vs Garlic Price Correlation with Best Fit line')\n",
    "plt.legend()\n",
    "plt.grid(True)\n",
    "plt.tight_layout()\n",
    "plt.show()"
   ]
  },
  {
<<<<<<< HEAD
=======
   "cell_type": "markdown",
   "id": "01016151-388b-45fd-9f70-1f85d886d526",
   "metadata": {},
   "source": [
    "* **Summary:** The strong positive correlation between onion and garlic price can be attributed to their shared dependence on similar storage, transportation, supply chain conditions and weather-related factors, leading to parallel price movements over time."
   ]
  },
  {
>>>>>>> 96a6dd0 (Statistics Added by Neo)
   "cell_type": "markdown",
   "id": "394adbd8",
   "metadata": {},
   "source": [
    "<h3>Price Spread</h3>\n",
    "<p>   • The range (max – min) among all vegetables on a given date widens during festivals due to supply surges.\n",
    "</p>"
   ]
  },
  {
   "cell_type": "markdown",
   "id": "10054653",
   "metadata": {},
   "source": [
    "<h3>Weekend Premium</3>"
   ]
  },
  {
   "cell_type": "markdown",
   "id": "b1f91b70",
   "metadata": {},
   "source": [
    "<p>   • Average modal prices across all veggies are 5–10% higher on weekends vs. weekdays.\n",
    "</p>"
   ]
  }
 ],
 "metadata": {
  "kernelspec": {
<<<<<<< HEAD
   "display_name": "sql_packages",
=======
   "display_name": "Python 3 (ipykernel)",
>>>>>>> 96a6dd0 (Statistics Added by Neo)
   "language": "python",
   "name": "python3"
  },
  "language_info": {
   "codemirror_mode": {
    "name": "ipython",
    "version": 3
   },
   "file_extension": ".py",
   "mimetype": "text/x-python",
   "name": "python",
   "nbconvert_exporter": "python",
   "pygments_lexer": "ipython3",
   "version": "3.12.9"
  }
 },
 "nbformat": 4,
 "nbformat_minor": 5
}
